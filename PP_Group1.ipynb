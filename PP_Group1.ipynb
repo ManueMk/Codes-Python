{
 "cells": [
  {
   "cell_type": "markdown",
   "id": "897bcd31-9c1e-485a-9471-63a5c0347da5",
   "metadata": {},
   "source": [
    "****\n",
    "\n",
    "# <center> <b> <span style=\"color:orange;\"> African Institute for Mathematical Sciences RWANDA  </span> </b></center>\n",
    "\n",
    "### <center> <b> <span style=\"color:green;\">PYTHON PROGRAMMING : Group Project </span> </b></center>"
   ]
  },
  {
   "cell_type": "markdown",
   "id": "8f18451f-1906-40fb-ad0f-537d9a096987",
   "metadata": {},
   "source": [
    "### <left> <b> <span style=\"color:blue;\">Presented by : </span> </b></left>\n",
    "\n",
    "- Gaudence IRADUKUNDA\n",
    "- OR-YANG Samuel\n",
    "- Corneille NIYONKURU\n",
    "- Manuella Kristeva NAKAM YOPDUP\n"
   ]
  },
  {
   "cell_type": "markdown",
   "id": "81029551-7200-4e74-9a8a-15ed00df25c7",
   "metadata": {
    "jp-MarkdownHeadingCollapsed": true
   },
   "source": [
    "### <center> <b> <span style=\"color:brown;\">Project 6. Hexadecimal and Decimal Digits. </span> </b></center>\n",
    "\n",
    "Write two functions, hex2int and int2hex, that convert between hexadecimal digits (0, 1, 2, 3,\n",
    "4, 5, 6, 7, 8, 9, A, B, C, D, E and F) and base 10 integers. The hex2int function is responsible for\n",
    "converting a string containing a single hexadecimal digit to a base 10 integer, while the int2hex\n",
    "function is responsible for converting an integer between 0 and 15 to a single hexadecimal digit.\n",
    "Each function will take the value to convert as its only parameter and return the converted\n",
    "value as the function’s only result. Ensure that the hex2int function works correctly for both\n",
    "uppercase and lowercase letters. Your functions should end the program with a meaningful error\n",
    "message if an invalid parameter is provided."
   ]
  },
  {
   "cell_type": "markdown",
   "id": "6a8ff322-0851-4ffe-bf78-8816492e8cda",
   "metadata": {},
   "source": [
    "### <center> <b> <span style=\"color:brown;\">Proposed methodology </span> </b></center>\n",
    "\n",
    "To solve this problem we will follow this steps: \n",
    "\n",
    "1. Define <b>int2hex function </b> responsible for converting a positive integer to its hexadecimal representation.\n",
    "2. Define <b>hex2int function </b> responsible for converting a string containing hexadecimal digits to a base 10 integer.\n",
    "3. Define a <b>menu</b> which will allow the user to choose which of the previous operations he will compute."
   ]
  },
  {
   "cell_type": "markdown",
   "id": "ad572176-ec85-4b0a-a312-0c789d04130d",
   "metadata": {},
   "source": [
    "### <center> <b> <span style=\"color:brown;\">1. int2hex function </span> </b></center>\n",
    "\n",
    "To convert a decimal into hexadecimal we have to follow these steps:\n",
    "\n",
    "1. Divide the number by 16.\n",
    "2. Get the integer quotient for the next iteration.\n",
    "3. Get the remainder for the hexadecimal digit.\n",
    "4. Repeat the steps until the quotient is equal to 0.\n",
    "5. Read the remainders in order from last to first to get the converted value\n",
    "\n",
    "We can implement it in python with this function:"
   ]
  },
  {
   "cell_type": "markdown",
   "id": "ba940848-bd96-47d3-b723-0263ed717efd",
   "metadata": {},
   "source": [
    "<b> Description: </b>\n",
    "\n",
    "The function first checks if the input string represents a positive integer.\n",
    "    \n",
    "If not, it returns an error message indicating that the input must be a positive integer.\n",
    "    \n",
    "If the input is valid and equal to zero, the function returns the string \"0\".\n",
    "    \n",
    "For positive integers:\n",
    "\n",
    "- The function repeatedly divides the integer by 16, capturing the remainder.\n",
    "- Each remainder corresponds to a hexadecimal digit, which is collected in reverse order.\n",
    "- Finally, the collected hexadecimal digits are reversed to present the correct order.\n",
    "\n",
    "The function return the conversion result ."
   ]
  },
  {
   "cell_type": "code",
   "execution_count": 6,
   "id": "b7a13213-5a03-4a2c-8b37-4ac87f0716a0",
   "metadata": {},
   "outputs": [
    {
     "name": "stdin",
     "output_type": "stream",
     "text": [
      " Enter the digits in base 10 to convert it into base 16:   5\n"
     ]
    },
    {
     "data": {
      "text/plain": [
       "' The number has to be positive integer'"
      ]
     },
     "execution_count": 6,
     "metadata": {},
     "output_type": "execute_result"
    }
   ],
   "source": [
    "def int2hex(Value):\n",
    "\n",
    "    \"\"\"\n",
    "    Convert a positive integer to its hexadecimal representation.\n",
    "\n",
    "    Parameters:\n",
    "    Value (str): A string representation of a positive integer.\n",
    "\n",
    "    Returns:\n",
    "    str: The hexadecimal representation of the integer if valid.\n",
    "         Returns an error message if the input is not a positive integer.\n",
    "\n",
    "    Raises:\n",
    "    ValueError: If the input is not a digit or is a negative integer.\n",
    "\n",
    "    Example:\n",
    "    >>> int2hex(\"255\")\n",
    "    \"FF\"\n",
    "\n",
    "    >>> int2hex(\"0\")\n",
    "    \"0\"\n",
    "\n",
    "    >>> int2hex(\"-10\")\n",
    "    \" The number has to be positive integer\"\n",
    "\n",
    "    >>> int2hex(\"abc\")\n",
    "    \" The number has to be positive integer\"\n",
    "\n",
    "    \"\"\"\n",
    "    \n",
    "    #val = Value # Save the decimal digits\n",
    "    Hex_value = '' # Initialize the result\n",
    "    Remainder = 0 # Initialize the remainder\n",
    "    Hexadecimal_list = \"0123456789ABCDEF\" #Define the hexadecimal list\n",
    "\n",
    "    # Checks if the input string represents a positive integer\n",
    "    if not Value.isdigit() or int(Value) < 0:\n",
    "        return \" The number has to be positive integer\"\n",
    "        \n",
    "    Value=int(Value) # Convert into integer before doing \n",
    "\n",
    "    # If the input is valid and equal to zero returns the string \"0\".\n",
    "    if Value==0:\n",
    "        return \"0\"\n",
    "\n",
    "    # For positive integers\n",
    "    while Value>0:\n",
    "        Remainder = Value%16 \n",
    "        Hex_value += Hexadecimal_list[Remainder] # Add the hexadecimal corresponding to the remainder\n",
    "        Value = Value//16 \n",
    "        \n",
    "    Hex_value = Hex_value[::-1]\n",
    "    #print(\"The conversion of integer to hexadecimal of (\", val, \")10 is (\", Hex_value, \")16\")\n",
    "    \n",
    "    return Hex_value\n",
    "\n",
    "x = input(\" Enter the digits in base 10 to convert it into base 16: \" )\n",
    "int2hex(x)"
   ]
  },
  {
   "cell_type": "markdown",
   "id": "fc0d145c-9ea6-4fdf-857f-b79a16c3534c",
   "metadata": {},
   "source": [
    "### <center> <b> <span style=\"color:brown;\">2. hex2int function </span> </b></center>\n",
    "\n",
    "To convert a hexadecimal into decimal we have to follow these steps:\n",
    "\n",
    "1. For hex number with n digits assign an index for each digit of the hexadecimal number:\n",
    "\n",
    "<b> d<sub>n-1</sub> ... d<sub>3</sub> d<sub>2</sub> d<sub>1</sub> d<sub>0</sub> </b>\n",
    "\n",
    "2. Multiply each digit of the hex number with its corresponding power of 16 and sum:\n",
    "\n",
    "<b> decimal = d<sub>n-1</sub>×16<sup>n-1</sup> + ... + d<sub>3</sub>×16<sup>3</sup> + d<sub>2</sub>×16<sup>2</sup> + d<sub>1</sub>×16<sup>1</sup> + d<sub>0</sub>×16<sup>0</sup> </b>\n",
    "\n",
    "\n",
    "We can implement it in python with this function:"
   ]
  },
  {
   "cell_type": "markdown",
   "id": "49530679-86c2-4c29-84b7-e63a303649f9",
   "metadata": {},
   "source": [
    "<b> Description: </b>\n",
    "\n",
    "The function iterates through each character in the input hexadecimal string.\n",
    "    \n",
    "It uses a dictionary `mapping` to convert each hexadecimal character to its integer equivalent.\n",
    "\n",
    "The integer value is then multiplied by 16 raised to the power of its position (from right to left), \n",
    "and accumulated in `int2hex_number`.  This implements the standard hexadecimal to decimal conversion algorithm.\n",
    "\n",
    "The function checks if the input string contains only valid hexadecimal characters before processing. If an invalid character is found, it returns an error message.\n",
    "  "
   ]
  },
  {
   "cell_type": "code",
   "execution_count": 11,
   "id": "5f1d5e79-dc9c-4599-b46e-a26b6f850327",
   "metadata": {},
   "outputs": [
    {
     "name": "stdout",
     "output_type": "stream",
     "text": [
      "Enter any hex value between 0 and 9 for digits and, A and F for alphabets:456af8\n"
     ]
    },
    {
     "data": {
      "text/plain": [
       "4549368"
      ]
     },
     "execution_count": 11,
     "metadata": {},
     "output_type": "execute_result"
    }
   ],
   "source": [
    "def hex2int(hex_value):\n",
    "\n",
    "    \"\"\"\n",
    "    Converts a hexadecimal string to its integer representation.\n",
    "\n",
    "    Parameters:\n",
    "        hex_value (str): A string representing a hexadecimal number.  Must contain only characters from '0123456789ABCDEF'.\n",
    "\n",
    "    Returns:\n",
    "        int: The integer representation of the hexadecimal input.\n",
    "             Returns an error message if the input is not a valid hexadecimal string.\n",
    "\n",
    "    Raises:\n",
    "        KeyError: If the input string contains characters not found in the hexadecimal mapping.\n",
    "\n",
    "    Examples:\n",
    "        >>> hex2int(\"FF\")\n",
    "        255\n",
    "        >>> hex2int(\"100\")\n",
    "        256\n",
    "        >>> hex2int(\"G\") \n",
    "        ' The number has to be hexadecimal'\n",
    "\n",
    "      \"\"\"\n",
    "    hex_value = hex_value.upper() # Converts the input in uppercase\n",
    "    mapping={'0':0,'1':1,'2':2,'3':3,'4':4,'5':5,'6':6,'7':7,'8':8,'9':9,'A':10,'B':11,'C':12,'D':13,'E':14,'F':15}\n",
    "    Hexadecimal_list = \"0123456789ABCDEF\" #Define the hexadecimal list\n",
    "\n",
    "    # Checks if the input string represents a hexadecimal\n",
    "    for i in hex_value:\n",
    "        if i not in Hexadecimal_list:\n",
    "            return \" The number has to be hexadecimal\"\n",
    "    \n",
    "    exponent = len(hex_value)-1\n",
    "    int_value = 0\n",
    "    for i in hex_value:\n",
    "        int_value+=mapping[i]*16**(exponent)\n",
    "        exponent-=1\n",
    "    return int_value\n",
    "\n",
    "\n",
    "hex_value=input('Enter any hex value between 0 and 9 for digits and, A and F for alphabets:')\n",
    "hex2int(hex_value)\n"
   ]
  },
  {
   "cell_type": "markdown",
   "id": "f0c16b7c-4155-487c-8daa-e9c5b4f073ad",
   "metadata": {},
   "source": [
    "### <center> <b> <span style=\"color:brown;\">3. Menu function </span> </b></center>\n",
    "\n",
    "The function offers three options to the user.\n",
    "\n",
    "<b>Options: </b>\n",
    "- 1: Convert a positive integer to its hexadecimal representation.\n",
    "- 2: Convert a hexadecimal string to its integer representation.\n",
    "- Order key: Exit the program.\n",
    "\n",
    "\n",
    "We can implement it in python with this function:"
   ]
  },
  {
   "cell_type": "code",
   "execution_count": 12,
   "id": "d741ac7d-e886-4853-ab70-980fad316451",
   "metadata": {
    "jp-MarkdownHeadingCollapsed": true
   },
   "outputs": [
    {
     "name": "stdout",
     "output_type": "stream",
     "text": [
      "\n",
      "        1: Convert a positive integer to its hexadecimal representation;\n",
      "        2: Convert a hexadecimal string to its integer representation;\n",
      "        Order key: Exit \n",
      "        Choose an option(1/2):  1\n",
      "\n",
      " ----------------------------------------------------------------------------------\n",
      " Enter the digits in base 10 to convert it into base 16: 7895\n",
      "\n",
      " The conversion of integer to hexadecimal of ( 7895 )10 is ( 1ED7 )16\n",
      " ---------------------------------------------------------------------------------- \n",
      "\n",
      "\n",
      "        1: Convert a positive integer to its hexadecimal representation;\n",
      "        2: Convert a hexadecimal string to its integer representation;\n",
      "        Order key: Exit \n",
      "        Choose an option(1/2):  2\n",
      "\n",
      " ----------------------------------------------------------------------------------\n",
      "Enter any hex value between 0 and 9 for digits and, A and F for alphabets:79aeb5\n",
      "\n",
      " The conversion of hexadecimal to decimal of ( 79aeb5 )16 is ( 7974581 )10\n",
      "----------------------------------------------------------------------------------\n",
      "\n",
      "\n",
      "        1: Convert a positive integer to its hexadecimal representation;\n",
      "        2: Convert a hexadecimal string to its integer representation;\n",
      "        Order key: Exit \n",
      "        Choose an option(1/2):  t\n"
     ]
    }
   ],
   "source": [
    "def Menu():\n",
    "\n",
    "    \"\"\"\n",
    "    The function offers three options to the user.\n",
    "\n",
    "    Options:\n",
    "    - 1: Convert a positive integer to its hexadecimal representation.\n",
    "    - 2: Convert a hexadecimal string to its integer representation.\n",
    "    - Order key: Exit the program.\n",
    "\n",
    "    The function performs the following actions:\n",
    "    - If option 1 is selected, for `int2hex` function.\n",
    "    - If option 2 is selected, for the `hex2int` function.\n",
    "    - else, the program exits.\n",
    "\n",
    "    Returns:\n",
    "    - None\n",
    "    \"\"\"\n",
    "    \n",
    "    exit = False\n",
    "    \n",
    "    while exit == False :\n",
    "        choice = input(\"\"\"\n",
    "        1: Convert a positive integer to its hexadecimal representation;\n",
    "        2: Convert a hexadecimal string to its integer representation;\n",
    "        Order key: Exit \n",
    "        Choose an option(1/2):  \"\"\")\n",
    "\n",
    "        if choice == \"1\":\n",
    "            print(\"\\n ----------------------------------------------------------------------------------\")\n",
    "            val = str(input(\" Enter the digits in base 10 to convert it into base 16: \" ))\n",
    "            print(\"\\n The conversion of integer to hexadecimal of (\", val, \")10 is (\", int2hex(val), \")16\")\n",
    "            print(\" ---------------------------------------------------------------------------------- \\n\")\n",
    "            \n",
    "\n",
    "        elif choice == \"2\":\n",
    "            print(\"\\n ----------------------------------------------------------------------------------\")\n",
    "            hex_value=input('Enter any hex value between 0 and 9 for digits and, A and F for alphabets:')\n",
    "            print(\"\\n The conversion of hexadecimal to decimal of (\", hex_value, \")16 is (\", hex2int(hex_value), \")10\")\n",
    "            print(\"----------------------------------------------------------------------------------\\n\")\n",
    "\n",
    "\n",
    "        else:\n",
    "            exit = True\n",
    "            \n",
    "        \n",
    "        \n",
    "Menu()"
   ]
  }
 ],
 "metadata": {
  "kernelspec": {
   "display_name": "Python 3 (ipykernel)",
   "language": "python",
   "name": "python3"
  },
  "language_info": {
   "codemirror_mode": {
    "name": "ipython",
    "version": 3
   },
   "file_extension": ".py",
   "mimetype": "text/x-python",
   "name": "python",
   "nbconvert_exporter": "python",
   "pygments_lexer": "ipython3",
   "version": "3.8.10"
  }
 },
 "nbformat": 4,
 "nbformat_minor": 5
}

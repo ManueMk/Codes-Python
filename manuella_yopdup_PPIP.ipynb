{
 "cells": [
  {
   "cell_type": "markdown",
   "id": "1a0af556-e011-4d57-9e2d-d700beafabb1",
   "metadata": {},
   "source": [
    "****\n",
    "\n",
    "# <center> <b> <span style=\"color:orange;\"> African Institute for Mathematical Sciences RWANDA  </span> </b></center>\n",
    "\n",
    "### <center> <b> <span style=\"color:green;\">PYTHON PROGRAMMING : Individual Project </span> </b></center>"
   ]
  },
  {
   "cell_type": "markdown",
   "id": "2fe8279f-a81d-4994-b285-257e26e25369",
   "metadata": {},
   "source": [
    "### <left> <b> <span style=\"color:blue;\">Presented by : </span> </b></left>  Manuella Kristeva NAKAM YOPDUP\n"
   ]
  },
  {
   "cell_type": "markdown",
   "id": "a5841645-1bcf-45e0-a641-c3772e045f8f",
   "metadata": {},
   "source": [
    "#\n",
    "\n",
    "### <center> <b> <span style=\"color:brown;\">Multiprocessing — Process-based parallelism </span> </b></center>"
   ]
  },
  {
   "cell_type": "markdown",
   "id": "53c68093-c4ae-4e5d-9e37-372a87bd2a41",
   "metadata": {},
   "source": [
    "Python's multiprocessing module is a library that allows you to run tasks concurrently using multiple processes.\n",
    "\n",
    "It is used to:\n",
    "\n",
    "- Reduce execution time for large calculations\n",
    "\n",
    "- Run parallel tasks, thereby improving program performance, especially for tasks that require a lot of computation.\n",
    "- Take advantage of multicore architectures by allowing multiple processes to run simultaneously.\n",
    "- Manage independent tasks that can be run in parallel without interfering with each other."
   ]
  },
  {
   "cell_type": "markdown",
   "id": "b3de39bd-aac9-4848-be4f-3d7c4ab7c30c",
   "metadata": {},
   "source": [
    "## How to use it?\n",
    "\n",
    "The multiprocessing module is included in the Python standard library. To use it, simply import the module as follows:"
   ]
  },
  {
   "cell_type": "code",
   "execution_count": 9,
   "id": "b7514193-5846-40e9-8313-82c65901d6c0",
   "metadata": {},
   "outputs": [],
   "source": [
    "from multiprocessing import *"
   ]
  },
  {
   "cell_type": "markdown",
   "id": "97635505-cb86-465e-bec3-066810d71fa8",
   "metadata": {},
   "source": [
    "The multiprocessing module also presents APIs that have no analogues in threading. Pool is one of these APIs and provides a convenient way to parallelize the execution of a function on multiple input values, by distributing the input data across multiple processes (data parallelism).\n"
   ]
  },
  {
   "cell_type": "markdown",
   "id": "31f3d5a8-6603-4b02-84eb-012856b51e02",
   "metadata": {},
   "source": [
    "Before distributing operations between threads, it is important to know the number of threads on our machine."
   ]
  },
  {
   "cell_type": "code",
   "execution_count": 16,
   "id": "b7939d7f-4081-4c37-9062-e319e0f4886d",
   "metadata": {},
   "outputs": [
    {
     "name": "stdout",
     "output_type": "stream",
     "text": [
      "Number of cpu :  4\n"
     ]
    }
   ],
   "source": [
    "import multiprocessing\n",
    "\n",
    "print(\"Number of cpu : \", multiprocessing.cpu_count())"
   ]
  },
  {
   "cell_type": "markdown",
   "id": "415700e3-5380-4641-a9de-c833d56640b1",
   "metadata": {},
   "source": [
    "Multiprocessing offers many modules that each have a specific role.\n",
    "\n",
    "## Pool function\n",
    "\n",
    "- Pool() : which offers a convenient way to parallelize the execution of a function on multiple input values, by distributing the input data across multiple processes (data parallelism).\n",
    "\n",
    "As we can see from the following example:"
   ]
  },
  {
   "cell_type": "code",
   "execution_count": 19,
   "id": "ec496651-dbb0-47c1-987f-035d4912b5f3",
   "metadata": {},
   "outputs": [
    {
     "name": "stdout",
     "output_type": "stream",
     "text": [
      "[-1, 0, 3, 48, 80]\n"
     ]
    }
   ],
   "source": [
    "\n",
    "def f(x):\n",
    "    return x*x -2*x\n",
    "\n",
    "if __name__ == '__main__':\n",
    "\n",
    "    \n",
    "    with Pool(3) as p:\n",
    "        print(p.map(f, [1, 2, 3, 8,10]))\n"
   ]
  },
  {
   "cell_type": "markdown",
   "id": "d2d6b99d-ca69-4adf-a5bc-af07a9e5b622",
   "metadata": {},
   "source": [
    "In this code, the function f(x) is calculated in parallel for the inputs [1, 2, 3, 8,10]"
   ]
  },
  {
   "cell_type": "markdown",
   "id": "674ae756-8f61-47ad-a1d6-90fa714f6d14",
   "metadata": {},
   "source": [
    "## Computes the time"
   ]
  },
  {
   "cell_type": "markdown",
   "id": "8fa06ffa-1d7f-4915-9291-419b0933e31d",
   "metadata": {},
   "source": [
    "We have seen that one of the benefits of multiprocessing is the reduction of execution time. So we will try to verify this by calculating the execution time of our function sequentially and in parallel."
   ]
  },
  {
   "cell_type": "code",
   "execution_count": 47,
   "id": "ba6d36b6-6364-4e31-b693-19c71e2bc192",
   "metadata": {},
   "outputs": [
    {
     "name": "stdout",
     "output_type": "stream",
     "text": [
      "[-1, 0, 3, 48, 80]\n",
      "Execution time: 7.104873657226562e-05 seconds\n"
     ]
    }
   ],
   "source": [
    "#sequential code\n",
    "\n",
    "import time\n",
    "\n",
    "def f(x):\n",
    "    return x*x -2*x\n",
    "\n",
    "if __name__ == '__main__':\n",
    "    # Début du chronométrage\n",
    "    start_time = time.time()\n",
    "\n",
    "    # Exécution des calculs sans parallélisation\n",
    "    results = [f(x) for x in [1, 2, 3, 8,10]]\n",
    "\n",
    "    # Fin du chronométrage\n",
    "    end_time = time.time()\n",
    "\n",
    "    # Affichage des résultats et du temps d'exécution\n",
    "    print(results)  # Affiche : [1, 4, 9]\n",
    "    print(f'Execution time: {end_time - start_time} seconds')"
   ]
  },
  {
   "cell_type": "code",
   "execution_count": 48,
   "id": "94db0834-17d0-4ba8-96c0-5a7467531d2e",
   "metadata": {},
   "outputs": [
    {
     "name": "stdout",
     "output_type": "stream",
     "text": [
      "[-1, 0, 3, 48, 80]\n",
      "Execution time: 0.03745007514953613 seconds\n"
     ]
    }
   ],
   "source": [
    "#code parrallele\n",
    "\n",
    "import time\n",
    "\n",
    "def f(x):\n",
    "    return x*x -2*x\n",
    "\n",
    "if __name__ == '__main__':\n",
    "\n",
    "    start_time = time.time()\n",
    "    \n",
    "    with Pool(2) as p:\n",
    "        print(p.map(f, [1, 2, 3, 8,10]))\n",
    "\n",
    "    end_time = time.time()\n",
    "\n",
    "    print(f'Execution time: {end_time - start_time} seconds')\n"
   ]
  },
  {
   "cell_type": "code",
   "execution_count": 49,
   "id": "83ae6f95-452c-4ac4-8bc4-f50917efe09e",
   "metadata": {},
   "outputs": [
    {
     "name": "stdout",
     "output_type": "stream",
     "text": [
      "[-1, 0, 3, 48, 80]\n",
      "Execution time: 0.09272241592407227 seconds\n"
     ]
    }
   ],
   "source": [
    "#code parrallele\n",
    "\n",
    "import time\n",
    "\n",
    "def f(x):\n",
    "    return x*x -2*x\n",
    "\n",
    "if __name__ == '__main__':\n",
    "\n",
    "    start_time = time.time()\n",
    "    \n",
    "    with Pool(4) as p:\n",
    "        print(p.map(f, [1, 2, 3, 8,10]))\n",
    "\n",
    "    end_time = time.time()\n",
    "\n",
    "    print(f'Execution time: {end_time - start_time} seconds')\n"
   ]
  },
  {
   "cell_type": "markdown",
   "id": "390b11a5-af85-4947-9e4b-6bb578126b01",
   "metadata": {},
   "source": [
    "We find that when the data is not much the parallelization increases the execution time so parallelization is not advantageous in the case of small data."
   ]
  },
  {
   "cell_type": "markdown",
   "id": "4c52acf6-ba7b-4f38-970d-a988f1176d86",
   "metadata": {},
   "source": [
    "## Start and join functions"
   ]
  },
  {
   "cell_type": "markdown",
   "id": "468cdd74-8e73-435f-bb99-0418783a370d",
   "metadata": {},
   "source": [
    "start() and join() are generally use together :\n",
    "- start() : to instantiate a process object. \n",
    "- join() : to tell the process to complete otherwise, the process will remain idle and won’t terminate."
   ]
  },
  {
   "cell_type": "code",
   "execution_count": 50,
   "id": "46346cd8-5b80-433b-a1d1-10766af1ab9c",
   "metadata": {},
   "outputs": [
    {
     "name": "stdout",
     "output_type": "stream",
     "text": [
      "Hello bob sponge\n"
     ]
    }
   ],
   "source": [
    "from multiprocessing import Process\n",
    "\n",
    "def f(name, firstname):\n",
    "    print('Hello', name, firstname)\n",
    "\n",
    "if __name__ == '__main__':\n",
    "    p = Process(target=f, args=('bob','sponge',))\n",
    "    p.start()\n",
    "    p.join()\n"
   ]
  },
  {
   "cell_type": "markdown",
   "id": "36231fdc-17a8-4d4b-9c88-37bf618cce1d",
   "metadata": {},
   "source": [
    "This code shows how to create and run a process in Python using the Process class:\n",
    "\n",
    "- A function f is defined to greet a first and last name.\n",
    "- A process is created to run this function with specific arguments.\n",
    "- The process is started and the main script waits for it to finish."
   ]
  },
  {
   "cell_type": "markdown",
   "id": "01af2dee-0951-49eb-878e-6d0d3028b6f6",
   "metadata": {},
   "source": [
    "## Process identifier"
   ]
  },
  {
   "cell_type": "markdown",
   "id": "e51d6a06-5fe1-44f3-8b43-b25e6a0f7275",
   "metadata": {},
   "source": [
    "Every process (except process 0) has one parent process, but can have many child processes. Each process is represent by an identifier given by the operating system kernel.\n",
    "\n",
    "The following code allows us to se the parent id of an process and the process id ."
   ]
  },
  {
   "cell_type": "code",
   "execution_count": 1,
   "id": "7a71d058-d000-43b3-8d4f-9254e5c8ca0e",
   "metadata": {},
   "outputs": [
    {
     "name": "stdout",
     "output_type": "stream",
     "text": [
      "main line\n",
      "module name: __main__\n",
      "parent process: 4539\n",
      "process id: 4773\n",
      "function f\n",
      "module name: __main__\n",
      "parent process: 4773\n",
      "process id: 4971\n",
      "hello bob\n"
     ]
    }
   ],
   "source": [
    "from multiprocessing import Process\n",
    "import os\n",
    "\n",
    "def info(title):\n",
    "    print(title)\n",
    "    print('module name:', __name__)\n",
    "    print('parent process:', os.getppid())\n",
    "    print('process id:', os.getpid())\n",
    "\n",
    "def f(name):\n",
    "    info('function f')\n",
    "    print('hello', name)\n",
    "\n",
    "if __name__ == '__main__':\n",
    "    info('main line')\n",
    "    p = Process(target=f, args=('bob',))\n",
    "    p.start()\n",
    "    p.join()"
   ]
  },
  {
   "cell_type": "markdown",
   "id": "e11b900f-887d-4690-9310-01b08fc680f3",
   "metadata": {},
   "source": [
    "This code shows how to use the multiprocessing module to create a child process and get information about processes: \n",
    "- The info function provides information about the current process and its parent.\n",
    "- The f function is executed in a new process, which prints information and a greeting message.\n",
    "\n",
    "- The main process waits for the secondary process to finish before terminating itself."
   ]
  },
  {
   "cell_type": "markdown",
   "id": "087d62f8-914b-460d-9078-74ef2e8f5b0a",
   "metadata": {},
   "source": [
    "## Types of communication channels between processes"
   ]
  },
  {
   "cell_type": "markdown",
   "id": "ec27d2fb-0261-4408-82c1-864ca610894d",
   "metadata": {},
   "source": [
    "Multiprocessing supports two types of communication channels between processes:\n",
    "\n",
    "-  Queue() function: allows efficient communication between processes while maintaining the isolation of their memory spaces.\n",
    "-  Pipe() function: allows you to create a communication channel between two processes. It creates a pipe object that consists of two ends (or \"connections\"): one to send data and the other to receive it."
   ]
  },
  {
   "cell_type": "markdown",
   "id": "85e0e771-ebbb-4b55-9eca-3fdda7d96ac4",
   "metadata": {},
   "source": [
    "### Queue function"
   ]
  },
  {
   "cell_type": "code",
   "execution_count": 4,
   "id": "6ef1401d-10c2-48ae-8f13-f3f2927f5512",
   "metadata": {},
   "outputs": [
    {
     "name": "stdout",
     "output_type": "stream",
     "text": [
      "[42, None, 'hello']\n"
     ]
    }
   ],
   "source": [
    "from multiprocessing import Process, Queue\n",
    "\n",
    "def f(q):\n",
    "    q.put([42, None, 'hello'])\n",
    "\n",
    "if __name__ == '__main__':\n",
    "    q = Queue()\n",
    "    p = Process(target=f, args=(q,))\n",
    "    p.start()\n",
    "    print(q.get())    # prints \"[42, None, 'hello']\"\n",
    "    p.join()"
   ]
  },
  {
   "cell_type": "markdown",
   "id": "1b2dd907-3c1b-4a74-ae4d-51b3f6f0364a",
   "metadata": {},
   "source": [
    "This code demonstrates how to use Queue to send data from a child process to the main process. The child process executes the function f, which places a list on the queue. The main process then retrieves this list and displays it. This method is useful for interprocess communication, allowing data to be shared securely and efficiently."
   ]
  },
  {
   "cell_type": "markdown",
   "id": "82113562-35a1-4cdd-be3b-634351905650",
   "metadata": {},
   "source": [
    "### Pipe function"
   ]
  },
  {
   "cell_type": "code",
   "execution_count": 5,
   "id": "7daa9b10-3350-4bf3-b737-f46dec2914c0",
   "metadata": {},
   "outputs": [
    {
     "name": "stdout",
     "output_type": "stream",
     "text": [
      "[42, None, 'hello']\n"
     ]
    }
   ],
   "source": [
    "from multiprocessing import Process, Pipe\n",
    "\n",
    "def f(conn):\n",
    "    conn.send([42, None, 'hello'])\n",
    "    conn.close()\n",
    "\n",
    "if __name__ == '__main__':\n",
    "    parent_conn, child_conn = Pipe()\n",
    "    p = Process(target=f, args=(child_conn,))\n",
    "    p.start()\n",
    "    print(parent_conn.recv())   # prints \"[42, None, 'hello']\"\n",
    "    p.join()"
   ]
  },
  {
   "cell_type": "markdown",
   "id": "2b0bc58d-c427-45ce-b400-d8bf71279de3",
   "metadata": {},
   "source": [
    "This code shows how to use Pipe to send data from a child process to the main process. The child process executes the function f, which sends a list through the pipe. The main process receives this list and displays it. This method is useful for interprocess communication, ensuring efficient data transmission."
   ]
  },
  {
   "cell_type": "markdown",
   "id": "4ab66d84-6ae2-4e07-acc9-95e910d81e1d",
   "metadata": {},
   "source": [
    "## lock function\n",
    "\n",
    "A lock is a synchronization mechanism used in concurrent programming to control access to a shared resource between multiple threads or processes. Using a lock helps prevent race conditions, where multiple threads or processes attempt to access or modify a resource at the same time, which can lead to undefined results or errors."
   ]
  },
  {
   "cell_type": "code",
   "execution_count": 6,
   "id": "d36b080e-2928-46c5-9c3e-ff6e5daedba7",
   "metadata": {},
   "outputs": [
    {
     "name": "stdout",
     "output_type": "stream",
     "text": [
      "hello world 0\n",
      "hello world1 \n",
      "hello world 2\n",
      "hello world 3\n",
      "hello world 4\n",
      "hello world 5\n",
      "hello world 6\n",
      "hello world 7\n",
      "hello world 8\n",
      "hello world 9\n"
     ]
    }
   ],
   "source": [
    "from multiprocessing import Process, Lock\n",
    "\n",
    "def f(l, i):\n",
    "    l.acquire()\n",
    "    try:\n",
    "        print('hello world', i)\n",
    "    finally:\n",
    "        l.release()\n",
    "\n",
    "if __name__ == '__main__':\n",
    "    lock = Lock()\n",
    "\n",
    "    for num in range(10):\n",
    "        Process(target=f, args=(lock, num)).start()"
   ]
  },
  {
   "cell_type": "markdown",
   "id": "d500a79f-2ce3-4948-95b4-9dca00bcc95c",
   "metadata": {},
   "source": [
    "This code demonstrates the use of a lock to synchronize access to a shared resource (the terminal, in this case) between multiple processes. With this lock, only one process at a time can print its message, preventing concurrent output that could make the output difficult to read. This ensures that each \"hello world\" message is printed in an orderly manner."
   ]
  },
  {
   "cell_type": "markdown",
   "id": "abaef454-eff6-4b4f-afd7-43aa30948f81",
   "metadata": {},
   "source": [
    "## Process, Value, Array\n",
    "\n",
    "- The Process class allows you to create and manage parallel processes. Each process runs in its own memory space, making it isolated from the others.\n",
    "- The Value class allows you to create variables that are shared between multiple processes. This is useful for storing simple values ​​(such as numbers or strings) that need to be accessible and modifiable by multiple processes.\n",
    "- The Array class allows you to create shared arrays that can contain elements of specific types. This is useful for sharing lists of data between multiple processes."
   ]
  },
  {
   "cell_type": "code",
   "execution_count": 52,
   "id": "9a7b59c3-6ae3-4565-8942-dc381240f5d3",
   "metadata": {},
   "outputs": [
    {
     "name": "stdout",
     "output_type": "stream",
     "text": [
      "3.1415927\n",
      "[0, -1, -2, -3, -4, -5, -6, -7, -8, -9]\n"
     ]
    }
   ],
   "source": [
    "from multiprocessing import Process, Value, Array\n",
    "\n",
    "def f(n, a):\n",
    "    n.value = 3.1415927\n",
    "    for i in range(len(a)):\n",
    "        a[i] = -a[i]\n",
    "\n",
    "if __name__ == '__main__':\n",
    "    num = Value('d', 0.0)\n",
    "    arr = Array('i', range(10))\n",
    "\n",
    "    p = Process(target=f, args=(num, arr))\n",
    "    p.start()\n",
    "    p.join()\n",
    "\n",
    "    print(num.value)\n",
    "    print(arr[:])"
   ]
  },
  {
   "cell_type": "markdown",
   "id": "2376386f-b7d8-4956-89db-ea7840cd8ac3",
   "metadata": {},
   "source": [
    "This code shows how to use Value and Array to share data between a main process and a child process.\n",
    "This illustrates how objects of type Value and Array can be used to manage data shared securely between multiple processes."
   ]
  },
  {
   "cell_type": "markdown",
   "id": "2be76fd5-8f5f-4780-b0f4-6b72c81d1f2d",
   "metadata": {},
   "source": [
    "## Process, Manager\n",
    "\n",
    "- The Process class allows you to create and manage parallel processes. Each process runs in a separate memory space, making it isolated from the others.\n",
    "\n",
    "- The Manager class allows you to create objects that can be shared between multiple processes, such as dictionaries, lists, etc. This makes it easier to communicate and share data between processes."
   ]
  },
  {
   "cell_type": "code",
   "execution_count": 8,
   "id": "57891f16-8860-407c-bc6c-b61c57c96e52",
   "metadata": {},
   "outputs": [
    {
     "name": "stdout",
     "output_type": "stream",
     "text": [
      "{1: '1', '2': 2, 0.25: None}\n",
      "[9, 8, 7, 6, 5, 4, 3, 2, 1, 0]\n"
     ]
    }
   ],
   "source": [
    "from multiprocessing import Process, Manager\n",
    "\n",
    "def f(d, l):\n",
    "    d[1] = '1'\n",
    "    d['2'] = 2\n",
    "    d[0.25] = None\n",
    "    l.reverse()\n",
    "\n",
    "if __name__ == '__main__':\n",
    "    with Manager() as manager:\n",
    "        d = manager.dict()\n",
    "        l = manager.list(range(10))\n",
    "\n",
    "        p = Process(target=f, args=(d, l))\n",
    "        p.start()\n",
    "        p.join()\n",
    "\n",
    "        print(d)\n",
    "        print(l)"
   ]
  },
  {
   "cell_type": "markdown",
   "id": "22d6d743-2ae5-426e-afb9-71050dd8a16d",
   "metadata": {},
   "source": [
    "This code illustrates how to use a Manager to create shared objects between processes in Python. It shows how to use shared data structures to facilitate communication and coordination between multiple processes."
   ]
  },
  {
   "cell_type": "markdown",
   "id": "437e15e2-739c-4b02-9fb0-24bd81771161",
   "metadata": {},
   "source": [
    "## Multiple processes with processes"
   ]
  },
  {
   "cell_type": "code",
   "execution_count": 46,
   "id": "4d9c9d6a-3136-4ff7-879a-7f0cb3a31b54",
   "metadata": {},
   "outputs": [
    {
     "name": "stdout",
     "output_type": "stream",
     "text": [
      " The name of food is :  The name of food is :   The name of food is :   The name of food is : TomatoRice \n",
      " The name of food is : \n",
      " cocoyam plantain\n",
      "\n",
      "Groundnuts\n"
     ]
    }
   ],
   "source": [
    "from multiprocessing import Process\n",
    "\n",
    "\n",
    "def print_func(foods='Rice'):\n",
    "    print(' The name of food is : ', foods)\n",
    "\n",
    "if __name__ == \"__main__\":  # confirms that the code is under main function\n",
    "    names = ['Tomato', 'Groundnuts', 'cocoyam', 'plantain']\n",
    "    procs = []\n",
    "    proc = Process(target=print_func)  # instantiating without any argument\n",
    "    procs.append(proc)\n",
    "    proc.start()\n",
    "\n",
    "    # instantiating process with arguments\n",
    "    for name in names:\n",
    "        # print(name)\n",
    "        proc = Process(target=print_func, args=(name,))\n",
    "        procs.append(proc)\n",
    "        proc.start()\n",
    "\n",
    "    # complete the processes\n",
    "    for proc in procs:\n",
    "        proc.join()"
   ]
  },
  {
   "cell_type": "markdown",
   "id": "b33c8860-d15e-4ec1-8cb7-e89358e2b84f",
   "metadata": {},
   "source": [
    "This code demonstrates how to create and manage multiple processes in Python:\n",
    "\n",
    "- A process is created to print the default food ('Rice').\n",
    "- Other processes are created to print the foods specified in the list ('Tomato', 'Groundnuts', 'cocoyam', 'plantain').\n",
    "- All processes are started and the script waits for them to complete."
   ]
  },
  {
   "cell_type": "markdown",
   "id": "81b08e39-84ad-48dc-b957-290509cc6cc6",
   "metadata": {},
   "source": [
    "# Conclusion \n",
    "\n",
    "The multiprocessing module in Python allows you to create programs that use multiple processes to execute tasks in parallel. This is particularly useful for taking advantage of multi-core architectures and improving the performance of CPU-bound applications."
   ]
  },
  {
   "cell_type": "markdown",
   "id": "9ac34667-1ce7-4043-8d6f-124bcb48981a",
   "metadata": {},
   "source": [
    "# References\n",
    "\n",
    "- https://docs.python.org/3/library/multiprocessing.html\n",
    "- https://www.digitalocean.com/community/tutorials/python-multiprocessing-example"
   ]
  }
 ],
 "metadata": {
  "kernelspec": {
   "display_name": "Python 3 (ipykernel)",
   "language": "python",
   "name": "python3"
  },
  "language_info": {
   "codemirror_mode": {
    "name": "ipython",
    "version": 3
   },
   "file_extension": ".py",
   "mimetype": "text/x-python",
   "name": "python",
   "nbconvert_exporter": "python",
   "pygments_lexer": "ipython3",
   "version": "3.8.10"
  }
 },
 "nbformat": 4,
 "nbformat_minor": 5
}

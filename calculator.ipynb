{
 "cells": [
  {
   "cell_type": "code",
   "execution_count": 2,
   "id": "94dc14bd-f903-43f5-817f-8f65ca72b3db",
   "metadata": {
    "scrolled": true
   },
   "outputs": [
    {
     "name": "stdin",
     "output_type": "stream",
     "text": [
      " Enter the digits to do your conversion to bass 16: 38087\n"
     ]
    },
    {
     "name": "stdout",
     "output_type": "stream",
     "text": [
      "The digits 38087 in base 16 is 94C7\n"
     ]
    }
   ],
   "source": [
    "\n",
    "def int2hex(par):\n",
    "    hex_num=''\n",
    "    while (par!=0):\n",
    "        r=par%16\n",
    "        if int(r)==10:\n",
    "            hex_num+='A'\n",
    "        elif int(r)==11:\n",
    "            hex_num+='B'\n",
    "        elif int(r)==12:\n",
    "            hex_num+='C'\n",
    "        elif int(r)==13:\n",
    "            hex_num+='D'\n",
    "        elif int(r)==14:\n",
    "            hex_num+='E'\n",
    "        elif int(r)==15:\n",
    "            hex_num+='F'\n",
    "        else:\n",
    "            hex_num+=str(r)\n",
    "        par=par//16\n",
    "    return hex_num[::-1]\n",
    "par=int(input(' Enter the digits to do your conversion to bass 16:'))\n",
    "result=int2hex(par)\n",
    "print('The digits',par, 'in base',16,'is',result)"
   ]
  },
  {
   "cell_type": "code",
   "execution_count": 4,
   "id": "cb33ec6b-4225-4784-aac1-0c5123324df5",
   "metadata": {},
   "outputs": [
    {
     "name": "stdin",
     "output_type": "stream",
     "text": [
      "Enter any hex value between 0 and 9 for digits and, A and F for alphabets: 44af\n"
     ]
    },
    {
     "name": "stdout",
     "output_type": "stream",
     "text": [
      "17583\n"
     ]
    }
   ],
   "source": [
    "hex_value=input('Enter any hex value between 0 and 9 for digits and, A and F for alphabets:').upper()\n",
    "def hex2int(hex_value):\n",
    "    mapping={'0':0,'1':1,'2':2,'3':3,'4':4,'5':5,'6':6,'7':7,'8':8,'9':9,'A':10,'B':11,'C':12,'D':13,'E':14,'F':15\n",
    "    }\n",
    "    indx=len(hex_value)-1\n",
    "    int2hex_number=0\n",
    "    for k in hex_value:\n",
    "        int2hex_number+=mapping[k]*16**(indx)\n",
    "        indx-=1\n",
    "    return int2hex_number\n",
    "\n",
    "converted_value=hex2int(hex_value)\n",
    "print(converted_value)"
   ]
  }
 ],
 "metadata": {
  "kernelspec": {
   "display_name": "Python 3 (ipykernel)",
   "language": "python",
   "name": "python3"
  },
  "language_info": {
   "codemirror_mode": {
    "name": "ipython",
    "version": 3
   },
   "file_extension": ".py",
   "mimetype": "text/x-python",
   "name": "python",
   "nbconvert_exporter": "python",
   "pygments_lexer": "ipython3",
   "version": "3.8.10"
  }
 },
 "nbformat": 4,
 "nbformat_minor": 5
}

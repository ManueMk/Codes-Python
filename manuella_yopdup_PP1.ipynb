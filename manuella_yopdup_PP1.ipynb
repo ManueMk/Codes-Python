{
 "cells": [
  {
   "cell_type": "markdown",
   "id": "a38b90ed-7bdf-49fa-8405-b9ae9861419f",
   "metadata": {},
   "source": [
    "# <center> <b> <span style=\"color:blue;\"> PYTHON PROGRAMMING ASSIGNMENT 1</span> </b></center>\n",
    "\n",
    "\n",
    "### <left> <b> <span style=\"color:brown;\">By MANUELLA KRISTEVA NAKAM  YOPDUP"
   ]
  },
  {
   "cell_type": "markdown",
   "id": "c9a2dc18-f416-41a3-bcd9-a27d4c824226",
   "metadata": {},
   "source": [
    "#### 1 - Getting help in python\n",
    "#### Start the Python interpreter and type help() to start the online help utility. Or you can type\n",
    "#### help(print) to get information about the print function. When finished with the help utility,\n",
    "#### type quit at the prompt to return to the interpreter."
   ]
  },
  {
   "cell_type": "code",
   "execution_count": 1,
   "id": "1e6d1c9a-c48b-4b0d-ae75-75fd5c397426",
   "metadata": {},
   "outputs": [
    {
     "name": "stdout",
     "output_type": "stream",
     "text": [
      "\n",
      "Welcome to Python 3.8's help utility!\n",
      "\n",
      "If this is your first time using Python, you should definitely check out\n",
      "the tutorial on the Internet at https://docs.python.org/3.8/tutorial/.\n",
      "\n",
      "Enter the name of any module, keyword, or topic to get help on writing\n",
      "Python programs and using Python modules.  To quit this help utility and\n",
      "return to the interpreter, just type \"quit\".\n",
      "\n",
      "To get a list of available modules, keywords, symbols, or topics, type\n",
      "\"modules\", \"keywords\", \"symbols\", or \"topics\".  Each module also comes\n",
      "with a one-line summary of what it does; to list the modules whose name\n",
      "or summary contain a given string such as \"spam\", type \"modules spam\".\n",
      "\n"
     ]
    },
    {
     "name": "stdin",
     "output_type": "stream",
     "text": [
      "help>  print\n"
     ]
    },
    {
     "name": "stdout",
     "output_type": "stream",
     "text": [
      "Help on built-in function print in module builtins:\n",
      "\n",
      "print(...)\n",
      "    print(value, ..., sep=' ', end='\\n', file=sys.stdout, flush=False)\n",
      "    \n",
      "    Prints the values to a stream, or to sys.stdout by default.\n",
      "    Optional keyword arguments:\n",
      "    file:  a file-like object (stream); defaults to the current sys.stdout.\n",
      "    sep:   string inserted between values, default a space.\n",
      "    end:   string appended after the last value, default a newline.\n",
      "    flush: whether to forcibly flush the stream.\n",
      "\n",
      "\n",
      "You are now leaving help and returning to the Python interpreter.\n",
      "If you want to ask for help on a particular object directly from the\n",
      "interpreter, you can type \"help(object)\".  Executing \"help('string')\"\n",
      "has the same effect as typing a particular string at the help> prompt.\n"
     ]
    }
   ],
   "source": [
    "help()"
   ]
  },
  {
   "cell_type": "markdown",
   "id": "941825d6-5c66-415e-b486-dce9e41bfe6f",
   "metadata": {},
   "source": [
    "#### 2 Doing calculation the python way\n",
    "#### 1. Assume that we execute the following assignment statements:"
   ]
  },
  {
   "cell_type": "code",
   "execution_count": 2,
   "id": "b10a5487-7c6e-4c9a-9734-cb29ecc5f64b",
   "metadata": {},
   "outputs": [],
   "source": [
    "width = 17\n",
    "height = 12.0\n",
    "delimiter = '.'"
   ]
  },
  {
   "cell_type": "markdown",
   "id": "751ded3d-52f1-4805-8be8-c89cb39d3400",
   "metadata": {},
   "source": [
    "#### For each of the following expressions, write the value of the expression and the type (of the value of the expression)."
   ]
  },
  {
   "cell_type": "markdown",
   "id": "51a7fb81-46d9-4157-bf40-7a8aaad81347",
   "metadata": {},
   "source": [
    "#### a) width/2"
   ]
  },
  {
   "cell_type": "code",
   "execution_count": 4,
   "id": "ff661dc5-bca6-4143-849e-5c39f8587d76",
   "metadata": {},
   "outputs": [
    {
     "name": "stdout",
     "output_type": "stream",
     "text": [
      "8.5\n",
      "<class 'float'>\n"
     ]
    }
   ],
   "source": [
    "print(width/2)\n",
    "print(type(width/2))"
   ]
  },
  {
   "cell_type": "markdown",
   "id": "b650cee4-84c5-45c5-90b2-ced7b094806a",
   "metadata": {},
   "source": [
    "#### b) width/2.0"
   ]
  },
  {
   "cell_type": "code",
   "execution_count": 6,
   "id": "06ae0072-e7dc-413f-a199-1e3a514ef875",
   "metadata": {},
   "outputs": [
    {
     "name": "stdout",
     "output_type": "stream",
     "text": [
      "8.5\n",
      "<class 'float'>\n"
     ]
    }
   ],
   "source": [
    "print(width/2.0)\n",
    "print(type(width/2.0))"
   ]
  },
  {
   "cell_type": "markdown",
   "id": "c64d323e-85ff-4d30-af95-548c0a87dcca",
   "metadata": {},
   "source": [
    "#### c) height/3"
   ]
  },
  {
   "cell_type": "code",
   "execution_count": 7,
   "id": "154b9767-a766-4299-8165-f1ae8a0ade2e",
   "metadata": {},
   "outputs": [
    {
     "name": "stdout",
     "output_type": "stream",
     "text": [
      "4.0\n",
      "<class 'float'>\n"
     ]
    }
   ],
   "source": [
    "print(height/3)\n",
    "print(type(height/3))"
   ]
  },
  {
   "cell_type": "markdown",
   "id": "9d563755-197b-471e-a588-68618141b3a5",
   "metadata": {},
   "source": [
    "#### d)  1 + 2 * 5"
   ]
  },
  {
   "cell_type": "code",
   "execution_count": 8,
   "id": "5da983a5-2256-44d3-84e4-374ce8046098",
   "metadata": {},
   "outputs": [
    {
     "name": "stdout",
     "output_type": "stream",
     "text": [
      "11\n",
      "<class 'int'>\n"
     ]
    }
   ],
   "source": [
    "print( 1 + 2 * 5)\n",
    "print(type( 1 + 2 * 5))"
   ]
  },
  {
   "cell_type": "markdown",
   "id": "698ba74e-b20e-484a-9470-77b6e8e00100",
   "metadata": {},
   "source": [
    "#### e) delimiter * 5"
   ]
  },
  {
   "cell_type": "code",
   "execution_count": 9,
   "id": "f396d0ee-bcbf-4336-a8cf-22fe0bfd7f36",
   "metadata": {},
   "outputs": [
    {
     "name": "stdout",
     "output_type": "stream",
     "text": [
      ".....\n",
      "<class 'str'>\n"
     ]
    }
   ],
   "source": [
    "print(delimiter * 5)\n",
    "print(type(delimiter * 5))"
   ]
  },
  {
   "cell_type": "markdown",
   "id": "30474a0b-ba70-4938-a8a6-f3ed955bf549",
   "metadata": {},
   "source": [
    "#### 2. Practice using the Python interpreter as a calculator:\n",
    "#### The volume of a sphere with radius r is (4/3)πr3. What is the volume of a sphere with radius 5? Hints: \n",
    "#### Be sure to execute the statement pi = 3.1415926535897931 first and 392.6 is wrong!"
   ]
  },
  {
   "cell_type": "code",
   "execution_count": 5,
   "id": "bb1151ef-764c-4930-b67e-853c6cc916c6",
   "metadata": {},
   "outputs": [
    {
     "name": "stdout",
     "output_type": "stream",
     "text": [
      "THe volume of the sphere is: 523.5987755982989\n"
     ]
    }
   ],
   "source": [
    " pi = 3.1415926535897931\n",
    "r = 5\n",
    "V = (4/3) * pi * r**3\n",
    "print( \"THe volume of the sphere is:\", V)"
   ]
  },
  {
   "cell_type": "markdown",
   "id": "4c89bdf8-e616-4ded-861e-3ee7a461661c",
   "metadata": {},
   "source": [
    "#### 3 Knowing more about data types and their operations \n",
    "#### Assign variables with the values 1, 5, and \"ten\" with the types int, float, and string respectively.\n",
    "\n",
    "\n",
    "#### 1. Confirm that the types are int, float."
   ]
  },
  {
   "cell_type": "code",
   "execution_count": 11,
   "id": "4aaa3002-f0d0-4603-b9da-84bba7eb172b",
   "metadata": {},
   "outputs": [
    {
     "name": "stdout",
     "output_type": "stream",
     "text": [
      "<class 'int'>\n",
      "<class 'float'>\n",
      "<class 'str'>\n"
     ]
    }
   ],
   "source": [
    "var1 = 1\n",
    "var2 = 5.0\n",
    "var3 = \"ten\"\n",
    "\n",
    "print(type(var1))\n",
    "print(type(var2))\n",
    "print(type(var3))\n"
   ]
  },
  {
   "cell_type": "markdown",
   "id": "850e4318-d7d5-462f-918a-7d2280f503b8",
   "metadata": {},
   "source": [
    "#### 2. Determine for which of the following pairs of the set of int, float, and str, the + operation gives an error\n",
    "\n",
    "#### (i) int-int"
   ]
  },
  {
   "cell_type": "code",
   "execution_count": 12,
   "id": "8688ad7d-1c34-44a6-988f-a4f982c5504b",
   "metadata": {},
   "outputs": [
    {
     "data": {
      "text/plain": [
       "2"
      ]
     },
     "execution_count": 12,
     "metadata": {},
     "output_type": "execute_result"
    }
   ],
   "source": [
    "var1 + var1"
   ]
  },
  {
   "cell_type": "markdown",
   "id": "28d039c9-9b2f-4679-a37f-af931e17ef25",
   "metadata": {},
   "source": [
    "#### (ii) int-float\n"
   ]
  },
  {
   "cell_type": "code",
   "execution_count": 13,
   "id": "6f3f5b77-53db-487e-9c06-3d1c50b550ca",
   "metadata": {},
   "outputs": [
    {
     "data": {
      "text/plain": [
       "6.0"
      ]
     },
     "execution_count": 13,
     "metadata": {},
     "output_type": "execute_result"
    }
   ],
   "source": [
    "var1 + var2"
   ]
  },
  {
   "cell_type": "markdown",
   "id": "9267f907-54e6-43c2-9164-56fc655a3c32",
   "metadata": {},
   "source": [
    "#### (iii) float-float\n"
   ]
  },
  {
   "cell_type": "code",
   "execution_count": 14,
   "id": "4e4d6104-2322-4a59-8dc9-f1befe96501b",
   "metadata": {},
   "outputs": [
    {
     "data": {
      "text/plain": [
       "10.0"
      ]
     },
     "execution_count": 14,
     "metadata": {},
     "output_type": "execute_result"
    }
   ],
   "source": [
    "var2 + var2"
   ]
  },
  {
   "cell_type": "markdown",
   "id": "6bf660c9-5a19-46bb-aac5-49f90dcad2d4",
   "metadata": {},
   "source": [
    "#### (iv) float-str\n"
   ]
  },
  {
   "cell_type": "code",
   "execution_count": 15,
   "id": "6460b864-6de1-44e1-bf76-6df230a6c3bc",
   "metadata": {},
   "outputs": [
    {
     "ename": "TypeError",
     "evalue": "unsupported operand type(s) for +: 'float' and 'str'",
     "output_type": "error",
     "traceback": [
      "\u001b[0;31m---------------------------------------------------------------------------\u001b[0m",
      "\u001b[0;31mTypeError\u001b[0m                                 Traceback (most recent call last)",
      "Cell \u001b[0;32mIn[15], line 1\u001b[0m\n\u001b[0;32m----> 1\u001b[0m \u001b[43mvar2\u001b[49m\u001b[43m \u001b[49m\u001b[38;5;241;43m+\u001b[39;49m\u001b[43m \u001b[49m\u001b[43mvar3\u001b[49m\n",
      "\u001b[0;31mTypeError\u001b[0m: unsupported operand type(s) for +: 'float' and 'str'"
     ]
    }
   ],
   "source": [
    "var2 + var3"
   ]
  },
  {
   "cell_type": "markdown",
   "id": "0f9de72e-a62e-4bdd-b0b8-606b489fd685",
   "metadata": {},
   "source": [
    "#### (v) str-str\n"
   ]
  },
  {
   "cell_type": "code",
   "execution_count": 16,
   "id": "b7fd6af1-d18a-45dd-989c-79e9a30ddc61",
   "metadata": {
    "scrolled": true
   },
   "outputs": [
    {
     "data": {
      "text/plain": [
       "'tenten'"
      ]
     },
     "execution_count": 16,
     "metadata": {},
     "output_type": "execute_result"
    }
   ],
   "source": [
    "var3 + var3"
   ]
  },
  {
   "cell_type": "markdown",
   "id": "897772d2-f99b-4a39-87ff-c28b1e68d32f",
   "metadata": {},
   "source": [
    "**Conclusion**: The addition of float and string gives an error."
   ]
  },
  {
   "cell_type": "markdown",
   "id": "6c3df82a-239d-4cc4-b98f-21647267a4ec",
   "metadata": {},
   "source": [
    "#### Any surprises?"
   ]
  },
  {
   "cell_type": "markdown",
   "id": "60c2f7b8-b749-48de-b704-e4786c9b937c",
   "metadata": {},
   "source": [
    "Yes, the addition of string and string"
   ]
  },
  {
   "cell_type": "markdown",
   "id": "3b424e4e-9f97-46e4-8024-38322eea1062",
   "metadata": {},
   "source": [
    "#### 3. Repeat 2. with the *, -, /, %, <, >, >=, <= and == operators. Any surprises?"
   ]
  },
  {
   "cell_type": "markdown",
   "id": "8e8e9352-4f79-4714-b494-c85c25f3ad79",
   "metadata": {},
   "source": [
    "#### Operations avec *"
   ]
  },
  {
   "cell_type": "markdown",
   "id": "2aba5a2d-a73a-437b-82ec-0316aa4bad5e",
   "metadata": {},
   "source": [
    "#### (i) int-int\n"
   ]
  },
  {
   "cell_type": "code",
   "execution_count": 18,
   "id": "b2cd0fd9-3f72-4279-b37e-093cf57a881d",
   "metadata": {},
   "outputs": [
    {
     "data": {
      "text/plain": [
       "1"
      ]
     },
     "execution_count": 18,
     "metadata": {},
     "output_type": "execute_result"
    }
   ],
   "source": [
    "var1 * var1"
   ]
  },
  {
   "cell_type": "markdown",
   "id": "5d2a22d3-cf04-462d-b1b4-72f39cfa2cc4",
   "metadata": {},
   "source": [
    "#### (ii) int-float\n"
   ]
  },
  {
   "cell_type": "code",
   "execution_count": 19,
   "id": "c4fa9336-9239-4ed5-939e-061832f9ee35",
   "metadata": {},
   "outputs": [
    {
     "data": {
      "text/plain": [
       "6.0"
      ]
     },
     "execution_count": 19,
     "metadata": {},
     "output_type": "execute_result"
    }
   ],
   "source": [
    "var1 * var2"
   ]
  },
  {
   "cell_type": "markdown",
   "id": "4f1e213b-2519-47c2-b7ac-14d85708ac51",
   "metadata": {},
   "source": [
    "#### (iii) float-float\n"
   ]
  },
  {
   "cell_type": "code",
   "execution_count": 20,
   "id": "113ec89b-7154-4774-84f1-e9222a37c1a3",
   "metadata": {},
   "outputs": [
    {
     "data": {
      "text/plain": [
       "25.0"
      ]
     },
     "execution_count": 20,
     "metadata": {},
     "output_type": "execute_result"
    }
   ],
   "source": [
    "var2 * var2"
   ]
  },
  {
   "cell_type": "markdown",
   "id": "35faf915-21fa-4e25-8c79-6f413fbd3d5b",
   "metadata": {},
   "source": [
    "#### (iv) float-str\n"
   ]
  },
  {
   "cell_type": "code",
   "execution_count": 21,
   "id": "9b81803d-4d60-4ec2-ade3-fd05b7eedb46",
   "metadata": {},
   "outputs": [
    {
     "ename": "TypeError",
     "evalue": "can't multiply sequence by non-int of type 'float'",
     "output_type": "error",
     "traceback": [
      "\u001b[0;31m---------------------------------------------------------------------------\u001b[0m",
      "\u001b[0;31mTypeError\u001b[0m                                 Traceback (most recent call last)",
      "Cell \u001b[0;32mIn[21], line 1\u001b[0m\n\u001b[0;32m----> 1\u001b[0m \u001b[43mvar2\u001b[49m\u001b[43m \u001b[49m\u001b[38;5;241;43m*\u001b[39;49m\u001b[43m \u001b[49m\u001b[43mvar3\u001b[49m\n",
      "\u001b[0;31mTypeError\u001b[0m: can't multiply sequence by non-int of type 'float'"
     ]
    }
   ],
   "source": [
    "var2 * var3"
   ]
  },
  {
   "cell_type": "markdown",
   "id": "dc33d816-0042-4b15-97ae-43c117e2c5a8",
   "metadata": {},
   "source": [
    "#### (v) str-str\n"
   ]
  },
  {
   "cell_type": "code",
   "execution_count": 22,
   "id": "ad6cda18-93ca-4b53-9f32-623e9cf43595",
   "metadata": {
    "scrolled": true
   },
   "outputs": [
    {
     "ename": "TypeError",
     "evalue": "can't multiply sequence by non-int of type 'str'",
     "output_type": "error",
     "traceback": [
      "\u001b[0;31m---------------------------------------------------------------------------\u001b[0m",
      "\u001b[0;31mTypeError\u001b[0m                                 Traceback (most recent call last)",
      "Cell \u001b[0;32mIn[22], line 1\u001b[0m\n\u001b[0;32m----> 1\u001b[0m \u001b[43mvar3\u001b[49m\u001b[43m \u001b[49m\u001b[38;5;241;43m*\u001b[39;49m\u001b[43m \u001b[49m\u001b[43mvar3\u001b[49m\n",
      "\u001b[0;31mTypeError\u001b[0m: can't multiply sequence by non-int of type 'str'"
     ]
    }
   ],
   "source": [
    "var3 * var3"
   ]
  },
  {
   "cell_type": "markdown",
   "id": "05be8829-51f0-448f-b97b-6a51992c6cba",
   "metadata": {},
   "source": [
    "**Conclusion**: The multiplication of float - string and string - string give an error."
   ]
  },
  {
   "cell_type": "markdown",
   "id": "af2f50b8-cdcc-4f89-9675-1de2410b00e5",
   "metadata": {},
   "source": [
    "#### Any surprises?"
   ]
  },
  {
   "cell_type": "markdown",
   "id": "37cd391b-fb29-46ce-9e89-3ae79e436e70",
   "metadata": {},
   "source": [
    "No"
   ]
  },
  {
   "cell_type": "markdown",
   "id": "33086a27-5d7f-42cc-bd9f-c668ad612d65",
   "metadata": {},
   "source": [
    "#### Operations avec -"
   ]
  },
  {
   "cell_type": "markdown",
   "id": "9c894937-fafb-43f7-98dd-944a6ddd7324",
   "metadata": {},
   "source": [
    "#### (i) int-int\n"
   ]
  },
  {
   "cell_type": "code",
   "execution_count": 23,
   "id": "88cca20f-64db-482a-a99b-bcd84178a86a",
   "metadata": {},
   "outputs": [
    {
     "data": {
      "text/plain": [
       "0"
      ]
     },
     "execution_count": 23,
     "metadata": {},
     "output_type": "execute_result"
    }
   ],
   "source": [
    "var1 - var1"
   ]
  },
  {
   "cell_type": "markdown",
   "id": "7ad4fb63-99b1-4c22-b343-d113fc04e965",
   "metadata": {},
   "source": [
    "#### (ii) int-float\n"
   ]
  },
  {
   "cell_type": "code",
   "execution_count": 24,
   "id": "ff72c984-c534-4268-8949-8d90a8a53851",
   "metadata": {},
   "outputs": [
    {
     "data": {
      "text/plain": [
       "-4.0"
      ]
     },
     "execution_count": 24,
     "metadata": {},
     "output_type": "execute_result"
    }
   ],
   "source": [
    "var1 - var2"
   ]
  },
  {
   "cell_type": "markdown",
   "id": "bfb4d9ed-f04d-4ba2-90b4-55ef085d118e",
   "metadata": {},
   "source": [
    "#### (iii) float-float\n"
   ]
  },
  {
   "cell_type": "code",
   "execution_count": 25,
   "id": "0563be4d-6b4f-4efe-b0a4-0cf6d93fe4b9",
   "metadata": {},
   "outputs": [
    {
     "data": {
      "text/plain": [
       "0.0"
      ]
     },
     "execution_count": 25,
     "metadata": {},
     "output_type": "execute_result"
    }
   ],
   "source": [
    "var2 - var2"
   ]
  },
  {
   "cell_type": "markdown",
   "id": "7d4be214-a285-475a-81e2-34f923f7f2aa",
   "metadata": {},
   "source": [
    "#### (iv) float-str\n"
   ]
  },
  {
   "cell_type": "code",
   "execution_count": 26,
   "id": "7a392ea4-53ee-4fce-9506-ef932fef925a",
   "metadata": {},
   "outputs": [
    {
     "ename": "TypeError",
     "evalue": "unsupported operand type(s) for -: 'str' and 'float'",
     "output_type": "error",
     "traceback": [
      "\u001b[0;31m---------------------------------------------------------------------------\u001b[0m",
      "\u001b[0;31mTypeError\u001b[0m                                 Traceback (most recent call last)",
      "Cell \u001b[0;32mIn[26], line 1\u001b[0m\n\u001b[0;32m----> 1\u001b[0m \u001b[43mvar3\u001b[49m\u001b[43m \u001b[49m\u001b[38;5;241;43m-\u001b[39;49m\u001b[43m \u001b[49m\u001b[43mvar2\u001b[49m\n",
      "\u001b[0;31mTypeError\u001b[0m: unsupported operand type(s) for -: 'str' and 'float'"
     ]
    }
   ],
   "source": [
    "var3 - var2"
   ]
  },
  {
   "cell_type": "markdown",
   "id": "e903d682-9456-4f9d-8253-47d1be31a25f",
   "metadata": {},
   "source": [
    "#### (v) str-str\n"
   ]
  },
  {
   "cell_type": "code",
   "execution_count": 27,
   "id": "9d51093b-20c1-4872-a172-5329bf4367fd",
   "metadata": {
    "scrolled": true
   },
   "outputs": [
    {
     "ename": "TypeError",
     "evalue": "unsupported operand type(s) for -: 'str' and 'str'",
     "output_type": "error",
     "traceback": [
      "\u001b[0;31m---------------------------------------------------------------------------\u001b[0m",
      "\u001b[0;31mTypeError\u001b[0m                                 Traceback (most recent call last)",
      "Cell \u001b[0;32mIn[27], line 1\u001b[0m\n\u001b[0;32m----> 1\u001b[0m \u001b[43mvar3\u001b[49m\u001b[43m \u001b[49m\u001b[38;5;241;43m-\u001b[39;49m\u001b[43m \u001b[49m\u001b[43mvar3\u001b[49m\n",
      "\u001b[0;31mTypeError\u001b[0m: unsupported operand type(s) for -: 'str' and 'str'"
     ]
    }
   ],
   "source": [
    "var3 - var3"
   ]
  },
  {
   "cell_type": "markdown",
   "id": "8243157b-d1e8-4ea2-8cbd-75368e37025e",
   "metadata": {},
   "source": [
    "**Conclusion**: The substraction of float - string and string - string give an error."
   ]
  },
  {
   "cell_type": "markdown",
   "id": "9467721d-d777-4669-9992-e32552ce38e2",
   "metadata": {},
   "source": [
    "#### Any surprises?"
   ]
  },
  {
   "cell_type": "markdown",
   "id": "a74ae931-4c1d-4cde-88ef-ac2d3acd25f4",
   "metadata": {},
   "source": [
    "NO"
   ]
  },
  {
   "cell_type": "markdown",
   "id": "8370d680-a592-4a1a-ae30-f987ffca6038",
   "metadata": {},
   "source": [
    "#### Operations avec /"
   ]
  },
  {
   "cell_type": "markdown",
   "id": "49e8d399-871a-40ff-80e6-dccf2a3054d1",
   "metadata": {},
   "source": [
    "#### (i) int-int\n"
   ]
  },
  {
   "cell_type": "code",
   "execution_count": 29,
   "id": "4ffbcc8d-1d42-455e-af9d-4e6e0640c360",
   "metadata": {},
   "outputs": [
    {
     "data": {
      "text/plain": [
       "1.0"
      ]
     },
     "execution_count": 29,
     "metadata": {},
     "output_type": "execute_result"
    }
   ],
   "source": [
    "var1/var1"
   ]
  },
  {
   "cell_type": "markdown",
   "id": "6e6319e4-fbd7-44a9-b5ab-c2210ae8fdb2",
   "metadata": {},
   "source": [
    "#### (ii) int-float\n"
   ]
  },
  {
   "cell_type": "code",
   "execution_count": 30,
   "id": "c9c20182-014e-4be3-99f8-981281e89091",
   "metadata": {},
   "outputs": [
    {
     "data": {
      "text/plain": [
       "0.2"
      ]
     },
     "execution_count": 30,
     "metadata": {},
     "output_type": "execute_result"
    }
   ],
   "source": [
    "var1/var2"
   ]
  },
  {
   "cell_type": "markdown",
   "id": "d1629c09-128f-4802-af85-364e43f86fe5",
   "metadata": {},
   "source": [
    "#### (iii) float-float\n"
   ]
  },
  {
   "cell_type": "code",
   "execution_count": 31,
   "id": "0d40eb94-b524-4310-bcc2-cdcbee679643",
   "metadata": {},
   "outputs": [
    {
     "data": {
      "text/plain": [
       "1.0"
      ]
     },
     "execution_count": 31,
     "metadata": {},
     "output_type": "execute_result"
    }
   ],
   "source": [
    "var2/var2"
   ]
  },
  {
   "cell_type": "markdown",
   "id": "7b047ad9-0b0c-4f63-aec0-2da850d02e9f",
   "metadata": {},
   "source": [
    "#### (iv) float-str\n"
   ]
  },
  {
   "cell_type": "code",
   "execution_count": 32,
   "id": "c014108f-6178-4026-832a-ef4d35e297fa",
   "metadata": {},
   "outputs": [
    {
     "ename": "TypeError",
     "evalue": "unsupported operand type(s) for /: 'float' and 'str'",
     "output_type": "error",
     "traceback": [
      "\u001b[0;31m---------------------------------------------------------------------------\u001b[0m",
      "\u001b[0;31mTypeError\u001b[0m                                 Traceback (most recent call last)",
      "Cell \u001b[0;32mIn[32], line 1\u001b[0m\n\u001b[0;32m----> 1\u001b[0m \u001b[43mvar2\u001b[49m\u001b[38;5;241;43m/\u001b[39;49m\u001b[43mvar3\u001b[49m\n",
      "\u001b[0;31mTypeError\u001b[0m: unsupported operand type(s) for /: 'float' and 'str'"
     ]
    }
   ],
   "source": [
    "var2/var3"
   ]
  },
  {
   "cell_type": "markdown",
   "id": "b307b13e-6494-4bf5-9ab6-6366e4b6ea9a",
   "metadata": {},
   "source": [
    "#### (v) str-str\n"
   ]
  },
  {
   "cell_type": "code",
   "execution_count": 33,
   "id": "870e53ac-8911-4175-9544-7d3b1d38d945",
   "metadata": {
    "scrolled": true
   },
   "outputs": [
    {
     "ename": "TypeError",
     "evalue": "unsupported operand type(s) for /: 'str' and 'str'",
     "output_type": "error",
     "traceback": [
      "\u001b[0;31m---------------------------------------------------------------------------\u001b[0m",
      "\u001b[0;31mTypeError\u001b[0m                                 Traceback (most recent call last)",
      "Cell \u001b[0;32mIn[33], line 1\u001b[0m\n\u001b[0;32m----> 1\u001b[0m \u001b[43mvar3\u001b[49m\u001b[38;5;241;43m/\u001b[39;49m\u001b[43mvar3\u001b[49m\n",
      "\u001b[0;31mTypeError\u001b[0m: unsupported operand type(s) for /: 'str' and 'str'"
     ]
    }
   ],
   "source": [
    "var3/var3"
   ]
  },
  {
   "cell_type": "markdown",
   "id": "f4a85b7c-9d4b-48e6-8e9d-064bb8782a2f",
   "metadata": {},
   "source": [
    "**Conclusion**: The division of float - string and string - string give an error."
   ]
  },
  {
   "cell_type": "markdown",
   "id": "16b81223-9320-4333-b837-6177f32f2ce7",
   "metadata": {},
   "source": [
    "#### Any surprises?"
   ]
  },
  {
   "cell_type": "markdown",
   "id": "07811308-025e-4c60-adfb-9af5eda0f7c2",
   "metadata": {},
   "source": [
    "NO"
   ]
  },
  {
   "cell_type": "markdown",
   "id": "450bf277-86e9-4d35-a70b-e45f1f2a0c02",
   "metadata": {},
   "source": [
    "#### Operations avec %"
   ]
  },
  {
   "cell_type": "markdown",
   "id": "ef3d3619-11ad-4932-91f2-04f5e31eea15",
   "metadata": {},
   "source": [
    "#### (i) int-int\n"
   ]
  },
  {
   "cell_type": "code",
   "execution_count": 34,
   "id": "464fd9d7-2bb4-4c06-9b47-e82ab308a130",
   "metadata": {},
   "outputs": [
    {
     "data": {
      "text/plain": [
       "0"
      ]
     },
     "execution_count": 34,
     "metadata": {},
     "output_type": "execute_result"
    }
   ],
   "source": [
    "var1%var1"
   ]
  },
  {
   "cell_type": "markdown",
   "id": "aa71c00e-445f-4dfe-b879-0d0441c674ee",
   "metadata": {},
   "source": [
    "#### (ii) int-float\n"
   ]
  },
  {
   "cell_type": "code",
   "execution_count": 35,
   "id": "d85207dc-4230-4312-9dc5-d66f5d9aefe9",
   "metadata": {},
   "outputs": [
    {
     "data": {
      "text/plain": [
       "1.0"
      ]
     },
     "execution_count": 35,
     "metadata": {},
     "output_type": "execute_result"
    }
   ],
   "source": [
    "var1%var2"
   ]
  },
  {
   "cell_type": "markdown",
   "id": "ac28cc27-030d-4b86-9b00-6d4f5e780ec8",
   "metadata": {},
   "source": [
    "#### (iii) float-float\n"
   ]
  },
  {
   "cell_type": "code",
   "execution_count": 36,
   "id": "e17387f7-7293-42c8-9196-068131c96e1b",
   "metadata": {},
   "outputs": [
    {
     "data": {
      "text/plain": [
       "0.0"
      ]
     },
     "execution_count": 36,
     "metadata": {},
     "output_type": "execute_result"
    }
   ],
   "source": [
    "var2%var2"
   ]
  },
  {
   "cell_type": "markdown",
   "id": "5a397e26-b3a0-45b8-874d-33fe1b713477",
   "metadata": {},
   "source": [
    "#### (iv) float-str\n"
   ]
  },
  {
   "cell_type": "code",
   "execution_count": 37,
   "id": "091d9ce1-d64f-40fe-b564-119245dfae2c",
   "metadata": {},
   "outputs": [
    {
     "ename": "TypeError",
     "evalue": "unsupported operand type(s) for %: 'float' and 'str'",
     "output_type": "error",
     "traceback": [
      "\u001b[0;31m---------------------------------------------------------------------------\u001b[0m",
      "\u001b[0;31mTypeError\u001b[0m                                 Traceback (most recent call last)",
      "Cell \u001b[0;32mIn[37], line 1\u001b[0m\n\u001b[0;32m----> 1\u001b[0m \u001b[43mvar2\u001b[49m\u001b[38;5;241;43m%\u001b[39;49m\u001b[43mvar3\u001b[49m\n",
      "\u001b[0;31mTypeError\u001b[0m: unsupported operand type(s) for %: 'float' and 'str'"
     ]
    }
   ],
   "source": [
    "var2%var3"
   ]
  },
  {
   "cell_type": "markdown",
   "id": "a9413a51-0372-458f-8c7c-88aaf8f03d55",
   "metadata": {},
   "source": [
    "#### (v) str-str\n"
   ]
  },
  {
   "cell_type": "code",
   "execution_count": 38,
   "id": "561c9c9f-b6e0-453d-85a3-b345b36fc093",
   "metadata": {
    "scrolled": true
   },
   "outputs": [
    {
     "ename": "TypeError",
     "evalue": "not all arguments converted during string formatting",
     "output_type": "error",
     "traceback": [
      "\u001b[0;31m---------------------------------------------------------------------------\u001b[0m",
      "\u001b[0;31mTypeError\u001b[0m                                 Traceback (most recent call last)",
      "Cell \u001b[0;32mIn[38], line 1\u001b[0m\n\u001b[0;32m----> 1\u001b[0m \u001b[43mvar3\u001b[49m\u001b[38;5;241;43m%\u001b[39;49m\u001b[43mvar3\u001b[49m\n",
      "\u001b[0;31mTypeError\u001b[0m: not all arguments converted during string formatting"
     ]
    }
   ],
   "source": [
    "var3%var3"
   ]
  },
  {
   "cell_type": "markdown",
   "id": "9adbe934-26aa-4c4c-a518-e023e327b387",
   "metadata": {},
   "source": [
    "**Conclusion**: The modulo of float - string and string - string give an error."
   ]
  },
  {
   "cell_type": "markdown",
   "id": "bc8f7f9b-42e0-4c6f-877c-d91118bc0cdf",
   "metadata": {},
   "source": [
    "#### Any surprises?"
   ]
  },
  {
   "cell_type": "markdown",
   "id": "54bb8847-51e2-4e52-a3af-a28375187864",
   "metadata": {},
   "source": [
    "No"
   ]
  },
  {
   "cell_type": "markdown",
   "id": "1ac37902-ce2b-443b-85bd-8583d2179197",
   "metadata": {},
   "source": [
    "#### Operations avec <"
   ]
  },
  {
   "cell_type": "markdown",
   "id": "0db02d3e-0b89-47b2-84e2-157f6021d5f7",
   "metadata": {},
   "source": [
    "#### (i) int-int\n"
   ]
  },
  {
   "cell_type": "code",
   "execution_count": 42,
   "id": "981f9f2c-21a0-4a20-abd7-e02627613f29",
   "metadata": {},
   "outputs": [
    {
     "data": {
      "text/plain": [
       "False"
      ]
     },
     "execution_count": 42,
     "metadata": {},
     "output_type": "execute_result"
    }
   ],
   "source": [
    "var1<var1"
   ]
  },
  {
   "cell_type": "markdown",
   "id": "1ceebe53-aec7-4e2b-823a-ea349fe31ee3",
   "metadata": {},
   "source": [
    "#### (ii) int-float\n"
   ]
  },
  {
   "cell_type": "code",
   "execution_count": 41,
   "id": "09ddec83-8b0b-42cb-b5bf-544b82593f03",
   "metadata": {},
   "outputs": [
    {
     "data": {
      "text/plain": [
       "True"
      ]
     },
     "execution_count": 41,
     "metadata": {},
     "output_type": "execute_result"
    }
   ],
   "source": [
    "var1<var2"
   ]
  },
  {
   "cell_type": "markdown",
   "id": "6c73ff33-5728-4304-946c-b4ddb8e3e464",
   "metadata": {},
   "source": [
    "#### (iii) float-float\n"
   ]
  },
  {
   "cell_type": "code",
   "execution_count": 43,
   "id": "94b13e67-465b-464f-b982-018e3a4a2eac",
   "metadata": {},
   "outputs": [
    {
     "data": {
      "text/plain": [
       "False"
      ]
     },
     "execution_count": 43,
     "metadata": {},
     "output_type": "execute_result"
    }
   ],
   "source": [
    "var2<var2"
   ]
  },
  {
   "cell_type": "markdown",
   "id": "ec4d3ce0-56b5-4bfc-a787-7504e95ba47d",
   "metadata": {},
   "source": [
    "#### (iv) float-str\n"
   ]
  },
  {
   "cell_type": "code",
   "execution_count": 44,
   "id": "cce2c1bd-b79f-4fa9-a2c0-b523475a3ce8",
   "metadata": {},
   "outputs": [
    {
     "ename": "TypeError",
     "evalue": "'<' not supported between instances of 'float' and 'str'",
     "output_type": "error",
     "traceback": [
      "\u001b[0;31m---------------------------------------------------------------------------\u001b[0m",
      "\u001b[0;31mTypeError\u001b[0m                                 Traceback (most recent call last)",
      "Cell \u001b[0;32mIn[44], line 1\u001b[0m\n\u001b[0;32m----> 1\u001b[0m \u001b[43mvar2\u001b[49m\u001b[38;5;241;43m<\u001b[39;49m\u001b[43mvar3\u001b[49m\n",
      "\u001b[0;31mTypeError\u001b[0m: '<' not supported between instances of 'float' and 'str'"
     ]
    }
   ],
   "source": [
    "var2<var3"
   ]
  },
  {
   "cell_type": "markdown",
   "id": "0470a365-4e5e-446d-9c28-4182f5ab6e3c",
   "metadata": {},
   "source": [
    "#### (v) str-str\n"
   ]
  },
  {
   "cell_type": "code",
   "execution_count": 45,
   "id": "34f2efad-0528-4c52-bd50-a9dbedf6f397",
   "metadata": {
    "scrolled": true
   },
   "outputs": [
    {
     "data": {
      "text/plain": [
       "False"
      ]
     },
     "execution_count": 45,
     "metadata": {},
     "output_type": "execute_result"
    }
   ],
   "source": [
    "var3<var3"
   ]
  },
  {
   "cell_type": "markdown",
   "id": "c42abafa-3364-4875-b10c-b3083b56dfed",
   "metadata": {},
   "source": [
    "**Conclusion**: The modulo of float - string gives an error."
   ]
  },
  {
   "cell_type": "markdown",
   "id": "9c8207d0-ccf2-487b-9b84-5a784c2f67b7",
   "metadata": {},
   "source": [
    "#### Any surprises?"
   ]
  },
  {
   "cell_type": "markdown",
   "id": "56679ac0-6874-4ba0-81fd-09a3fe44b6fb",
   "metadata": {},
   "source": [
    "Yes, string < string"
   ]
  },
  {
   "cell_type": "markdown",
   "id": "f8c69725-be42-4716-833e-e849d9eb0cbb",
   "metadata": {},
   "source": [
    "#### Operations avec >"
   ]
  },
  {
   "cell_type": "markdown",
   "id": "5cff2754-b6b5-4e92-b0ee-0fd2c469845e",
   "metadata": {},
   "source": [
    "#### (i) int-int\n"
   ]
  },
  {
   "cell_type": "code",
   "execution_count": 46,
   "id": "c64271ad-b8f5-4d41-bea6-446f3ee914ad",
   "metadata": {},
   "outputs": [
    {
     "data": {
      "text/plain": [
       "False"
      ]
     },
     "execution_count": 46,
     "metadata": {},
     "output_type": "execute_result"
    }
   ],
   "source": [
    "var1>var1"
   ]
  },
  {
   "cell_type": "markdown",
   "id": "5a81a082-15bc-4364-b736-cc41a8037c01",
   "metadata": {},
   "source": [
    "#### (ii) int-float\n"
   ]
  },
  {
   "cell_type": "code",
   "execution_count": 47,
   "id": "36cda23b-67b7-4fb2-be27-75b34d3a0d77",
   "metadata": {},
   "outputs": [
    {
     "data": {
      "text/plain": [
       "False"
      ]
     },
     "execution_count": 47,
     "metadata": {},
     "output_type": "execute_result"
    }
   ],
   "source": [
    "var1>var2"
   ]
  },
  {
   "cell_type": "markdown",
   "id": "ecea2918-2205-40bd-8134-9754e3148aa7",
   "metadata": {},
   "source": [
    "#### (iii) float-float\n"
   ]
  },
  {
   "cell_type": "code",
   "execution_count": 48,
   "id": "407f8359-14ce-4063-8333-80b45e51ad13",
   "metadata": {},
   "outputs": [
    {
     "data": {
      "text/plain": [
       "False"
      ]
     },
     "execution_count": 48,
     "metadata": {},
     "output_type": "execute_result"
    }
   ],
   "source": [
    "var2>var2"
   ]
  },
  {
   "cell_type": "markdown",
   "id": "b3d32590-eb6e-4112-a9e6-3068c3ee0e87",
   "metadata": {},
   "source": [
    "#### (iv) float-str\n"
   ]
  },
  {
   "cell_type": "code",
   "execution_count": 49,
   "id": "654d9462-41d3-4a19-80a3-0d2429ceb59a",
   "metadata": {},
   "outputs": [
    {
     "ename": "TypeError",
     "evalue": "'>' not supported between instances of 'float' and 'str'",
     "output_type": "error",
     "traceback": [
      "\u001b[0;31m---------------------------------------------------------------------------\u001b[0m",
      "\u001b[0;31mTypeError\u001b[0m                                 Traceback (most recent call last)",
      "Cell \u001b[0;32mIn[49], line 1\u001b[0m\n\u001b[0;32m----> 1\u001b[0m \u001b[43mvar2\u001b[49m\u001b[38;5;241;43m>\u001b[39;49m\u001b[43mvar3\u001b[49m\n",
      "\u001b[0;31mTypeError\u001b[0m: '>' not supported between instances of 'float' and 'str'"
     ]
    }
   ],
   "source": [
    "var2>var3"
   ]
  },
  {
   "cell_type": "markdown",
   "id": "ff43cc64-f2e8-4bfa-bdbf-ffe2f8e2e071",
   "metadata": {},
   "source": [
    "#### (v) str-str\n"
   ]
  },
  {
   "cell_type": "code",
   "execution_count": 50,
   "id": "781a47c4-fc04-49ba-84c3-e83a7878cc1c",
   "metadata": {},
   "outputs": [
    {
     "data": {
      "text/plain": [
       "False"
      ]
     },
     "execution_count": 50,
     "metadata": {},
     "output_type": "execute_result"
    }
   ],
   "source": [
    "var3>var3"
   ]
  },
  {
   "cell_type": "markdown",
   "id": "9d08f373-a211-42fb-9262-1e7543ec1ce0",
   "metadata": {},
   "source": [
    "**Conclusion**: The modulo of float - string gives an error."
   ]
  },
  {
   "cell_type": "markdown",
   "id": "d8b10666-c547-4b59-aeb1-de87700edb02",
   "metadata": {},
   "source": [
    "#### Any surprises?"
   ]
  },
  {
   "cell_type": "markdown",
   "id": "e0a39252-f3c5-4d38-bedc-f5b1dc5211f1",
   "metadata": {},
   "source": [
    "Yes, string > string"
   ]
  },
  {
   "cell_type": "markdown",
   "id": "cd9428f1-302d-4937-b6cd-e68c972d2bfa",
   "metadata": {},
   "source": [
    "#### Operations avec >="
   ]
  },
  {
   "cell_type": "markdown",
   "id": "392319a5-989c-4521-8a0d-e6995463b585",
   "metadata": {},
   "source": [
    "#### (i) int-int\n"
   ]
  },
  {
   "cell_type": "code",
   "execution_count": 51,
   "id": "86c13570-884c-467f-93f1-3047715df017",
   "metadata": {},
   "outputs": [
    {
     "data": {
      "text/plain": [
       "True"
      ]
     },
     "execution_count": 51,
     "metadata": {},
     "output_type": "execute_result"
    }
   ],
   "source": [
    "var1>=var1"
   ]
  },
  {
   "cell_type": "markdown",
   "id": "a05b3ed4-d781-4996-9793-1eba7912d87a",
   "metadata": {},
   "source": [
    "#### (ii) int-float\n"
   ]
  },
  {
   "cell_type": "code",
   "execution_count": 52,
   "id": "abd56161-88cd-4fd0-b5a6-534dd9df829c",
   "metadata": {},
   "outputs": [
    {
     "data": {
      "text/plain": [
       "False"
      ]
     },
     "execution_count": 52,
     "metadata": {},
     "output_type": "execute_result"
    }
   ],
   "source": [
    "var1>=var2"
   ]
  },
  {
   "cell_type": "markdown",
   "id": "8f299cb6-e087-4f22-9e87-f5888dbc2bcf",
   "metadata": {},
   "source": [
    "#### (iii) float-float\n"
   ]
  },
  {
   "cell_type": "code",
   "execution_count": 53,
   "id": "3bd440c3-17ef-4ad7-9266-164d899f9abc",
   "metadata": {},
   "outputs": [
    {
     "data": {
      "text/plain": [
       "True"
      ]
     },
     "execution_count": 53,
     "metadata": {},
     "output_type": "execute_result"
    }
   ],
   "source": [
    "var2>=var2"
   ]
  },
  {
   "cell_type": "markdown",
   "id": "1a10b455-654f-4894-968d-84b3943f946f",
   "metadata": {},
   "source": [
    "#### (iv) float-str\n"
   ]
  },
  {
   "cell_type": "code",
   "execution_count": 54,
   "id": "0eb1b710-837d-4645-8539-210428917176",
   "metadata": {},
   "outputs": [
    {
     "ename": "TypeError",
     "evalue": "'>=' not supported between instances of 'float' and 'str'",
     "output_type": "error",
     "traceback": [
      "\u001b[0;31m---------------------------------------------------------------------------\u001b[0m",
      "\u001b[0;31mTypeError\u001b[0m                                 Traceback (most recent call last)",
      "Cell \u001b[0;32mIn[54], line 1\u001b[0m\n\u001b[0;32m----> 1\u001b[0m \u001b[43mvar2\u001b[49m\u001b[38;5;241;43m>\u001b[39;49m\u001b[38;5;241;43m=\u001b[39;49m\u001b[43mvar3\u001b[49m\n",
      "\u001b[0;31mTypeError\u001b[0m: '>=' not supported between instances of 'float' and 'str'"
     ]
    }
   ],
   "source": [
    "var2>=var3"
   ]
  },
  {
   "cell_type": "markdown",
   "id": "741808bb-3f49-484f-8147-714c39d0ea4f",
   "metadata": {},
   "source": [
    "#### (v) str-str\n"
   ]
  },
  {
   "cell_type": "code",
   "execution_count": 55,
   "id": "6751ef38-1c69-48a4-af51-fcbe7b090c38",
   "metadata": {},
   "outputs": [
    {
     "data": {
      "text/plain": [
       "True"
      ]
     },
     "execution_count": 55,
     "metadata": {},
     "output_type": "execute_result"
    }
   ],
   "source": [
    "var3>=var3"
   ]
  },
  {
   "cell_type": "markdown",
   "id": "b941cd21-8102-48fb-984c-18bcd0e42933",
   "metadata": {},
   "source": [
    "**Conclusion**: The >= of float - string gives an error."
   ]
  },
  {
   "cell_type": "markdown",
   "id": "5deaf1aa-734e-40cb-a753-c3cb485b5573",
   "metadata": {},
   "source": [
    "#### Any surprises?"
   ]
  },
  {
   "cell_type": "markdown",
   "id": "e59c95ae-8def-4414-8210-e106244ab922",
   "metadata": {},
   "source": [
    "Yes, string >= string"
   ]
  },
  {
   "cell_type": "markdown",
   "id": "d7ed1cd3-7183-487b-8891-b2d0aad55c17",
   "metadata": {},
   "source": [
    "#### Operations avec <="
   ]
  },
  {
   "cell_type": "markdown",
   "id": "d302db84-ee98-436b-a59b-eb10fc26dd22",
   "metadata": {},
   "source": [
    "#### (i) int-int\n"
   ]
  },
  {
   "cell_type": "code",
   "execution_count": 56,
   "id": "ddb743f7-eea3-40bc-a210-80b1463a0efb",
   "metadata": {},
   "outputs": [
    {
     "data": {
      "text/plain": [
       "True"
      ]
     },
     "execution_count": 56,
     "metadata": {},
     "output_type": "execute_result"
    }
   ],
   "source": [
    "var1<=var1"
   ]
  },
  {
   "cell_type": "markdown",
   "id": "4cead122-f700-4443-beab-d8878f7af32b",
   "metadata": {},
   "source": [
    "#### (ii) int-float\n"
   ]
  },
  {
   "cell_type": "code",
   "execution_count": 57,
   "id": "1da34f88-6e45-4834-a17b-e986d70dd08d",
   "metadata": {},
   "outputs": [
    {
     "data": {
      "text/plain": [
       "True"
      ]
     },
     "execution_count": 57,
     "metadata": {},
     "output_type": "execute_result"
    }
   ],
   "source": [
    "var1<=var2"
   ]
  },
  {
   "cell_type": "markdown",
   "id": "1e669bf8-87c9-48c8-8909-88849492031f",
   "metadata": {},
   "source": [
    "#### (iii) float-float\n"
   ]
  },
  {
   "cell_type": "code",
   "execution_count": 58,
   "id": "aa9864dd-699c-4b65-bee6-8d2f092f8a9b",
   "metadata": {},
   "outputs": [
    {
     "data": {
      "text/plain": [
       "True"
      ]
     },
     "execution_count": 58,
     "metadata": {},
     "output_type": "execute_result"
    }
   ],
   "source": [
    "var2<=var2"
   ]
  },
  {
   "cell_type": "markdown",
   "id": "a8d343ce-607f-41bb-a891-eb8cf9ff1d4c",
   "metadata": {},
   "source": [
    "#### (iv) float-str\n"
   ]
  },
  {
   "cell_type": "code",
   "execution_count": 59,
   "id": "afc97171-83d5-42a6-b326-91986ae2d8be",
   "metadata": {},
   "outputs": [
    {
     "ename": "TypeError",
     "evalue": "'<=' not supported between instances of 'float' and 'str'",
     "output_type": "error",
     "traceback": [
      "\u001b[0;31m---------------------------------------------------------------------------\u001b[0m",
      "\u001b[0;31mTypeError\u001b[0m                                 Traceback (most recent call last)",
      "Cell \u001b[0;32mIn[59], line 1\u001b[0m\n\u001b[0;32m----> 1\u001b[0m \u001b[43mvar2\u001b[49m\u001b[38;5;241;43m<\u001b[39;49m\u001b[38;5;241;43m=\u001b[39;49m\u001b[43mvar3\u001b[49m\n",
      "\u001b[0;31mTypeError\u001b[0m: '<=' not supported between instances of 'float' and 'str'"
     ]
    }
   ],
   "source": [
    "var2<=var3"
   ]
  },
  {
   "cell_type": "markdown",
   "id": "e0cc6128-09ce-4e8e-8cf1-f1be839cde6d",
   "metadata": {},
   "source": [
    "#### (v) str-str\n"
   ]
  },
  {
   "cell_type": "code",
   "execution_count": 60,
   "id": "2cf02ba3-cb94-41c7-b60f-b5507d5eae72",
   "metadata": {},
   "outputs": [
    {
     "data": {
      "text/plain": [
       "True"
      ]
     },
     "execution_count": 60,
     "metadata": {},
     "output_type": "execute_result"
    }
   ],
   "source": [
    "var3<=var3"
   ]
  },
  {
   "cell_type": "markdown",
   "id": "24525f14-b948-48be-9f76-e38af66aa8d6",
   "metadata": {},
   "source": [
    "**Conclusion**: The <= of float - string gives an error."
   ]
  },
  {
   "cell_type": "markdown",
   "id": "2a234b11-e622-4514-8535-373dafa6f7fc",
   "metadata": {},
   "source": [
    "#### Any surprises?"
   ]
  },
  {
   "cell_type": "markdown",
   "id": "d7223f7d-89f1-4553-8bb5-c82a17a0b108",
   "metadata": {},
   "source": [
    "Yes, string >= string"
   ]
  },
  {
   "cell_type": "markdown",
   "id": "5583f88d-6820-422c-a2b4-a2238f63a4d4",
   "metadata": {},
   "source": [
    "#### Operations avec =="
   ]
  },
  {
   "cell_type": "markdown",
   "id": "5365d612-5935-4f85-912f-134ec04be3a4",
   "metadata": {},
   "source": [
    "#### (i) int-int\n"
   ]
  },
  {
   "cell_type": "code",
   "execution_count": 61,
   "id": "0966763e-eab6-4df1-b709-6992afafabc6",
   "metadata": {},
   "outputs": [
    {
     "data": {
      "text/plain": [
       "True"
      ]
     },
     "execution_count": 61,
     "metadata": {},
     "output_type": "execute_result"
    }
   ],
   "source": [
    "var1==var1"
   ]
  },
  {
   "cell_type": "markdown",
   "id": "0dd2b54c-cf76-46c4-84e4-a9e56575503c",
   "metadata": {},
   "source": [
    "#### (ii) int-float\n"
   ]
  },
  {
   "cell_type": "code",
   "execution_count": 62,
   "id": "dfdef32c-049a-4faf-b6a1-6aaca1fee0ed",
   "metadata": {},
   "outputs": [
    {
     "data": {
      "text/plain": [
       "False"
      ]
     },
     "execution_count": 62,
     "metadata": {},
     "output_type": "execute_result"
    }
   ],
   "source": [
    "var1==var2"
   ]
  },
  {
   "cell_type": "markdown",
   "id": "f009ce23-8bbf-4387-9ebe-1ba2d49b24ea",
   "metadata": {},
   "source": [
    "#### (iii) float-float\n"
   ]
  },
  {
   "cell_type": "code",
   "execution_count": 63,
   "id": "a06f24ca-28a0-4d39-bf41-02d2105b2aef",
   "metadata": {},
   "outputs": [
    {
     "data": {
      "text/plain": [
       "True"
      ]
     },
     "execution_count": 63,
     "metadata": {},
     "output_type": "execute_result"
    }
   ],
   "source": [
    "var2==var2"
   ]
  },
  {
   "cell_type": "markdown",
   "id": "396ac75b-d51e-44d1-afe9-1648b6a51b93",
   "metadata": {},
   "source": [
    "#### (iv) float-str\n"
   ]
  },
  {
   "cell_type": "code",
   "execution_count": 64,
   "id": "486b2be7-b3c3-4540-a23c-2ed8f3daca59",
   "metadata": {},
   "outputs": [
    {
     "data": {
      "text/plain": [
       "False"
      ]
     },
     "execution_count": 64,
     "metadata": {},
     "output_type": "execute_result"
    }
   ],
   "source": [
    "var2==var3"
   ]
  },
  {
   "cell_type": "markdown",
   "id": "1a5f3d64-87bc-42db-a714-cffab4cf9465",
   "metadata": {},
   "source": [
    "#### (v) str-str\n"
   ]
  },
  {
   "cell_type": "code",
   "execution_count": 65,
   "id": "d58d8e68-4692-4eef-82d9-7d39f29e4be0",
   "metadata": {
    "scrolled": true
   },
   "outputs": [
    {
     "data": {
      "text/plain": [
       "True"
      ]
     },
     "execution_count": 65,
     "metadata": {},
     "output_type": "execute_result"
    }
   ],
   "source": [
    "var3==var3"
   ]
  },
  {
   "cell_type": "markdown",
   "id": "aed7cea1-d2a6-4191-860e-4b3bf4ea5204",
   "metadata": {},
   "source": [
    "**Conclusion**: There is no error with equivalence"
   ]
  },
  {
   "cell_type": "markdown",
   "id": "8e283100-4378-4407-b024-ab244de9949d",
   "metadata": {},
   "source": [
    "#### Any surprises?"
   ]
  },
  {
   "cell_type": "markdown",
   "id": "06769cd0-2cc8-4e58-a66d-6bbfbe9f022c",
   "metadata": {},
   "source": [
    "No"
   ]
  },
  {
   "cell_type": "markdown",
   "id": "1ad22d75-3a9f-4196-b1fd-697242b0a055",
   "metadata": {},
   "source": [
    "#### 4. Read the output of help(int), help(float) to know more about these data types."
   ]
  },
  {
   "cell_type": "code",
   "execution_count": 66,
   "id": "935d4b7a-c865-475e-90ba-393ae8df9df4",
   "metadata": {},
   "outputs": [
    {
     "name": "stdout",
     "output_type": "stream",
     "text": [
      "Help on class int in module builtins:\n",
      "\n",
      "class int(object)\n",
      " |  int([x]) -> integer\n",
      " |  int(x, base=10) -> integer\n",
      " |  \n",
      " |  Convert a number or string to an integer, or return 0 if no arguments\n",
      " |  are given.  If x is a number, return x.__int__().  For floating point\n",
      " |  numbers, this truncates towards zero.\n",
      " |  \n",
      " |  If x is not a number or if base is given, then x must be a string,\n",
      " |  bytes, or bytearray instance representing an integer literal in the\n",
      " |  given base.  The literal can be preceded by '+' or '-' and be surrounded\n",
      " |  by whitespace.  The base defaults to 10.  Valid bases are 0 and 2-36.\n",
      " |  Base 0 means to interpret the base from the string as an integer literal.\n",
      " |  >>> int('0b100', base=0)\n",
      " |  4\n",
      " |  \n",
      " |  Built-in subclasses:\n",
      " |      bool\n",
      " |  \n",
      " |  Methods defined here:\n",
      " |  \n",
      " |  __abs__(self, /)\n",
      " |      abs(self)\n",
      " |  \n",
      " |  __add__(self, value, /)\n",
      " |      Return self+value.\n",
      " |  \n",
      " |  __and__(self, value, /)\n",
      " |      Return self&value.\n",
      " |  \n",
      " |  __bool__(self, /)\n",
      " |      self != 0\n",
      " |  \n",
      " |  __ceil__(...)\n",
      " |      Ceiling of an Integral returns itself.\n",
      " |  \n",
      " |  __divmod__(self, value, /)\n",
      " |      Return divmod(self, value).\n",
      " |  \n",
      " |  __eq__(self, value, /)\n",
      " |      Return self==value.\n",
      " |  \n",
      " |  __float__(self, /)\n",
      " |      float(self)\n",
      " |  \n",
      " |  __floor__(...)\n",
      " |      Flooring an Integral returns itself.\n",
      " |  \n",
      " |  __floordiv__(self, value, /)\n",
      " |      Return self//value.\n",
      " |  \n",
      " |  __format__(self, format_spec, /)\n",
      " |      Default object formatter.\n",
      " |  \n",
      " |  __ge__(self, value, /)\n",
      " |      Return self>=value.\n",
      " |  \n",
      " |  __getattribute__(self, name, /)\n",
      " |      Return getattr(self, name).\n",
      " |  \n",
      " |  __getnewargs__(self, /)\n",
      " |  \n",
      " |  __gt__(self, value, /)\n",
      " |      Return self>value.\n",
      " |  \n",
      " |  __hash__(self, /)\n",
      " |      Return hash(self).\n",
      " |  \n",
      " |  __index__(self, /)\n",
      " |      Return self converted to an integer, if self is suitable for use as an index into a list.\n",
      " |  \n",
      " |  __int__(self, /)\n",
      " |      int(self)\n",
      " |  \n",
      " |  __invert__(self, /)\n",
      " |      ~self\n",
      " |  \n",
      " |  __le__(self, value, /)\n",
      " |      Return self<=value.\n",
      " |  \n",
      " |  __lshift__(self, value, /)\n",
      " |      Return self<<value.\n",
      " |  \n",
      " |  __lt__(self, value, /)\n",
      " |      Return self<value.\n",
      " |  \n",
      " |  __mod__(self, value, /)\n",
      " |      Return self%value.\n",
      " |  \n",
      " |  __mul__(self, value, /)\n",
      " |      Return self*value.\n",
      " |  \n",
      " |  __ne__(self, value, /)\n",
      " |      Return self!=value.\n",
      " |  \n",
      " |  __neg__(self, /)\n",
      " |      -self\n",
      " |  \n",
      " |  __or__(self, value, /)\n",
      " |      Return self|value.\n",
      " |  \n",
      " |  __pos__(self, /)\n",
      " |      +self\n",
      " |  \n",
      " |  __pow__(self, value, mod=None, /)\n",
      " |      Return pow(self, value, mod).\n",
      " |  \n",
      " |  __radd__(self, value, /)\n",
      " |      Return value+self.\n",
      " |  \n",
      " |  __rand__(self, value, /)\n",
      " |      Return value&self.\n",
      " |  \n",
      " |  __rdivmod__(self, value, /)\n",
      " |      Return divmod(value, self).\n",
      " |  \n",
      " |  __repr__(self, /)\n",
      " |      Return repr(self).\n",
      " |  \n",
      " |  __rfloordiv__(self, value, /)\n",
      " |      Return value//self.\n",
      " |  \n",
      " |  __rlshift__(self, value, /)\n",
      " |      Return value<<self.\n",
      " |  \n",
      " |  __rmod__(self, value, /)\n",
      " |      Return value%self.\n",
      " |  \n",
      " |  __rmul__(self, value, /)\n",
      " |      Return value*self.\n",
      " |  \n",
      " |  __ror__(self, value, /)\n",
      " |      Return value|self.\n",
      " |  \n",
      " |  __round__(...)\n",
      " |      Rounding an Integral returns itself.\n",
      " |      Rounding with an ndigits argument also returns an integer.\n",
      " |  \n",
      " |  __rpow__(self, value, mod=None, /)\n",
      " |      Return pow(value, self, mod).\n",
      " |  \n",
      " |  __rrshift__(self, value, /)\n",
      " |      Return value>>self.\n",
      " |  \n",
      " |  __rshift__(self, value, /)\n",
      " |      Return self>>value.\n",
      " |  \n",
      " |  __rsub__(self, value, /)\n",
      " |      Return value-self.\n",
      " |  \n",
      " |  __rtruediv__(self, value, /)\n",
      " |      Return value/self.\n",
      " |  \n",
      " |  __rxor__(self, value, /)\n",
      " |      Return value^self.\n",
      " |  \n",
      " |  __sizeof__(self, /)\n",
      " |      Returns size in memory, in bytes.\n",
      " |  \n",
      " |  __sub__(self, value, /)\n",
      " |      Return self-value.\n",
      " |  \n",
      " |  __truediv__(self, value, /)\n",
      " |      Return self/value.\n",
      " |  \n",
      " |  __trunc__(...)\n",
      " |      Truncating an Integral returns itself.\n",
      " |  \n",
      " |  __xor__(self, value, /)\n",
      " |      Return self^value.\n",
      " |  \n",
      " |  as_integer_ratio(self, /)\n",
      " |      Return integer ratio.\n",
      " |      \n",
      " |      Return a pair of integers, whose ratio is exactly equal to the original int\n",
      " |      and with a positive denominator.\n",
      " |      \n",
      " |      >>> (10).as_integer_ratio()\n",
      " |      (10, 1)\n",
      " |      >>> (-10).as_integer_ratio()\n",
      " |      (-10, 1)\n",
      " |      >>> (0).as_integer_ratio()\n",
      " |      (0, 1)\n",
      " |  \n",
      " |  bit_length(self, /)\n",
      " |      Number of bits necessary to represent self in binary.\n",
      " |      \n",
      " |      >>> bin(37)\n",
      " |      '0b100101'\n",
      " |      >>> (37).bit_length()\n",
      " |      6\n",
      " |  \n",
      " |  conjugate(...)\n",
      " |      Returns self, the complex conjugate of any int.\n",
      " |  \n",
      " |  to_bytes(self, /, length, byteorder, *, signed=False)\n",
      " |      Return an array of bytes representing an integer.\n",
      " |      \n",
      " |      length\n",
      " |        Length of bytes object to use.  An OverflowError is raised if the\n",
      " |        integer is not representable with the given number of bytes.\n",
      " |      byteorder\n",
      " |        The byte order used to represent the integer.  If byteorder is 'big',\n",
      " |        the most significant byte is at the beginning of the byte array.  If\n",
      " |        byteorder is 'little', the most significant byte is at the end of the\n",
      " |        byte array.  To request the native byte order of the host system, use\n",
      " |        `sys.byteorder' as the byte order value.\n",
      " |      signed\n",
      " |        Determines whether two's complement is used to represent the integer.\n",
      " |        If signed is False and a negative integer is given, an OverflowError\n",
      " |        is raised.\n",
      " |  \n",
      " |  ----------------------------------------------------------------------\n",
      " |  Class methods defined here:\n",
      " |  \n",
      " |  from_bytes(bytes, byteorder, *, signed=False) from builtins.type\n",
      " |      Return the integer represented by the given array of bytes.\n",
      " |      \n",
      " |      bytes\n",
      " |        Holds the array of bytes to convert.  The argument must either\n",
      " |        support the buffer protocol or be an iterable object producing bytes.\n",
      " |        Bytes and bytearray are examples of built-in objects that support the\n",
      " |        buffer protocol.\n",
      " |      byteorder\n",
      " |        The byte order used to represent the integer.  If byteorder is 'big',\n",
      " |        the most significant byte is at the beginning of the byte array.  If\n",
      " |        byteorder is 'little', the most significant byte is at the end of the\n",
      " |        byte array.  To request the native byte order of the host system, use\n",
      " |        `sys.byteorder' as the byte order value.\n",
      " |      signed\n",
      " |        Indicates whether two's complement is used to represent the integer.\n",
      " |  \n",
      " |  ----------------------------------------------------------------------\n",
      " |  Static methods defined here:\n",
      " |  \n",
      " |  __new__(*args, **kwargs) from builtins.type\n",
      " |      Create and return a new object.  See help(type) for accurate signature.\n",
      " |  \n",
      " |  ----------------------------------------------------------------------\n",
      " |  Data descriptors defined here:\n",
      " |  \n",
      " |  denominator\n",
      " |      the denominator of a rational number in lowest terms\n",
      " |  \n",
      " |  imag\n",
      " |      the imaginary part of a complex number\n",
      " |  \n",
      " |  numerator\n",
      " |      the numerator of a rational number in lowest terms\n",
      " |  \n",
      " |  real\n",
      " |      the real part of a complex number\n",
      "\n"
     ]
    }
   ],
   "source": [
    "help(int)"
   ]
  },
  {
   "cell_type": "code",
   "execution_count": 67,
   "id": "5de61eec-a96c-4cdd-bbbf-328cb8152d0a",
   "metadata": {},
   "outputs": [
    {
     "name": "stdout",
     "output_type": "stream",
     "text": [
      "Help on class float in module builtins:\n",
      "\n",
      "class float(object)\n",
      " |  float(x=0, /)\n",
      " |  \n",
      " |  Convert a string or number to a floating point number, if possible.\n",
      " |  \n",
      " |  Methods defined here:\n",
      " |  \n",
      " |  __abs__(self, /)\n",
      " |      abs(self)\n",
      " |  \n",
      " |  __add__(self, value, /)\n",
      " |      Return self+value.\n",
      " |  \n",
      " |  __bool__(self, /)\n",
      " |      self != 0\n",
      " |  \n",
      " |  __divmod__(self, value, /)\n",
      " |      Return divmod(self, value).\n",
      " |  \n",
      " |  __eq__(self, value, /)\n",
      " |      Return self==value.\n",
      " |  \n",
      " |  __float__(self, /)\n",
      " |      float(self)\n",
      " |  \n",
      " |  __floordiv__(self, value, /)\n",
      " |      Return self//value.\n",
      " |  \n",
      " |  __format__(self, format_spec, /)\n",
      " |      Formats the float according to format_spec.\n",
      " |  \n",
      " |  __ge__(self, value, /)\n",
      " |      Return self>=value.\n",
      " |  \n",
      " |  __getattribute__(self, name, /)\n",
      " |      Return getattr(self, name).\n",
      " |  \n",
      " |  __getnewargs__(self, /)\n",
      " |  \n",
      " |  __gt__(self, value, /)\n",
      " |      Return self>value.\n",
      " |  \n",
      " |  __hash__(self, /)\n",
      " |      Return hash(self).\n",
      " |  \n",
      " |  __int__(self, /)\n",
      " |      int(self)\n",
      " |  \n",
      " |  __le__(self, value, /)\n",
      " |      Return self<=value.\n",
      " |  \n",
      " |  __lt__(self, value, /)\n",
      " |      Return self<value.\n",
      " |  \n",
      " |  __mod__(self, value, /)\n",
      " |      Return self%value.\n",
      " |  \n",
      " |  __mul__(self, value, /)\n",
      " |      Return self*value.\n",
      " |  \n",
      " |  __ne__(self, value, /)\n",
      " |      Return self!=value.\n",
      " |  \n",
      " |  __neg__(self, /)\n",
      " |      -self\n",
      " |  \n",
      " |  __pos__(self, /)\n",
      " |      +self\n",
      " |  \n",
      " |  __pow__(self, value, mod=None, /)\n",
      " |      Return pow(self, value, mod).\n",
      " |  \n",
      " |  __radd__(self, value, /)\n",
      " |      Return value+self.\n",
      " |  \n",
      " |  __rdivmod__(self, value, /)\n",
      " |      Return divmod(value, self).\n",
      " |  \n",
      " |  __repr__(self, /)\n",
      " |      Return repr(self).\n",
      " |  \n",
      " |  __rfloordiv__(self, value, /)\n",
      " |      Return value//self.\n",
      " |  \n",
      " |  __rmod__(self, value, /)\n",
      " |      Return value%self.\n",
      " |  \n",
      " |  __rmul__(self, value, /)\n",
      " |      Return value*self.\n",
      " |  \n",
      " |  __round__(self, ndigits=None, /)\n",
      " |      Return the Integral closest to x, rounding half toward even.\n",
      " |      \n",
      " |      When an argument is passed, work like built-in round(x, ndigits).\n",
      " |  \n",
      " |  __rpow__(self, value, mod=None, /)\n",
      " |      Return pow(value, self, mod).\n",
      " |  \n",
      " |  __rsub__(self, value, /)\n",
      " |      Return value-self.\n",
      " |  \n",
      " |  __rtruediv__(self, value, /)\n",
      " |      Return value/self.\n",
      " |  \n",
      " |  __sub__(self, value, /)\n",
      " |      Return self-value.\n",
      " |  \n",
      " |  __truediv__(self, value, /)\n",
      " |      Return self/value.\n",
      " |  \n",
      " |  __trunc__(self, /)\n",
      " |      Return the Integral closest to x between 0 and x.\n",
      " |  \n",
      " |  as_integer_ratio(self, /)\n",
      " |      Return integer ratio.\n",
      " |      \n",
      " |      Return a pair of integers, whose ratio is exactly equal to the original float\n",
      " |      and with a positive denominator.\n",
      " |      \n",
      " |      Raise OverflowError on infinities and a ValueError on NaNs.\n",
      " |      \n",
      " |      >>> (10.0).as_integer_ratio()\n",
      " |      (10, 1)\n",
      " |      >>> (0.0).as_integer_ratio()\n",
      " |      (0, 1)\n",
      " |      >>> (-.25).as_integer_ratio()\n",
      " |      (-1, 4)\n",
      " |  \n",
      " |  conjugate(self, /)\n",
      " |      Return self, the complex conjugate of any float.\n",
      " |  \n",
      " |  hex(self, /)\n",
      " |      Return a hexadecimal representation of a floating-point number.\n",
      " |      \n",
      " |      >>> (-0.1).hex()\n",
      " |      '-0x1.999999999999ap-4'\n",
      " |      >>> 3.14159.hex()\n",
      " |      '0x1.921f9f01b866ep+1'\n",
      " |  \n",
      " |  is_integer(self, /)\n",
      " |      Return True if the float is an integer.\n",
      " |  \n",
      " |  ----------------------------------------------------------------------\n",
      " |  Class methods defined here:\n",
      " |  \n",
      " |  __getformat__(typestr, /) from builtins.type\n",
      " |      You probably don't want to use this function.\n",
      " |      \n",
      " |        typestr\n",
      " |          Must be 'double' or 'float'.\n",
      " |      \n",
      " |      It exists mainly to be used in Python's test suite.\n",
      " |      \n",
      " |      This function returns whichever of 'unknown', 'IEEE, big-endian' or 'IEEE,\n",
      " |      little-endian' best describes the format of floating point numbers used by the\n",
      " |      C type named by typestr.\n",
      " |  \n",
      " |  __set_format__(typestr, fmt, /) from builtins.type\n",
      " |      You probably don't want to use this function.\n",
      " |      \n",
      " |        typestr\n",
      " |          Must be 'double' or 'float'.\n",
      " |        fmt\n",
      " |          Must be one of 'unknown', 'IEEE, big-endian' or 'IEEE, little-endian',\n",
      " |          and in addition can only be one of the latter two if it appears to\n",
      " |          match the underlying C reality.\n",
      " |      \n",
      " |      It exists mainly to be used in Python's test suite.\n",
      " |      \n",
      " |      Override the automatic determination of C-level floating point type.\n",
      " |      This affects how floats are converted to and from binary strings.\n",
      " |  \n",
      " |  fromhex(string, /) from builtins.type\n",
      " |      Create a floating-point number from a hexadecimal string.\n",
      " |      \n",
      " |      >>> float.fromhex('0x1.ffffp10')\n",
      " |      2047.984375\n",
      " |      >>> float.fromhex('-0x1p-1074')\n",
      " |      -5e-324\n",
      " |  \n",
      " |  ----------------------------------------------------------------------\n",
      " |  Static methods defined here:\n",
      " |  \n",
      " |  __new__(*args, **kwargs) from builtins.type\n",
      " |      Create and return a new object.  See help(type) for accurate signature.\n",
      " |  \n",
      " |  ----------------------------------------------------------------------\n",
      " |  Data descriptors defined here:\n",
      " |  \n",
      " |  imag\n",
      " |      the imaginary part of a complex number\n",
      " |  \n",
      " |  real\n",
      " |      the real part of a complex number\n",
      "\n"
     ]
    }
   ],
   "source": [
    "help(float)"
   ]
  },
  {
   "cell_type": "markdown",
   "id": "4917c11e-a3bd-4f25-b60e-d2b7e9fb19cf",
   "metadata": {},
   "source": [
    "#### 4 About Random number generator\n",
    "#### Investigate how python generates random numbers."
   ]
  },
  {
   "cell_type": "code",
   "execution_count": 69,
   "id": "09eb0b2d-293e-4224-bc6c-8a73dca6253e",
   "metadata": {},
   "outputs": [
    {
     "name": "stdout",
     "output_type": "stream",
     "text": [
      "Help on module random:\n",
      "\n",
      "NAME\n",
      "    random - Random variable generators.\n",
      "\n",
      "MODULE REFERENCE\n",
      "    https://docs.python.org/3.8/library/random\n",
      "    \n",
      "    The following documentation is automatically generated from the Python\n",
      "    source files.  It may be incomplete, incorrect or include features that\n",
      "    are considered implementation detail and may vary between Python\n",
      "    implementations.  When in doubt, consult the module reference at the\n",
      "    location listed above.\n",
      "\n",
      "DESCRIPTION\n",
      "        integers\n",
      "        --------\n",
      "               uniform within range\n",
      "    \n",
      "        sequences\n",
      "        ---------\n",
      "               pick random element\n",
      "               pick random sample\n",
      "               pick weighted random sample\n",
      "               generate random permutation\n",
      "    \n",
      "        distributions on the real line:\n",
      "        ------------------------------\n",
      "               uniform\n",
      "               triangular\n",
      "               normal (Gaussian)\n",
      "               lognormal\n",
      "               negative exponential\n",
      "               gamma\n",
      "               beta\n",
      "               pareto\n",
      "               Weibull\n",
      "    \n",
      "        distributions on the circle (angles 0 to 2pi)\n",
      "        ---------------------------------------------\n",
      "               circular uniform\n",
      "               von Mises\n",
      "    \n",
      "    General notes on the underlying Mersenne Twister core generator:\n",
      "    \n",
      "    * The period is 2**19937-1.\n",
      "    * It is one of the most extensively tested generators in existence.\n",
      "    * The random() method is implemented in C, executes in a single Python step,\n",
      "      and is, therefore, threadsafe.\n",
      "\n",
      "CLASSES\n",
      "    _random.Random(builtins.object)\n",
      "        Random\n",
      "            SystemRandom\n",
      "    \n",
      "    class Random(_random.Random)\n",
      "     |  Random(x=None)\n",
      "     |  \n",
      "     |  Random number generator base class used by bound module functions.\n",
      "     |  \n",
      "     |  Used to instantiate instances of Random to get generators that don't\n",
      "     |  share state.\n",
      "     |  \n",
      "     |  Class Random can also be subclassed if you want to use a different basic\n",
      "     |  generator of your own devising: in that case, override the following\n",
      "     |  methods:  random(), seed(), getstate(), and setstate().\n",
      "     |  Optionally, implement a getrandbits() method so that randrange()\n",
      "     |  can cover arbitrarily large ranges.\n",
      "     |  \n",
      "     |  Method resolution order:\n",
      "     |      Random\n",
      "     |      _random.Random\n",
      "     |      builtins.object\n",
      "     |  \n",
      "     |  Methods defined here:\n",
      "     |  \n",
      "     |  __getstate__(self)\n",
      "     |      # Issue 17489: Since __reduce__ was defined to fix #759889 this is no\n",
      "     |      # longer called; we leave it here because it has been here since random was\n",
      "     |      # rewritten back in 2001 and why risk breaking something.\n",
      "     |  \n",
      "     |  __init__(self, x=None)\n",
      "     |      Initialize an instance.\n",
      "     |      \n",
      "     |      Optional argument x controls seeding, as for Random.seed().\n",
      "     |  \n",
      "     |  __reduce__(self)\n",
      "     |      Helper for pickle.\n",
      "     |  \n",
      "     |  __setstate__(self, state)\n",
      "     |  \n",
      "     |  betavariate(self, alpha, beta)\n",
      "     |      Beta distribution.\n",
      "     |      \n",
      "     |      Conditions on the parameters are alpha > 0 and beta > 0.\n",
      "     |      Returned values range between 0 and 1.\n",
      "     |  \n",
      "     |  choice(self, seq)\n",
      "     |      Choose a random element from a non-empty sequence.\n",
      "     |  \n",
      "     |  choices(self, population, weights=None, *, cum_weights=None, k=1)\n",
      "     |      Return a k sized list of population elements chosen with replacement.\n",
      "     |      \n",
      "     |      If the relative weights or cumulative weights are not specified,\n",
      "     |      the selections are made with equal probability.\n",
      "     |  \n",
      "     |  expovariate(self, lambd)\n",
      "     |      Exponential distribution.\n",
      "     |      \n",
      "     |      lambd is 1.0 divided by the desired mean.  It should be\n",
      "     |      nonzero.  (The parameter would be called \"lambda\", but that is\n",
      "     |      a reserved word in Python.)  Returned values range from 0 to\n",
      "     |      positive infinity if lambd is positive, and from negative\n",
      "     |      infinity to 0 if lambd is negative.\n",
      "     |  \n",
      "     |  gammavariate(self, alpha, beta)\n",
      "     |      Gamma distribution.  Not the gamma function!\n",
      "     |      \n",
      "     |      Conditions on the parameters are alpha > 0 and beta > 0.\n",
      "     |      \n",
      "     |      The probability distribution function is:\n",
      "     |      \n",
      "     |                  x ** (alpha - 1) * math.exp(-x / beta)\n",
      "     |        pdf(x) =  --------------------------------------\n",
      "     |                    math.gamma(alpha) * beta ** alpha\n",
      "     |  \n",
      "     |  gauss(self, mu, sigma)\n",
      "     |      Gaussian distribution.\n",
      "     |      \n",
      "     |      mu is the mean, and sigma is the standard deviation.  This is\n",
      "     |      slightly faster than the normalvariate() function.\n",
      "     |      \n",
      "     |      Not thread-safe without a lock around calls.\n",
      "     |  \n",
      "     |  getstate(self)\n",
      "     |      Return internal state; can be passed to setstate() later.\n",
      "     |  \n",
      "     |  lognormvariate(self, mu, sigma)\n",
      "     |      Log normal distribution.\n",
      "     |      \n",
      "     |      If you take the natural logarithm of this distribution, you'll get a\n",
      "     |      normal distribution with mean mu and standard deviation sigma.\n",
      "     |      mu can have any value, and sigma must be greater than zero.\n",
      "     |  \n",
      "     |  normalvariate(self, mu, sigma)\n",
      "     |      Normal distribution.\n",
      "     |      \n",
      "     |      mu is the mean, and sigma is the standard deviation.\n",
      "     |  \n",
      "     |  paretovariate(self, alpha)\n",
      "     |      Pareto distribution.  alpha is the shape parameter.\n",
      "     |  \n",
      "     |  randint(self, a, b)\n",
      "     |      Return random integer in range [a, b], including both end points.\n",
      "     |  \n",
      "     |  randrange(self, start, stop=None, step=1, _int=<class 'int'>)\n",
      "     |      Choose a random item from range(start, stop[, step]).\n",
      "     |      \n",
      "     |      This fixes the problem with randint() which includes the\n",
      "     |      endpoint; in Python this is usually not what you want.\n",
      "     |  \n",
      "     |  sample(self, population, k)\n",
      "     |      Chooses k unique random elements from a population sequence or set.\n",
      "     |      \n",
      "     |      Returns a new list containing elements from the population while\n",
      "     |      leaving the original population unchanged.  The resulting list is\n",
      "     |      in selection order so that all sub-slices will also be valid random\n",
      "     |      samples.  This allows raffle winners (the sample) to be partitioned\n",
      "     |      into grand prize and second place winners (the subslices).\n",
      "     |      \n",
      "     |      Members of the population need not be hashable or unique.  If the\n",
      "     |      population contains repeats, then each occurrence is a possible\n",
      "     |      selection in the sample.\n",
      "     |      \n",
      "     |      To choose a sample in a range of integers, use range as an argument.\n",
      "     |      This is especially fast and space efficient for sampling from a\n",
      "     |      large population:   sample(range(10000000), 60)\n",
      "     |  \n",
      "     |  seed(self, a=None, version=2)\n",
      "     |      Initialize internal state from hashable object.\n",
      "     |      \n",
      "     |      None or no argument seeds from current time or from an operating\n",
      "     |      system specific randomness source if available.\n",
      "     |      \n",
      "     |      If *a* is an int, all bits are used.\n",
      "     |      \n",
      "     |      For version 2 (the default), all of the bits are used if *a* is a str,\n",
      "     |      bytes, or bytearray.  For version 1 (provided for reproducing random\n",
      "     |      sequences from older versions of Python), the algorithm for str and\n",
      "     |      bytes generates a narrower range of seeds.\n",
      "     |  \n",
      "     |  setstate(self, state)\n",
      "     |      Restore internal state from object returned by getstate().\n",
      "     |  \n",
      "     |  shuffle(self, x, random=None)\n",
      "     |      Shuffle list x in place, and return None.\n",
      "     |      \n",
      "     |      Optional argument random is a 0-argument function returning a\n",
      "     |      random float in [0.0, 1.0); if it is the default None, the\n",
      "     |      standard random.random will be used.\n",
      "     |  \n",
      "     |  triangular(self, low=0.0, high=1.0, mode=None)\n",
      "     |      Triangular distribution.\n",
      "     |      \n",
      "     |      Continuous distribution bounded by given lower and upper limits,\n",
      "     |      and having a given mode value in-between.\n",
      "     |      \n",
      "     |      http://en.wikipedia.org/wiki/Triangular_distribution\n",
      "     |  \n",
      "     |  uniform(self, a, b)\n",
      "     |      Get a random number in the range [a, b) or [a, b] depending on rounding.\n",
      "     |  \n",
      "     |  vonmisesvariate(self, mu, kappa)\n",
      "     |      Circular data distribution.\n",
      "     |      \n",
      "     |      mu is the mean angle, expressed in radians between 0 and 2*pi, and\n",
      "     |      kappa is the concentration parameter, which must be greater than or\n",
      "     |      equal to zero.  If kappa is equal to zero, this distribution reduces\n",
      "     |      to a uniform random angle over the range 0 to 2*pi.\n",
      "     |  \n",
      "     |  weibullvariate(self, alpha, beta)\n",
      "     |      Weibull distribution.\n",
      "     |      \n",
      "     |      alpha is the scale parameter and beta is the shape parameter.\n",
      "     |  \n",
      "     |  ----------------------------------------------------------------------\n",
      "     |  Class methods defined here:\n",
      "     |  \n",
      "     |  __init_subclass__(**kwargs) from builtins.type\n",
      "     |      Control how subclasses generate random integers.\n",
      "     |      \n",
      "     |      The algorithm a subclass can use depends on the random() and/or\n",
      "     |      getrandbits() implementation available to it and determines\n",
      "     |      whether it can generate random integers from arbitrarily large\n",
      "     |      ranges.\n",
      "     |  \n",
      "     |  ----------------------------------------------------------------------\n",
      "     |  Data descriptors defined here:\n",
      "     |  \n",
      "     |  __dict__\n",
      "     |      dictionary for instance variables (if defined)\n",
      "     |  \n",
      "     |  __weakref__\n",
      "     |      list of weak references to the object (if defined)\n",
      "     |  \n",
      "     |  ----------------------------------------------------------------------\n",
      "     |  Data and other attributes defined here:\n",
      "     |  \n",
      "     |  VERSION = 3\n",
      "     |  \n",
      "     |  ----------------------------------------------------------------------\n",
      "     |  Methods inherited from _random.Random:\n",
      "     |  \n",
      "     |  __getattribute__(self, name, /)\n",
      "     |      Return getattr(self, name).\n",
      "     |  \n",
      "     |  getrandbits(self, k, /)\n",
      "     |      getrandbits(k) -> x.  Generates an int with k random bits.\n",
      "     |  \n",
      "     |  random(self, /)\n",
      "     |      random() -> x in the interval [0, 1).\n",
      "     |  \n",
      "     |  ----------------------------------------------------------------------\n",
      "     |  Static methods inherited from _random.Random:\n",
      "     |  \n",
      "     |  __new__(*args, **kwargs) from builtins.type\n",
      "     |      Create and return a new object.  See help(type) for accurate signature.\n",
      "    \n",
      "    class SystemRandom(Random)\n",
      "     |  SystemRandom(x=None)\n",
      "     |  \n",
      "     |  Alternate random number generator using sources provided\n",
      "     |  by the operating system (such as /dev/urandom on Unix or\n",
      "     |  CryptGenRandom on Windows).\n",
      "     |  \n",
      "     |   Not available on all systems (see os.urandom() for details).\n",
      "     |  \n",
      "     |  Method resolution order:\n",
      "     |      SystemRandom\n",
      "     |      Random\n",
      "     |      _random.Random\n",
      "     |      builtins.object\n",
      "     |  \n",
      "     |  Methods defined here:\n",
      "     |  \n",
      "     |  getrandbits(self, k)\n",
      "     |      getrandbits(k) -> x.  Generates an int with k random bits.\n",
      "     |  \n",
      "     |  getstate = _notimplemented(self, *args, **kwds)\n",
      "     |  \n",
      "     |  random(self)\n",
      "     |      Get the next random number in the range [0.0, 1.0).\n",
      "     |  \n",
      "     |  seed(self, *args, **kwds)\n",
      "     |      Stub method.  Not used for a system random number generator.\n",
      "     |  \n",
      "     |  setstate = _notimplemented(self, *args, **kwds)\n",
      "     |  \n",
      "     |  ----------------------------------------------------------------------\n",
      "     |  Methods inherited from Random:\n",
      "     |  \n",
      "     |  __getstate__(self)\n",
      "     |      # Issue 17489: Since __reduce__ was defined to fix #759889 this is no\n",
      "     |      # longer called; we leave it here because it has been here since random was\n",
      "     |      # rewritten back in 2001 and why risk breaking something.\n",
      "     |  \n",
      "     |  __init__(self, x=None)\n",
      "     |      Initialize an instance.\n",
      "     |      \n",
      "     |      Optional argument x controls seeding, as for Random.seed().\n",
      "     |  \n",
      "     |  __reduce__(self)\n",
      "     |      Helper for pickle.\n",
      "     |  \n",
      "     |  __setstate__(self, state)\n",
      "     |  \n",
      "     |  betavariate(self, alpha, beta)\n",
      "     |      Beta distribution.\n",
      "     |      \n",
      "     |      Conditions on the parameters are alpha > 0 and beta > 0.\n",
      "     |      Returned values range between 0 and 1.\n",
      "     |  \n",
      "     |  choice(self, seq)\n",
      "     |      Choose a random element from a non-empty sequence.\n",
      "     |  \n",
      "     |  choices(self, population, weights=None, *, cum_weights=None, k=1)\n",
      "     |      Return a k sized list of population elements chosen with replacement.\n",
      "     |      \n",
      "     |      If the relative weights or cumulative weights are not specified,\n",
      "     |      the selections are made with equal probability.\n",
      "     |  \n",
      "     |  expovariate(self, lambd)\n",
      "     |      Exponential distribution.\n",
      "     |      \n",
      "     |      lambd is 1.0 divided by the desired mean.  It should be\n",
      "     |      nonzero.  (The parameter would be called \"lambda\", but that is\n",
      "     |      a reserved word in Python.)  Returned values range from 0 to\n",
      "     |      positive infinity if lambd is positive, and from negative\n",
      "     |      infinity to 0 if lambd is negative.\n",
      "     |  \n",
      "     |  gammavariate(self, alpha, beta)\n",
      "     |      Gamma distribution.  Not the gamma function!\n",
      "     |      \n",
      "     |      Conditions on the parameters are alpha > 0 and beta > 0.\n",
      "     |      \n",
      "     |      The probability distribution function is:\n",
      "     |      \n",
      "     |                  x ** (alpha - 1) * math.exp(-x / beta)\n",
      "     |        pdf(x) =  --------------------------------------\n",
      "     |                    math.gamma(alpha) * beta ** alpha\n",
      "     |  \n",
      "     |  gauss(self, mu, sigma)\n",
      "     |      Gaussian distribution.\n",
      "     |      \n",
      "     |      mu is the mean, and sigma is the standard deviation.  This is\n",
      "     |      slightly faster than the normalvariate() function.\n",
      "     |      \n",
      "     |      Not thread-safe without a lock around calls.\n",
      "     |  \n",
      "     |  lognormvariate(self, mu, sigma)\n",
      "     |      Log normal distribution.\n",
      "     |      \n",
      "     |      If you take the natural logarithm of this distribution, you'll get a\n",
      "     |      normal distribution with mean mu and standard deviation sigma.\n",
      "     |      mu can have any value, and sigma must be greater than zero.\n",
      "     |  \n",
      "     |  normalvariate(self, mu, sigma)\n",
      "     |      Normal distribution.\n",
      "     |      \n",
      "     |      mu is the mean, and sigma is the standard deviation.\n",
      "     |  \n",
      "     |  paretovariate(self, alpha)\n",
      "     |      Pareto distribution.  alpha is the shape parameter.\n",
      "     |  \n",
      "     |  randint(self, a, b)\n",
      "     |      Return random integer in range [a, b], including both end points.\n",
      "     |  \n",
      "     |  randrange(self, start, stop=None, step=1, _int=<class 'int'>)\n",
      "     |      Choose a random item from range(start, stop[, step]).\n",
      "     |      \n",
      "     |      This fixes the problem with randint() which includes the\n",
      "     |      endpoint; in Python this is usually not what you want.\n",
      "     |  \n",
      "     |  sample(self, population, k)\n",
      "     |      Chooses k unique random elements from a population sequence or set.\n",
      "     |      \n",
      "     |      Returns a new list containing elements from the population while\n",
      "     |      leaving the original population unchanged.  The resulting list is\n",
      "     |      in selection order so that all sub-slices will also be valid random\n",
      "     |      samples.  This allows raffle winners (the sample) to be partitioned\n",
      "     |      into grand prize and second place winners (the subslices).\n",
      "     |      \n",
      "     |      Members of the population need not be hashable or unique.  If the\n",
      "     |      population contains repeats, then each occurrence is a possible\n",
      "     |      selection in the sample.\n",
      "     |      \n",
      "     |      To choose a sample in a range of integers, use range as an argument.\n",
      "     |      This is especially fast and space efficient for sampling from a\n",
      "     |      large population:   sample(range(10000000), 60)\n",
      "     |  \n",
      "     |  shuffle(self, x, random=None)\n",
      "     |      Shuffle list x in place, and return None.\n",
      "     |      \n",
      "     |      Optional argument random is a 0-argument function returning a\n",
      "     |      random float in [0.0, 1.0); if it is the default None, the\n",
      "     |      standard random.random will be used.\n",
      "     |  \n",
      "     |  triangular(self, low=0.0, high=1.0, mode=None)\n",
      "     |      Triangular distribution.\n",
      "     |      \n",
      "     |      Continuous distribution bounded by given lower and upper limits,\n",
      "     |      and having a given mode value in-between.\n",
      "     |      \n",
      "     |      http://en.wikipedia.org/wiki/Triangular_distribution\n",
      "     |  \n",
      "     |  uniform(self, a, b)\n",
      "     |      Get a random number in the range [a, b) or [a, b] depending on rounding.\n",
      "     |  \n",
      "     |  vonmisesvariate(self, mu, kappa)\n",
      "     |      Circular data distribution.\n",
      "     |      \n",
      "     |      mu is the mean angle, expressed in radians between 0 and 2*pi, and\n",
      "     |      kappa is the concentration parameter, which must be greater than or\n",
      "     |      equal to zero.  If kappa is equal to zero, this distribution reduces\n",
      "     |      to a uniform random angle over the range 0 to 2*pi.\n",
      "     |  \n",
      "     |  weibullvariate(self, alpha, beta)\n",
      "     |      Weibull distribution.\n",
      "     |      \n",
      "     |      alpha is the scale parameter and beta is the shape parameter.\n",
      "     |  \n",
      "     |  ----------------------------------------------------------------------\n",
      "     |  Class methods inherited from Random:\n",
      "     |  \n",
      "     |  __init_subclass__(**kwargs) from builtins.type\n",
      "     |      Control how subclasses generate random integers.\n",
      "     |      \n",
      "     |      The algorithm a subclass can use depends on the random() and/or\n",
      "     |      getrandbits() implementation available to it and determines\n",
      "     |      whether it can generate random integers from arbitrarily large\n",
      "     |      ranges.\n",
      "     |  \n",
      "     |  ----------------------------------------------------------------------\n",
      "     |  Data descriptors inherited from Random:\n",
      "     |  \n",
      "     |  __dict__\n",
      "     |      dictionary for instance variables (if defined)\n",
      "     |  \n",
      "     |  __weakref__\n",
      "     |      list of weak references to the object (if defined)\n",
      "     |  \n",
      "     |  ----------------------------------------------------------------------\n",
      "     |  Data and other attributes inherited from Random:\n",
      "     |  \n",
      "     |  VERSION = 3\n",
      "     |  \n",
      "     |  ----------------------------------------------------------------------\n",
      "     |  Methods inherited from _random.Random:\n",
      "     |  \n",
      "     |  __getattribute__(self, name, /)\n",
      "     |      Return getattr(self, name).\n",
      "     |  \n",
      "     |  ----------------------------------------------------------------------\n",
      "     |  Static methods inherited from _random.Random:\n",
      "     |  \n",
      "     |  __new__(*args, **kwargs) from builtins.type\n",
      "     |      Create and return a new object.  See help(type) for accurate signature.\n",
      "\n",
      "FUNCTIONS\n",
      "    betavariate(alpha, beta) method of Random instance\n",
      "        Beta distribution.\n",
      "        \n",
      "        Conditions on the parameters are alpha > 0 and beta > 0.\n",
      "        Returned values range between 0 and 1.\n",
      "    \n",
      "    choice(seq) method of Random instance\n",
      "        Choose a random element from a non-empty sequence.\n",
      "    \n",
      "    choices(population, weights=None, *, cum_weights=None, k=1) method of Random instance\n",
      "        Return a k sized list of population elements chosen with replacement.\n",
      "        \n",
      "        If the relative weights or cumulative weights are not specified,\n",
      "        the selections are made with equal probability.\n",
      "    \n",
      "    expovariate(lambd) method of Random instance\n",
      "        Exponential distribution.\n",
      "        \n",
      "        lambd is 1.0 divided by the desired mean.  It should be\n",
      "        nonzero.  (The parameter would be called \"lambda\", but that is\n",
      "        a reserved word in Python.)  Returned values range from 0 to\n",
      "        positive infinity if lambd is positive, and from negative\n",
      "        infinity to 0 if lambd is negative.\n",
      "    \n",
      "    gammavariate(alpha, beta) method of Random instance\n",
      "        Gamma distribution.  Not the gamma function!\n",
      "        \n",
      "        Conditions on the parameters are alpha > 0 and beta > 0.\n",
      "        \n",
      "        The probability distribution function is:\n",
      "        \n",
      "                    x ** (alpha - 1) * math.exp(-x / beta)\n",
      "          pdf(x) =  --------------------------------------\n",
      "                      math.gamma(alpha) * beta ** alpha\n",
      "    \n",
      "    gauss(mu, sigma) method of Random instance\n",
      "        Gaussian distribution.\n",
      "        \n",
      "        mu is the mean, and sigma is the standard deviation.  This is\n",
      "        slightly faster than the normalvariate() function.\n",
      "        \n",
      "        Not thread-safe without a lock around calls.\n",
      "    \n",
      "    getrandbits(k, /) method of Random instance\n",
      "        getrandbits(k) -> x.  Generates an int with k random bits.\n",
      "    \n",
      "    getstate() method of Random instance\n",
      "        Return internal state; can be passed to setstate() later.\n",
      "    \n",
      "    lognormvariate(mu, sigma) method of Random instance\n",
      "        Log normal distribution.\n",
      "        \n",
      "        If you take the natural logarithm of this distribution, you'll get a\n",
      "        normal distribution with mean mu and standard deviation sigma.\n",
      "        mu can have any value, and sigma must be greater than zero.\n",
      "    \n",
      "    normalvariate(mu, sigma) method of Random instance\n",
      "        Normal distribution.\n",
      "        \n",
      "        mu is the mean, and sigma is the standard deviation.\n",
      "    \n",
      "    paretovariate(alpha) method of Random instance\n",
      "        Pareto distribution.  alpha is the shape parameter.\n",
      "    \n",
      "    randint(a, b) method of Random instance\n",
      "        Return random integer in range [a, b], including both end points.\n",
      "    \n",
      "    random() method of Random instance\n",
      "        random() -> x in the interval [0, 1).\n",
      "    \n",
      "    randrange(start, stop=None, step=1, _int=<class 'int'>) method of Random instance\n",
      "        Choose a random item from range(start, stop[, step]).\n",
      "        \n",
      "        This fixes the problem with randint() which includes the\n",
      "        endpoint; in Python this is usually not what you want.\n",
      "    \n",
      "    sample(population, k) method of Random instance\n",
      "        Chooses k unique random elements from a population sequence or set.\n",
      "        \n",
      "        Returns a new list containing elements from the population while\n",
      "        leaving the original population unchanged.  The resulting list is\n",
      "        in selection order so that all sub-slices will also be valid random\n",
      "        samples.  This allows raffle winners (the sample) to be partitioned\n",
      "        into grand prize and second place winners (the subslices).\n",
      "        \n",
      "        Members of the population need not be hashable or unique.  If the\n",
      "        population contains repeats, then each occurrence is a possible\n",
      "        selection in the sample.\n",
      "        \n",
      "        To choose a sample in a range of integers, use range as an argument.\n",
      "        This is especially fast and space efficient for sampling from a\n",
      "        large population:   sample(range(10000000), 60)\n",
      "    \n",
      "    seed(a=None, version=2) method of Random instance\n",
      "        Initialize internal state from hashable object.\n",
      "        \n",
      "        None or no argument seeds from current time or from an operating\n",
      "        system specific randomness source if available.\n",
      "        \n",
      "        If *a* is an int, all bits are used.\n",
      "        \n",
      "        For version 2 (the default), all of the bits are used if *a* is a str,\n",
      "        bytes, or bytearray.  For version 1 (provided for reproducing random\n",
      "        sequences from older versions of Python), the algorithm for str and\n",
      "        bytes generates a narrower range of seeds.\n",
      "    \n",
      "    setstate(state) method of Random instance\n",
      "        Restore internal state from object returned by getstate().\n",
      "    \n",
      "    shuffle(x, random=None) method of Random instance\n",
      "        Shuffle list x in place, and return None.\n",
      "        \n",
      "        Optional argument random is a 0-argument function returning a\n",
      "        random float in [0.0, 1.0); if it is the default None, the\n",
      "        standard random.random will be used.\n",
      "    \n",
      "    triangular(low=0.0, high=1.0, mode=None) method of Random instance\n",
      "        Triangular distribution.\n",
      "        \n",
      "        Continuous distribution bounded by given lower and upper limits,\n",
      "        and having a given mode value in-between.\n",
      "        \n",
      "        http://en.wikipedia.org/wiki/Triangular_distribution\n",
      "    \n",
      "    uniform(a, b) method of Random instance\n",
      "        Get a random number in the range [a, b) or [a, b] depending on rounding.\n",
      "    \n",
      "    vonmisesvariate(mu, kappa) method of Random instance\n",
      "        Circular data distribution.\n",
      "        \n",
      "        mu is the mean angle, expressed in radians between 0 and 2*pi, and\n",
      "        kappa is the concentration parameter, which must be greater than or\n",
      "        equal to zero.  If kappa is equal to zero, this distribution reduces\n",
      "        to a uniform random angle over the range 0 to 2*pi.\n",
      "    \n",
      "    weibullvariate(alpha, beta) method of Random instance\n",
      "        Weibull distribution.\n",
      "        \n",
      "        alpha is the scale parameter and beta is the shape parameter.\n",
      "\n",
      "DATA\n",
      "    __all__ = ['Random', 'seed', 'random', 'uniform', 'randint', 'choice',...\n",
      "\n",
      "FILE\n",
      "    /usr/lib/python3.8/random.py\n",
      "\n",
      "\n"
     ]
    }
   ],
   "source": [
    "import random\n",
    "\n",
    "help(random)"
   ]
  },
  {
   "cell_type": "code",
   "execution_count": 81,
   "id": "fe68e724-623f-46d7-84a8-ebe3718593d3",
   "metadata": {},
   "outputs": [
    {
     "name": "stdout",
     "output_type": "stream",
     "text": [
      "<random.Random object at 0x16ddaa0>\n",
      "0.731531130400211\n",
      "7.484370743106478\n",
      "3\n",
      "Propertie\n"
     ]
    }
   ],
   "source": [
    "random.seed(84) #Initializes the random number generator with a seed value\n",
    "\n",
    "print(random.Random()) # creates a new instance of the Random class from the random module and prints it.\n",
    "print(random.random()) # generates and prints a random float in the range [0.0, 1.0)\n",
    "print(random.uniform(2, 8)) # generates and prints a random float between 2 and 8, inclusive of 2 and exclusive of 8\n",
    "print(random.randint(3, 6)) # generates and prints a random integer between 3 and 6, inclusive.\n",
    "print(random.choice([ \"Wall\", \"Propertie\", \"Youtube\"])) # selects and prints one element from the list"
   ]
  },
  {
   "cell_type": "markdown",
   "id": "15f2e047-d0d1-4759-a7e0-5a67be0d9a4f",
   "metadata": {},
   "source": [
    "#### 5 More on data types\n",
    "\n",
    "#### Here you will use math.log10() and math.floor(), which require the line import math for you\n",
    "#### to access these functions. For these two functions, determine their value and data type.\n",
    "\n",
    "#### 1. What is the value and type of log10(42)?"
   ]
  },
  {
   "cell_type": "code",
   "execution_count": 7,
   "id": "26344536-f4af-4cd5-83b6-913c120bfb75",
   "metadata": {},
   "outputs": [
    {
     "name": "stdout",
     "output_type": "stream",
     "text": [
      "The value is:  1.6232492903979006\n",
      "<class 'float'>\n"
     ]
    }
   ],
   "source": [
    "import math\n",
    "\n",
    "print(\"The value is: \",math.log10(42))\n",
    "print(type(math.log10(42)))"
   ]
  },
  {
   "cell_type": "markdown",
   "id": "3e5c68da-bb67-468b-98e1-9364b4488160",
   "metadata": {},
   "source": [
    "#### 2. What is the value and type of log10(-0.32)?"
   ]
  },
  {
   "cell_type": "code",
   "execution_count": 84,
   "id": "d5688ba6-b636-4e46-8a23-770da03f499b",
   "metadata": {},
   "outputs": [
    {
     "ename": "ValueError",
     "evalue": "math domain error",
     "output_type": "error",
     "traceback": [
      "\u001b[0;31m---------------------------------------------------------------------------\u001b[0m",
      "\u001b[0;31mValueError\u001b[0m                                Traceback (most recent call last)",
      "Cell \u001b[0;32mIn[84], line 3\u001b[0m\n\u001b[1;32m      1\u001b[0m \u001b[38;5;28;01mimport\u001b[39;00m \u001b[38;5;21;01mmath\u001b[39;00m\n\u001b[0;32m----> 3\u001b[0m \u001b[38;5;28mprint\u001b[39m(\u001b[43mmath\u001b[49m\u001b[38;5;241;43m.\u001b[39;49m\u001b[43mlog10\u001b[49m\u001b[43m(\u001b[49m\u001b[38;5;241;43m-\u001b[39;49m\u001b[38;5;241;43m0.32\u001b[39;49m\u001b[43m)\u001b[49m)\n\u001b[1;32m      4\u001b[0m \u001b[38;5;28mprint\u001b[39m(\u001b[38;5;28mtype\u001b[39m(math\u001b[38;5;241m.\u001b[39mlog10(\u001b[38;5;241m-\u001b[39m\u001b[38;5;241m0.32\u001b[39m)))\n",
      "\u001b[0;31mValueError\u001b[0m: math domain error"
     ]
    }
   ],
   "source": [
    "import math\n",
    "\n",
    "print(math.log10(-0.32))\n",
    "print(type(math.log10(-0.32)))"
   ]
  },
  {
   "cell_type": "markdown",
   "id": "0ba2db85-2714-493e-aa06-4ba3c0d1ebc0",
   "metadata": {},
   "source": [
    "#### 3. What is the return type of floor acting on an int? Acting on a float? floor is in the math\n",
    "#### namespace. It will work only after import math and it is invoked as math.floor()."
   ]
  },
  {
   "cell_type": "code",
   "execution_count": 8,
   "id": "19585345-4088-46bb-a12c-0247d2cdd79c",
   "metadata": {},
   "outputs": [
    {
     "name": "stdout",
     "output_type": "stream",
     "text": [
      "The value is:  5\n",
      "<class 'int'>\n"
     ]
    }
   ],
   "source": [
    "import math\n",
    "\n",
    "print(\"The value is: \",math.floor(5))\n",
    "print(type(math.floor(5)))"
   ]
  },
  {
   "cell_type": "code",
   "execution_count": 9,
   "id": "5238fccb-72a9-47c8-a714-2883a7487403",
   "metadata": {},
   "outputs": [
    {
     "name": "stdout",
     "output_type": "stream",
     "text": [
      "The value is:  7\n",
      "<class 'int'>\n"
     ]
    }
   ],
   "source": [
    "import math\n",
    "\n",
    "print(\"The value is: \",math.floor(7.9))\n",
    "print(type(math.floor(7.9)))"
   ]
  },
  {
   "cell_type": "markdown",
   "id": "9e11a2d1-041e-4930-bf2b-0056de13b922",
   "metadata": {},
   "source": [
    "#### 4. len() is a builtin function to count the length of things. For which of the basic data types\n",
    "#### so far does len() return a value? Does it return the length or the length+1?"
   ]
  },
  {
   "cell_type": "code",
   "execution_count": 88,
   "id": "fba78e3a-5a6c-448f-8b31-1c82c7c9ddef",
   "metadata": {},
   "outputs": [
    {
     "name": "stdout",
     "output_type": "stream",
     "text": [
      "Help on built-in function len in module builtins:\n",
      "\n",
      "len(obj, /)\n",
      "    Return the number of items in a container.\n",
      "\n"
     ]
    }
   ],
   "source": [
    "help(len)"
   ]
  },
  {
   "cell_type": "code",
   "execution_count": 10,
   "id": "74a61c44-7459-4da2-bc8b-914992603d38",
   "metadata": {},
   "outputs": [
    {
     "name": "stdout",
     "output_type": "stream",
     "text": [
      "<class 'str'>\n",
      "13\n"
     ]
    }
   ],
   "source": [
    "var = \"Hello, World!\"\n",
    "print(type(var))\n",
    "print(len(var))"
   ]
  },
  {
   "cell_type": "code",
   "execution_count": 92,
   "id": "18928319-a6ca-4a2c-828a-297a668a741c",
   "metadata": {
    "scrolled": true
   },
   "outputs": [
    {
     "name": "stdout",
     "output_type": "stream",
     "text": [
      "<class 'list'>\n",
      "4\n"
     ]
    }
   ],
   "source": [
    "var = [6, 7, 4, 5]\n",
    "print(type(var))\n",
    "print(len(var))"
   ]
  },
  {
   "cell_type": "code",
   "execution_count": 12,
   "id": "ab2ec83f-eaf2-4ede-8f9e-395a666837d3",
   "metadata": {},
   "outputs": [
    {
     "name": "stdout",
     "output_type": "stream",
     "text": [
      "<class 'dict'>\n",
      "3\n"
     ]
    }
   ],
   "source": [
    "var ={'name': 'Jean', 'weight': 70, 'height': 1.75}\n",
    "print(type(var))\n",
    "print(len(var))"
   ]
  },
  {
   "cell_type": "code",
   "execution_count": 16,
   "id": "ead0069a-ba33-4b91-b489-2615faae0a5d",
   "metadata": {},
   "outputs": [
    {
     "name": "stdout",
     "output_type": "stream",
     "text": [
      "<class 'int'>\n"
     ]
    },
    {
     "ename": "TypeError",
     "evalue": "object of type 'int' has no len()",
     "output_type": "error",
     "traceback": [
      "\u001b[0;31m---------------------------------------------------------------------------\u001b[0m",
      "\u001b[0;31mTypeError\u001b[0m                                 Traceback (most recent call last)",
      "Cell \u001b[0;32mIn[16], line 3\u001b[0m\n\u001b[1;32m      1\u001b[0m var \u001b[38;5;241m=\u001b[39m \u001b[38;5;241m5\u001b[39m\n\u001b[1;32m      2\u001b[0m \u001b[38;5;28mprint\u001b[39m(\u001b[38;5;28mtype\u001b[39m(var))\n\u001b[0;32m----> 3\u001b[0m \u001b[38;5;28mprint\u001b[39m(\u001b[38;5;28;43mlen\u001b[39;49m\u001b[43m(\u001b[49m\u001b[43mvar\u001b[49m\u001b[43m)\u001b[49m)\n",
      "\u001b[0;31mTypeError\u001b[0m: object of type 'int' has no len()"
     ]
    }
   ],
   "source": [
    "var = 5\n",
    "print(type(var))\n",
    "print(len(var))"
   ]
  },
  {
   "cell_type": "markdown",
   "id": "ef0a533d-1938-4ba0-81d9-d891cf78ce1b",
   "metadata": {},
   "source": [
    "**Conclusion**: len return a value for string, list, dictionaries\n",
    "\n",
    "For string, len return the length+1\n",
    "\n",
    "For list and dictionaries, len return length"
   ]
  },
  {
   "cell_type": "markdown",
   "id": "406ec0e6-1d61-4792-ac8e-9ec9f9b1e5d3",
   "metadata": {},
   "source": [
    "#### 5. Write an expression to determine the number of digits in a non-negative integer. Hint:\n",
    "#### maybe len() or math.log() might be useful here."
   ]
  },
  {
   "cell_type": "code",
   "execution_count": 98,
   "id": "d709c62c-ebd9-4b33-add8-b21aaaeb8202",
   "metadata": {},
   "outputs": [
    {
     "data": {
      "text/plain": [
       "4"
      ]
     },
     "execution_count": 98,
     "metadata": {},
     "output_type": "execute_result"
    }
   ],
   "source": [
    "n=6680\n",
    "len(str(n))"
   ]
  },
  {
   "cell_type": "code",
   "execution_count": 101,
   "id": "9427ec3e-37e3-4cda-a08e-9862f9a17336",
   "metadata": {},
   "outputs": [
    {
     "data": {
      "text/plain": [
       "6"
      ]
     },
     "execution_count": 101,
     "metadata": {},
     "output_type": "execute_result"
    }
   ],
   "source": [
    "import math\n",
    "n=493509\n",
    "int(math.log10(n)) +1"
   ]
  }
 ],
 "metadata": {
  "kernelspec": {
   "display_name": "Python 3 (ipykernel)",
   "language": "python",
   "name": "python3"
  },
  "language_info": {
   "codemirror_mode": {
    "name": "ipython",
    "version": 3
   },
   "file_extension": ".py",
   "mimetype": "text/x-python",
   "name": "python",
   "nbconvert_exporter": "python",
   "pygments_lexer": "ipython3",
   "version": "3.8.10"
  }
 },
 "nbformat": 4,
 "nbformat_minor": 5
}

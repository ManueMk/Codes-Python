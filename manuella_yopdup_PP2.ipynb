{
 "cells": [
  {
   "cell_type": "markdown",
   "id": "7a2ccf7a-a8a4-4e82-8165-6c82a06205c8",
   "metadata": {},
   "source": [
    "# Python Pogramming: Assignment 2"
   ]
  },
  {
   "cell_type": "markdown",
   "id": "c661fd7d-fa41-4869-bef7-5ee12c34371b",
   "metadata": {},
   "source": [
    "## By NAKAM YOPDUP MANUELLA KRISTEVA"
   ]
  },
  {
   "cell_type": "code",
   "execution_count": null,
   "id": "af5d12ff-070f-48d0-8ef4-31f2372a342a",
   "metadata": {},
   "outputs": [],
   "source": []
  },
  {
   "cell_type": "markdown",
   "id": "7ca5c5f4",
   "metadata": {},
   "source": [
    "1. Write a python script that asks the user for the values of x and y and uses these inputs to\n",
    "compute the numerical value of the expression"
   ]
  },
  {
   "cell_type": "code",
   "execution_count": 27,
   "id": "25e7cfa8",
   "metadata": {},
   "outputs": [
    {
     "name": "stdin",
     "output_type": "stream",
     "text": [
      "Enter x:  4\n",
      "Enter y:  6\n"
     ]
    },
    {
     "name": "stdout",
     "output_type": "stream",
     "text": [
      "557.665041527939\n"
     ]
    }
   ],
   "source": [
    "import math\n",
    "\n",
    "x = int(input(\"Enter x: \"))\n",
    "y = int(input(\"Enter y: \"))\n",
    "\n",
    "num = (x**(2+y))**(1/2)\n",
    "denum = (1/x) + 2*(math.sin(math.radians(y)))\n",
    "value = num/denum\n",
    "\n",
    "print(value)\n"
   ]
  },
  {
   "cell_type": "markdown",
   "id": "5ff468b1",
   "metadata": {},
   "source": [
    "2. Write a function that given two integers b and n (n is positive), calculates bn without using\n",
    "python’s power operator. Name this function ownpowerfn.py.\n",
    "PS: What if we do not specify that n has to be positive?"
   ]
  },
  {
   "cell_type": "code",
   "execution_count": 29,
   "id": "16c2ba09",
   "metadata": {},
   "outputs": [
    {
     "name": "stdin",
     "output_type": "stream",
     "text": [
      "Enter b:  8\n",
      "Enter n:  4\n"
     ]
    },
    {
     "name": "stdout",
     "output_type": "stream",
     "text": [
      "the value of 8 raised to the power of 4 is:  4096\n"
     ]
    }
   ],
   "source": [
    "def ownpowerfn(b, n):\n",
    "\n",
    "    \"\"\"\n",
    "    Calculates the power of a number.\n",
    "\n",
    "    This function returns the value of b raised to the power of n.\n",
    "\n",
    "    Parameters:\n",
    "    - b : float or int\n",
    "        The base to be raised to a power.\n",
    "    - n : int\n",
    "        The exponent, which can be positive, negative, or zero.\n",
    "\n",
    "    Returns:\n",
    "    - float\n",
    "        The value of b^n.\n",
    "\n",
    "    \"\"\"\n",
    "\n",
    "    \n",
    "    powerfn = 1\n",
    "    if n == 0 :\n",
    "        return powerfn\n",
    "    elif n > 0:\n",
    "        for i in range(n):\n",
    "            powerfn = powerfn* b\n",
    "    else:\n",
    "        for i in range(-n):\n",
    "            powerfn = powerfn* (1/b)\n",
    "    return powerfn\n",
    "\n",
    "\n",
    "b = int(input(\"Enter b: \"))\n",
    "n = int(input(\"Enter n: \"))\n",
    "print(\"the value of\", b, \"raised to the power of\", n, \"is: \", ownpowerfn(b, n))"
   ]
  },
  {
   "cell_type": "markdown",
   "id": "fdc4e18c",
   "metadata": {},
   "source": [
    "3. Write functions that do the following:\n",
    "a) Takes two arguments, and computes their arithmetic and geometric means. Name\n",
    "these functions arithmetic_mean and geometric_mean respectively."
   ]
  },
  {
   "cell_type": "code",
   "execution_count": 30,
   "id": "5f7a82bf",
   "metadata": {},
   "outputs": [
    {
     "name": "stdin",
     "output_type": "stream",
     "text": [
      "Enter a:  5\n",
      "Enter b:  -3\n"
     ]
    },
    {
     "name": "stdout",
     "output_type": "stream",
     "text": [
      "The arithmetic mean of  5 and -3 is:  1.0\n"
     ]
    }
   ],
   "source": [
    "def arithmetic_mean(a, b):\n",
    "\n",
    "    \"\"\"\n",
    "    Calculates the arithmetic mean of two numbers.\n",
    "\n",
    "    The arithmetic mean is the sum of the numbers divided by the count of the numbers.\n",
    "\n",
    "    Parameters:\n",
    "    - a : float or int\n",
    "        The first number.\n",
    "    - b : float or int\n",
    "        The second number.\n",
    "\n",
    "    Returns:\n",
    "    - float\n",
    "        The arithmetic mean of a and b.\n",
    "    \"\"\"\n",
    "\n",
    "\n",
    "    return (a+b)/2\n",
    "\n",
    "a = int(input(\"Enter a: \"))\n",
    "b = int(input(\"Enter b: \"))\n",
    "print(\"The arithmetic mean of \", a, \"and\", b, \"is: \", arithmetic_mean(a,b))\n"
   ]
  },
  {
   "cell_type": "code",
   "execution_count": 31,
   "id": "a76b0a1a",
   "metadata": {},
   "outputs": [
    {
     "name": "stdin",
     "output_type": "stream",
     "text": [
      "Enter a:  5\n",
      "Enter b:  7\n"
     ]
    },
    {
     "name": "stdout",
     "output_type": "stream",
     "text": [
      "The geometric mean of  5 and 7 is:  5.916079783099616\n"
     ]
    }
   ],
   "source": [
    "def geometric_mean(a, b):\n",
    "\n",
    "    \"\"\"\n",
    "    Calculates the geometric mean of two numbers.\n",
    "\n",
    "    The geometric mean is the square root of the product of the two numbers.\n",
    "\n",
    "    Parameters:\n",
    "    - a : float or int\n",
    "        The first number. \n",
    "    - b : float or int\n",
    "        The second number. \n",
    "\n",
    "    Returns:\n",
    "    - float\n",
    "        The geometric mean of a and b.\n",
    "\n",
    "    \"\"\"\n",
    "    \n",
    "    return (a*b)**(1/2)\n",
    "\n",
    "a = int(input(\"Enter a: \"))\n",
    "b = int(input(\"Enter b: \"))\n",
    "print(\"The geometric mean of \", a, \"and\", b, \"is: \", geometric_mean(a,b))\n"
   ]
  },
  {
   "cell_type": "markdown",
   "id": "732afab3",
   "metadata": {},
   "source": [
    "b) Converts degree Celsius to Fahrenheit and vice versa. Name these two functions\n",
    "celcius_to_fahrenheit and fahrenheit_to_celcius respectively."
   ]
  },
  {
   "cell_type": "code",
   "execution_count": 33,
   "id": "c87cff0c",
   "metadata": {},
   "outputs": [
    {
     "name": "stdin",
     "output_type": "stream",
     "text": [
      "Enter  the temperature in celsuis:  25\n"
     ]
    },
    {
     "name": "stdout",
     "output_type": "stream",
     "text": [
      "The temperature in celsuis of  25 in fahrenheit is:  77.0\n"
     ]
    }
   ],
   "source": [
    "def celcius_to_fahrenheit(celsuis):\n",
    "\n",
    "    \"\"\"\n",
    "    Converts temperature from Celsius to Fahrenheit.\n",
    "\n",
    "    The conversion formula is:\n",
    "    Fahrenheit = (Celsius * 9/5) + 32\n",
    "\n",
    "    Parameters:\n",
    "    - celsius : float or int\n",
    "        The temperature in degrees Celsius.\n",
    "\n",
    "    Returns:\n",
    "    - float\n",
    "        The temperature converted to degrees Fahrenheit.\n",
    "\n",
    "    \"\"\"\n",
    "\n",
    "    fahrenheit = (celsuis * 9/5) + 32 \n",
    "    return fahrenheit\n",
    "\n",
    "celsuis = int(input(\"Enter  the temperature in celsuis: \"))\n",
    "print(\"The temperature in celsuis of \", celsuis, \"in fahrenheit is: \", celcius_to_fahrenheit(celsuis))\n",
    "   "
   ]
  },
  {
   "cell_type": "code",
   "execution_count": 34,
   "id": "251f3bf2",
   "metadata": {},
   "outputs": [
    {
     "name": "stdin",
     "output_type": "stream",
     "text": [
      "Enter  the temperature in fahrenheit:  39\n"
     ]
    },
    {
     "name": "stdout",
     "output_type": "stream",
     "text": [
      "The temperature in fahrenheit of  39 in celcuis is:  3.888888888888889\n"
     ]
    }
   ],
   "source": [
    "def fahrenheit_to_celcius(fahrenheit):\n",
    "    \n",
    "    \"\"\"\n",
    "    Converts temperature from Fahrenheit to Celsius.\n",
    "\n",
    "    The conversion formula is:\n",
    "    Celsius = (Fahrenheit - 32) * 5/9\n",
    "\n",
    "    Parameters:\n",
    "    - fahrenheit : float or int\n",
    "        The temperature in degrees Fahrenheit.\n",
    "\n",
    "    Returns:\n",
    "    - float\n",
    "        The temperature converted to degrees Celsius.\n",
    "\n",
    "    \"\"\"\n",
    "\n",
    "    \n",
    "    celsuis = (fahrenheit - 32) * 5/9 \n",
    "    return celsuis\n",
    "\n",
    "fahrenheit = int(input(\"Enter  the temperature in fahrenheit: \"))\n",
    "print(\"The temperature in fahrenheit of \", fahrenheit, \"in celcuis is: \", fahrenheit_to_celcius(fahrenheit))\n",
    "   "
   ]
  },
  {
   "cell_type": "markdown",
   "id": "dc23cdbb",
   "metadata": {},
   "source": [
    "c) Converts angle in degrees to radians and vice versa. Name these two functions\n",
    "degrees_to_radians and radians_to_degrees respectively."
   ]
  },
  {
   "cell_type": "code",
   "execution_count": 43,
   "id": "acd5aa4d",
   "metadata": {},
   "outputs": [
    {
     "name": "stdin",
     "output_type": "stream",
     "text": [
      "Enter  the angle in degrees:  90\n"
     ]
    },
    {
     "name": "stdout",
     "output_type": "stream",
     "text": [
      "The radian of the angle  90.0  is:  1.5707963267948966\n"
     ]
    }
   ],
   "source": [
    "from math import *\n",
    "def degrees_to_radians(degrees):\n",
    "\n",
    "    \"\"\"\n",
    "    Converts an angle from degrees to radians.\n",
    "\n",
    "    The conversion formula is:\n",
    "    Radians = Degrees * (pi / 180)\n",
    "\n",
    "    Parameters:\n",
    "    - degrees : float or int\n",
    "        The angle in degrees.\n",
    "\n",
    "    Returns:\n",
    "    - float\n",
    "        The angle converted to radians.\n",
    "\n",
    "    \"\"\"\n",
    "    \n",
    "    return degrees * (pi/180)\n",
    "\n",
    "\n",
    "degrees = float(input(\"Enter  the angle in degrees: \"))\n",
    "print(\"The radian of the angle \", degrees, \" is: \", degrees_to_radians(degrees))\n"
   ]
  },
  {
   "cell_type": "code",
   "execution_count": 44,
   "id": "b53d88ad",
   "metadata": {},
   "outputs": [
    {
     "name": "stdin",
     "output_type": "stream",
     "text": [
      "Enter  the angle in radians:  3.14\n"
     ]
    },
    {
     "name": "stdout",
     "output_type": "stream",
     "text": [
      "The value in degrees of   3.14  is:  179.9087476710785\n"
     ]
    }
   ],
   "source": [
    "from math import *\n",
    "def radians_to_degrees(radians):\n",
    "\n",
    "    \"\"\"\n",
    "    Converts an angle from radians to degrees.\n",
    "\n",
    "    The conversion formula is:\n",
    "    Degrees = Radians * (180 / pi)\n",
    "\n",
    "    Parameters:\n",
    "    - radians : float\n",
    "        The angle in radians.\n",
    "\n",
    "    Returns:\n",
    "    - float\n",
    "        The angle converted to degrees.\n",
    "\n",
    "    \"\"\"\n",
    "\n",
    "    return radians * (180/pi)\n",
    "\n",
    "\n",
    "radians = float(input(\"Enter  the angle in radians: \"))\n",
    "print(\"The value in degrees of  \", radians, \" is: \", radians_to_degrees(radians))\n"
   ]
  },
  {
   "cell_type": "markdown",
   "id": "4194fa15",
   "metadata": {},
   "source": [
    "d) Computes the circumference and the area of a circle given the radius"
   ]
  },
  {
   "cell_type": "code",
   "execution_count": 45,
   "id": "0c099d50",
   "metadata": {},
   "outputs": [
    {
     "name": "stdin",
     "output_type": "stream",
     "text": [
      "Enter  the radius:  5.7\n"
     ]
    },
    {
     "name": "stdout",
     "output_type": "stream",
     "text": [
      "The circumference of a circle of radius  5.7  is:  35.814156250923645\n"
     ]
    }
   ],
   "source": [
    "from math import *\n",
    "def circumference(r):\n",
    "\n",
    "    \"\"\"\n",
    "    Calculates the circumference of a circle.\n",
    "\n",
    "    The formula for circumference is:\n",
    "    Circumference = 2 * π * r\n",
    "\n",
    "    Parameters:\n",
    "    - r : float or int\n",
    "        The radius of the circle.\n",
    "\n",
    "    Returns:\n",
    "    - float\n",
    "        The circumference of the circle.\n",
    "\n",
    "    \n",
    "    \"\"\"\n",
    "    return 2* pi * r\n",
    "\n",
    "radius = float(input(\"Enter  the radius: \"))\n",
    "print(\"The circumference of a circle of radius \", radius, \" is: \", circumference(radius))\n"
   ]
  },
  {
   "cell_type": "code",
   "execution_count": 46,
   "id": "20c299ae",
   "metadata": {},
   "outputs": [
    {
     "name": "stdin",
     "output_type": "stream",
     "text": [
      "Enter  the radius:  6.2\n"
     ]
    },
    {
     "name": "stdout",
     "output_type": "stream",
     "text": [
      "The area of a circle of radius  6.2  is:  120.76282160399167\n"
     ]
    }
   ],
   "source": [
    "from math import *\n",
    "def area(r):\n",
    "\n",
    "    \"\"\"\n",
    "    Calculates the area of a circle.\n",
    "\n",
    "    The formula for area is:\n",
    "    Area = π * r²\n",
    "\n",
    "    Parameters:\n",
    "    - r : float or int\n",
    "        The radius of the circle.\n",
    "\n",
    "    Returns:\n",
    "    - float\n",
    "        The area of the circle.\n",
    "    \n",
    "    \"\"\"\n",
    "    \n",
    "    return pi * r**2\n",
    "\n",
    "radius = float(input(\"Enter  the radius: \"))\n",
    "print(\"The area of a circle of radius \", radius, \" is: \", area(radius))\n"
   ]
  },
  {
   "cell_type": "markdown",
   "id": "2fcf1a46",
   "metadata": {},
   "source": [
    "4. Write functions that do the following:\n",
    "\n",
    "a) Given two numbers, compute their average and geometrical mean and prints them.\n",
    "Now write a program that performs this process 10 times, taking as input the means\n",
    "computed in the previous step. Name this function avggeom."
   ]
  },
  {
   "cell_type": "code",
   "execution_count": 51,
   "id": "d25bfc83",
   "metadata": {},
   "outputs": [
    {
     "name": "stdin",
     "output_type": "stream",
     "text": [
      "Enter x : 5\n",
      "Enter y : 9\n"
     ]
    },
    {
     "name": "stdout",
     "output_type": "stream",
     "text": [
      "7.0\n",
      "6.708203932499369\n",
      "6.854101966249685\n",
      "6.852548980306203\n",
      "6.853325473277944\n",
      "6.853325429288983\n",
      "6.853325451283464\n",
      "6.853325451283464\n",
      "6.853325451283464\n",
      "6.853325451283464\n",
      "6.853325451283464\n",
      "6.853325451283464\n",
      "6.853325451283464\n",
      "6.853325451283464\n",
      "6.853325451283464\n",
      "6.853325451283464\n",
      "6.853325451283464\n",
      "6.853325451283464\n",
      "6.853325451283464\n",
      "6.853325451283464\n"
     ]
    }
   ],
   "source": [
    "def avggeom(x, y):\n",
    "\n",
    "    \"\"\"\n",
    "     Computes and prints the arithmetic and geometric means \n",
    "    of two numbers for 10 iterations.\n",
    "\n",
    "    In each iteration, the arithmetic mean and geometric mean are calculated,\n",
    "    and the results are used as the new values for the next iteration.\n",
    "\n",
    "    Parameters:\n",
    "    - x : float or int\n",
    "        The first number.\n",
    "    - y : float or int\n",
    "        The second number.\n",
    "\n",
    "    Returns:\n",
    "    - None\n",
    "        This function prints the arithmetic and geometric means but does not return any value.\n",
    "\n",
    "\n",
    "    \"\"\"\n",
    "\n",
    " \n",
    "    i = 0\n",
    "    while i <10 :\n",
    "        arith = arithmetic_mean(x, y)\n",
    "        geo = geometric_mean(x, y)\n",
    "        print(arith)\n",
    "        print(geo)\n",
    "        x = arith\n",
    "        y = geo\n",
    "        i += 1\n",
    "        \n",
    "\n",
    "x = float(input(\"Enter x :\"))\n",
    "y = float(input(\"Enter y :\"))\n",
    "avggeom(x, y)      "
   ]
  },
  {
   "cell_type": "markdown",
   "id": "82098fd8",
   "metadata": {},
   "source": [
    "b) Write a function that computes the distance between two points in the plane. Use\n",
    "it in another program that computes the perimeter and the area of a triangle, given\n",
    "three points in the plane. Name this function distancefn"
   ]
  },
  {
   "cell_type": "code",
   "execution_count": 53,
   "id": "9e502060",
   "metadata": {},
   "outputs": [
    {
     "name": "stdin",
     "output_type": "stream",
     "text": [
      "Enter x-coordinate of the first point : -6.3\n",
      "Enter y-coordinate of the first point : 5\n",
      "Enter x-coordinate of the second point : 2.1\n",
      "Enter y-coordinate of the second point : 0\n"
     ]
    },
    {
     "name": "stdout",
     "output_type": "stream",
     "text": [
      "La distance est :  9.77547952787995\n"
     ]
    }
   ],
   "source": [
    "import math\n",
    "\n",
    "def distancefn(x1, y1, x2, y2):\n",
    "\n",
    "    \"\"\"\n",
    "    Calculates the distance between two points in a 2D plane.\n",
    "\n",
    "    The distance formula is:\n",
    "    Distance = √((x1 - x2)² + (y1 - y2)²)\n",
    "\n",
    "    Parameters:\n",
    "    - x1 : float or int\n",
    "        The x-coordinate of the first point.\n",
    "    - y1 : float or int\n",
    "        The y-coordinate of the first point.\n",
    "    - x2 : float or int\n",
    "        The x-coordinate of the second point.\n",
    "    - y2 : float or int\n",
    "        The y-coordinate of the second point.\n",
    "\n",
    "    Returns:\n",
    "    - float\n",
    "        The distance between the two points.\n",
    "\n",
    "    Examples:\n",
    "    - distancefn(0, 0, 3, 4) returns 5.0\n",
    "    - distancefn(-1, -1, 1, 1) returns 2.8284271247461903\n",
    "    \"\"\"\n",
    "    \n",
    "    dist = math.sqrt((x1-x2)**2 + (y1-y2)**2)\n",
    "    return dist\n",
    "\n",
    "\n",
    "x1 = float(input(\"Enter x-coordinate of the first point :\"))\n",
    "y1 = float(input(\"Enter y-coordinate of the first point :\"))\n",
    "x2 = float(input(\"Enter x-coordinate of the second point :\"))\n",
    "y2 = float(input(\"Enter y-coordinate of the second point :\"))\n",
    "print(\"La distance est : \", distancefn(x1, y1, x2, y2))"
   ]
  },
  {
   "cell_type": "markdown",
   "id": "416b6207",
   "metadata": {},
   "source": [
    "5. Write a program that offers three options to the user:\n",
    "    \n",
    "1.Evaluation of factorial\n",
    "\n",
    "2.Evaluation of a second degree equation\n",
    "\n",
    "3.Exit\n",
    "\n",
    "The user selects one of the options and then the program requests the data needed and\n",
    "calls the corresponding function to produce a result. The program then repeats the process\n",
    "until the user says he wants to exit. Name this function fact2nddeg."
   ]
  },
  {
   "cell_type": "code",
   "execution_count": 54,
   "id": "6b371f47",
   "metadata": {},
   "outputs": [
    {
     "name": "stdin",
     "output_type": "stream",
     "text": [
      "Enter n : 6\n"
     ]
    },
    {
     "name": "stdout",
     "output_type": "stream",
     "text": [
      " The factorial of  6 is 720\n"
     ]
    }
   ],
   "source": [
    "def evaluate_factorial(n):\n",
    "\n",
    "    \"\"\"\n",
    "    Calculates the factorial of a non-negative integer.\n",
    "\n",
    "    The factorial of a number n (denoted as n!) is the product of all positive integers\n",
    "    from 1 to n. The factorial of 0 is defined to be 1.\n",
    "\n",
    "    Parameters:\n",
    "    - n : int\n",
    "        A non-negative integer for which to compute the factorial.\n",
    "\n",
    "    Returns:\n",
    "    - int\n",
    "        The factorial of n or n if n a non-negative integer.\n",
    "\n",
    "    \"\"\"\n",
    "    \n",
    "    factorial = 1\n",
    "    if n > 0:\n",
    "        for i in range(1,n+1):\n",
    "            factorial *= i\n",
    "        return factorial\n",
    "    else:\n",
    "        return n\n",
    "\n",
    "n = int(input(\"Enter n :\"))\n",
    "print(\" The factorial of \", n, \"is\", evaluate_factorial(n))\n"
   ]
  },
  {
   "cell_type": "code",
   "execution_count": 56,
   "id": "523afe45",
   "metadata": {},
   "outputs": [
    {
     "name": "stdin",
     "output_type": "stream",
     "text": [
      "Enter a coefficient of x^2 : 5\n",
      "Enter b coefficient of x : -3\n",
      "Enter c constant term : 2.4\n"
     ]
    },
    {
     "name": "stdout",
     "output_type": "stream",
     "text": [
      "The solution is :  ((0.3+0.6244997998398398j), (0.3+0.6244997998398398j))\n"
     ]
    }
   ],
   "source": [
    "from math import *\n",
    "\n",
    "def second_degree(a, b, c):\n",
    "\n",
    "    \"\"\"\n",
    "    Solves a quadratic equation of the form ax^2 + bx + c = 0.\n",
    "\n",
    "    This function finds the roots of the quadratic equation based on the coefficients\n",
    "    a, b, and c. \n",
    "\n",
    "    Parameters:\n",
    "    - a : float\n",
    "        Coefficient of x^2. \n",
    "    - b : float\n",
    "        Coefficient of x.\n",
    "    - c : float\n",
    "        Constant term.\n",
    "\n",
    "    Returns:\n",
    "    - float or tuple of floats or complex numbers:\n",
    "        - If a is 0, returns the root of the linear equation (-c/b).\n",
    "        - If the discriminant is zero, returns a single root.\n",
    "        - If the discriminant is positive, returns a tuple of two real roots.\n",
    "        - If the discriminant is negative, returns a tuple of two complex roots.\n",
    "\n",
    "    \"\"\"\n",
    "\n",
    "    if a == 0:\n",
    "        x = -c/b\n",
    "        return x\n",
    "    \n",
    "    determinant = b*b - 4*a*c\n",
    "    if determinant == 0 :\n",
    "        x = -b/(2*a)\n",
    "        return x\n",
    "    elif determinant > 0:\n",
    "        x1 = (-b + sqrt(determinant) )/(2*a)\n",
    "        x2 = (-b - sqrt(determinant) )/(2*a)\n",
    "        return x1, x2\n",
    "    else :\n",
    "        x0 = -b/(2*a)\n",
    "        x1 =  sqrt(-determinant) /(2*a)\n",
    "        x2 = sqrt(-determinant) /(2*a)\n",
    "        x1 = complex(x0, x1)\n",
    "        x2 = complex(x0, x2)\n",
    "        return x1, x2\n",
    "        \n",
    "\n",
    "a = float(input(\"Enter a coefficient of x^2 :\"))\n",
    "b = float(input(\"Enter b coefficient of x :\"))\n",
    "c = float(input(\"Enter c constant term :\"))\n",
    "print(\"The solution is : \", second_degree(a, b, c))"
   ]
  },
  {
   "cell_type": "code",
   "execution_count": 59,
   "id": "021679c8",
   "metadata": {},
   "outputs": [
    {
     "name": "stdin",
     "output_type": "stream",
     "text": [
      "\n",
      "        1 For Evaluation of factorial;\n",
      "        2.Evaluation of a second degree equation;\n",
      "        3.Exit \n",
      "        Choose an option(1/2/3):   2\n",
      "Enter a value a:  2\n",
      "Enter a value b:  -6.7\n",
      "Enter a value c:  4\n"
     ]
    },
    {
     "name": "stdout",
     "output_type": "stream",
     "text": [
      "The solution of this equation is:  (2.572566153550812, 0.7774338464491879)\n"
     ]
    },
    {
     "name": "stdin",
     "output_type": "stream",
     "text": [
      "\n",
      "        1 For Evaluation of factorial;\n",
      "        2.Evaluation of a second degree equation;\n",
      "        3.Exit \n",
      "        Choose an option(1/2/3):   2\n",
      "Enter a value a:  3\n",
      "Enter a value b:  -5.6\n",
      "Enter a value c:  2\n"
     ]
    },
    {
     "name": "stdout",
     "output_type": "stream",
     "text": [
      "The solution of this equation is:  (1.3854886655416845, 0.4811780011249822)\n"
     ]
    },
    {
     "name": "stdin",
     "output_type": "stream",
     "text": [
      "\n",
      "        1 For Evaluation of factorial;\n",
      "        2.Evaluation of a second degree equation;\n",
      "        3.Exit \n",
      "        Choose an option(1/2/3):   1\n",
      "Enter a number n:  4\n"
     ]
    },
    {
     "name": "stdout",
     "output_type": "stream",
     "text": [
      "The factorial of  4 is  24\n"
     ]
    },
    {
     "name": "stdin",
     "output_type": "stream",
     "text": [
      "\n",
      "        1 For Evaluation of factorial;\n",
      "        2.Evaluation of a second degree equation;\n",
      "        3.Exit \n",
      "        Choose an option(1/2/3):   3\n"
     ]
    }
   ],
   "source": [
    "def fact2nddeg():\n",
    "\n",
    "    \"\"\"\n",
    "    The function offers three options to the user.\n",
    "\n",
    "    Options:\n",
    "    - 1: Evaluate the factorial of a number.\n",
    "    - 2: Solve a second-degree equation of the form ax^2 + bx + c = 0.\n",
    "    - 3: Exit the program.\n",
    "\n",
    "    The function performs the following actions:\n",
    "    - If option 1 is selected, for `evaluate_factorial` function.\n",
    "    - If option 2 is selected, for the `second_degree` function.\n",
    "    - If option 3 is selected, the program exits.\n",
    "    - If an invalid option is selected, the user is prompted to choose a valid option.\n",
    "\n",
    "    Returns:\n",
    "    - None\n",
    "    \"\"\"\n",
    "    \n",
    "    exit = False\n",
    "    \n",
    "    while exit == False :\n",
    "        choice = int(input(\"\"\"\n",
    "        1 For Evaluation of factorial;\n",
    "        2.Evaluation of a second degree equation;\n",
    "        3.Exit \n",
    "        Choose an option(1/2/3):  \"\"\"))\n",
    "\n",
    "        if choice == 1:\n",
    "            n = int(input(\"Enter a number n: \"))\n",
    "            print(\"The factorial of \", n, \"is \", evaluate_factorial(n)) \n",
    "\n",
    "        elif choice == 2:\n",
    "            a = float(input(\"Enter a value a: \"))\n",
    "            b = float(input(\"Enter a value b: \"))\n",
    "            c = float(input(\"Enter a value c: \"))\n",
    "            print(\"The solution of this equation is: \",second_degree(a, b, c)) \n",
    "\n",
    "        elif choice == 3:\n",
    "            exit = True\n",
    "            \n",
    "        else :\n",
    "            print(\"Choose an option(1/2/3) \")\n",
    "        \n",
    "        \n",
    "fact2nddeg()"
   ]
  },
  {
   "cell_type": "markdown",
   "id": "4cdf1b4f",
   "metadata": {},
   "source": [
    "6. For a fixed real number x and a natural number n, we can define recursively xn using the\n",
    "relations:\n",
    "    \n",
    "x0 = 1 and xn+1 = x.x n .\n",
    "\n",
    "Write a function power(x,n) that implements the above recursion."
   ]
  },
  {
   "cell_type": "code",
   "execution_count": 60,
   "id": "5475eac9",
   "metadata": {},
   "outputs": [
    {
     "name": "stdin",
     "output_type": "stream",
     "text": [
      "Enter x:  4.5\n",
      "Enter n:  2\n"
     ]
    },
    {
     "name": "stdout",
     "output_type": "stream",
     "text": [
      "The power of a number using recursion is 20.25\n"
     ]
    }
   ],
   "source": [
    "def power(x,n):\n",
    "\n",
    "    \"\"\"\n",
    "    Calculates the power of a number using recursion.\n",
    "\n",
    "    Parameters:\n",
    "    - x : float or int\n",
    "        The base number.\n",
    "    - n : int\n",
    "        The exponent, which can be a positive integer or zero.\n",
    "\n",
    "    Returns:\n",
    "    - float or int\n",
    "        The value of x raised to the power of n (x^n). \n",
    "        - If n is zero or negative, the function returns 1 (by convention).\n",
    "    \"\"\"\n",
    "    \n",
    "    if n <= 0:\n",
    "        return 1\n",
    "    else :\n",
    "        return x * power(x,n-1)\n",
    "\n",
    "x= float(input(\"Enter x: \"))\n",
    "n= int(input(\"Enter n: \"))\n",
    "print(\"The power of a number using recursion is\", power(x,n))\n"
   ]
  },
  {
   "cell_type": "markdown",
   "id": "d77e3546",
   "metadata": {},
   "source": [
    "7. Write code that implements the Fibonacci sequence. Test your program at 100."
   ]
  },
  {
   "cell_type": "code",
   "execution_count": 68,
   "id": "dc12b832",
   "metadata": {},
   "outputs": [
    {
     "name": "stdin",
     "output_type": "stream",
     "text": [
      "Enter the first term x0:  -3\n",
      "Enter the second term x1:  5\n"
     ]
    },
    {
     "name": "stdout",
     "output_type": "stream",
     "text": [
      "The 100 first terms of Fibonacci\n",
      "-3.0\n",
      "5.0\n",
      "2.0\n",
      "7.0\n",
      "9.0\n",
      "16.0\n",
      "25.0\n",
      "41.0\n",
      "66.0\n",
      "107.0\n",
      "173.0\n",
      "280.0\n",
      "453.0\n",
      "733.0\n",
      "1186.0\n",
      "1919.0\n",
      "3105.0\n",
      "5024.0\n",
      "8129.0\n",
      "13153.0\n",
      "21282.0\n",
      "34435.0\n",
      "55717.0\n",
      "90152.0\n",
      "145869.0\n",
      "236021.0\n",
      "381890.0\n",
      "617911.0\n",
      "999801.0\n",
      "1617712.0\n",
      "2617513.0\n",
      "4235225.0\n",
      "6852738.0\n",
      "11087963.0\n",
      "17940701.0\n",
      "29028664.0\n",
      "46969365.0\n",
      "75998029.0\n",
      "122967394.0\n",
      "198965423.0\n",
      "321932817.0\n",
      "520898240.0\n",
      "842831057.0\n",
      "1363729297.0\n",
      "2206560354.0\n",
      "3570289651.0\n",
      "5776850005.0\n",
      "9347139656.0\n",
      "15123989661.0\n",
      "24471129317.0\n",
      "39595118978.0\n",
      "64066248295.0\n",
      "103661367273.0\n",
      "167727615568.0\n",
      "271388982841.0\n",
      "439116598409.0\n",
      "710505581250.0\n",
      "1149622179659.0\n",
      "1860127760909.0\n",
      "3009749940568.0\n",
      "4869877701477.0\n",
      "7879627642045.0\n",
      "12749505343522.0\n",
      "20629132985567.0\n",
      "33378638329089.0\n",
      "54007771314656.0\n",
      "87386409643745.0\n",
      "141394180958401.0\n",
      "228780590602146.0\n",
      "370174771560547.0\n",
      "598955362162693.0\n",
      "969130133723240.0\n",
      "1568085495885933.0\n",
      "2537215629609173.0\n",
      "4105301125495106.0\n",
      "6642516755104279.0\n",
      "1.0747817880599384e+16\n",
      "1.7390334635703664e+16\n",
      "2.813815251630305e+16\n",
      "4.552848715200671e+16\n",
      "7.366663966830976e+16\n",
      "1.1919512682031648e+17\n",
      "1.9286176648862624e+17\n",
      "3.120568933089427e+17\n",
      "5.0491865979756896e+17\n",
      "8.169755531065116e+17\n",
      "1.3218942129040806e+18\n",
      "2.1388697660105923e+18\n",
      "3.4607639789146726e+18\n",
      "5.599633744925265e+18\n",
      "9.060397723839938e+18\n",
      "1.4660031468765202e+19\n",
      "2.372042919260514e+19\n",
      "3.838046066137034e+19\n",
      "6.210088985397548e+19\n",
      "1.0048135051534582e+20\n",
      "1.625822403693213e+20\n",
      "2.6306359088466713e+20\n",
      "4.256458312539885e+20\n",
      "6.887094221386556e+20\n",
      "None\n"
     ]
    }
   ],
   "source": [
    "def Fibonacci_seq(x0, x1):\n",
    "\n",
    "    \"\"\"\n",
    "    Generates and prints the Fibonacci sequence starting from two given initial values.\n",
    "\n",
    "    Parameters:\n",
    "    - x0 : int or float\n",
    "        The first initial value of the Fibonacci sequence.\n",
    "    - x1 : int or float\n",
    "        The second initial value of the Fibonacci sequence.\n",
    "\n",
    "    Returns:\n",
    "    - None\n",
    "        This function prints the first 100 terms of the Fibonacci sequence starting from x0 and x1.\n",
    "\n",
    "    \"\"\"\n",
    "\n",
    "    \n",
    "    print(x0)\n",
    "    print(x1)\n",
    "    xn = 0\n",
    "    for i in range(2,100):\n",
    "        xn = x0 + x1\n",
    "        print(xn)\n",
    "        x0 = x1\n",
    "        x1 = xn\n",
    "        \n",
    "x0= float(input(\"Enter the first term x0: \"))\n",
    "x1= float(input(\"Enter the second term x1: \"))\n",
    "print(\"The 100 first terms of Fibonacci\")\n",
    "print(Fibonacci_seq(x0,x1))"
   ]
  },
  {
   "cell_type": "markdown",
   "id": "c97bd1bc",
   "metadata": {},
   "source": [
    "8. a) Design, implement and test a program M which, given two strings in increasing\n",
    "alphabetical order merges them into a single string in increasing alphabetical order.\n",
    "For example\n",
    "M (‘bd ′ , ‘abcf ′ ) = ‘abbcdf ′ "
   ]
  },
  {
   "cell_type": "code",
   "execution_count": 69,
   "id": "7440fda0",
   "metadata": {},
   "outputs": [
    {
     "data": {
      "text/plain": [
       "'abbcdf'"
      ]
     },
     "execution_count": 69,
     "metadata": {},
     "output_type": "execute_result"
    }
   ],
   "source": [
    "def M(str1, str2):\n",
    "\n",
    "    \"\"\"\n",
    "    Merges two sorted strings into a single sorted string.\n",
    "\n",
    "    Parameters:\n",
    "    - str1 : str\n",
    "        The first sorted string.\n",
    "    - str2 : str\n",
    "        The second sorted string.\n",
    "\n",
    "    Returns:\n",
    "    - str\n",
    "        A new string that contains all characters from str1 and str2 in sorted order.\n",
    "\n",
    "    \"\"\"\n",
    "    \n",
    "    i = 0\n",
    "    j = 0\n",
    "    increase = ''\n",
    "    \n",
    "    while i < len(str1) and j < len(str2):\n",
    "        if str1[i] < str2[j]:\n",
    "            increase += str1[i]\n",
    "            i += 1\n",
    "        else:\n",
    "            increase += str2[j]\n",
    "            j += 1\n",
    "            \n",
    "    increase += str1[i:]\n",
    "    increase += str2[j:]\n",
    "            \n",
    "    return increase\n",
    "\n",
    "M('bd' , 'abcf')  \n",
    "            "
   ]
  },
  {
   "cell_type": "markdown",
   "id": "741fcb8f",
   "metadata": {},
   "source": [
    "b) Ensure that M works even if the two strings contain repetitions. For example\n",
    "M (‘bdd ′ , ‘abccd ′ ) = ‘abbccddd ′ ."
   ]
  },
  {
   "cell_type": "code",
   "execution_count": 70,
   "id": "437b14ad-ed71-49a3-b9d2-5f74a922c89a",
   "metadata": {},
   "outputs": [
    {
     "data": {
      "text/plain": [
       "'abbccddd'"
      ]
     },
     "execution_count": 70,
     "metadata": {},
     "output_type": "execute_result"
    }
   ],
   "source": [
    "M ('bdd' , 'abccd' )"
   ]
  },
  {
   "cell_type": "code",
   "execution_count": 71,
   "id": "a8b9e3f1-f291-41e7-b22d-1ddc25dfa875",
   "metadata": {},
   "outputs": [
    {
     "data": {
      "text/plain": [
       "'aabddcff'"
      ]
     },
     "execution_count": 71,
     "metadata": {},
     "output_type": "execute_result"
    }
   ],
   "source": [
    "M ('dcff' , 'aabd' )"
   ]
  },
  {
   "cell_type": "markdown",
   "id": "124d9155",
   "metadata": {},
   "source": [
    "So, the function M works even if the two strings contain repetitions "
   ]
  },
  {
   "cell_type": "markdown",
   "id": "91f6f399",
   "metadata": {},
   "source": [
    "c) Use M to design, implement and test a function S to sort into alphabetical order a\n",
    "string, perhaps with repetitions. For example\n",
    "S(‘dcf abd ′ ) = ‘abcddf ′ ."
   ]
  },
  {
   "cell_type": "code",
   "execution_count": 72,
   "id": "ebd1b0cd",
   "metadata": {},
   "outputs": [
    {
     "name": "stdout",
     "output_type": "stream",
     "text": [
      "abcddf\n"
     ]
    }
   ],
   "source": [
    "def S(string):\n",
    "\n",
    "    \"\"\"\n",
    "    Sorts a string using a recursive merge sort algorithm.\n",
    "\n",
    "    Parameters:\n",
    "    - string : str\n",
    "        The input string to be sorted. Whitespace will be removed.\n",
    "\n",
    "    Returns:\n",
    "    - str\n",
    "        A new string that contains all characters from the input string in sorted order.\n",
    "\n",
    "    \"\"\"\n",
    "    \n",
    "    string = ''.join(string.split())\n",
    "    \n",
    "    if len(string) <= 1:\n",
    "        return string\n",
    "    \n",
    "    half = len(string) // 2\n",
    "    str1 = string[:half]\n",
    "    str2 = string[half:]\n",
    "\n",
    "    return M(S(str1), S(str2))\n",
    "\n",
    "\n",
    "result = S('dcf abd')\n",
    "print(result)  "
   ]
  },
  {
   "cell_type": "markdown",
   "id": "06b471e3-8473-43f7-832f-43c23f03ccd4",
   "metadata": {},
   "source": [
    "d) Write a modified version of M which, given two strings not necessarily in increasing\n",
    "alphabetical order, put them first in increasing alphabetical order and then merges\n",
    "them into a single string in increasing alphabetical order."
   ]
  },
  {
   "cell_type": "code",
   "execution_count": 73,
   "id": "b24ffe21-aac4-485b-b5a2-69e331ea28e4",
   "metadata": {},
   "outputs": [
    {
     "name": "stdout",
     "output_type": "stream",
     "text": [
      "abbcdf\n"
     ]
    }
   ],
   "source": [
    "def M(str1, str2):\n",
    "\n",
    "    \"\"\"\n",
    "    Merges two strings after sorting their characters.\n",
    "\n",
    "    Parameters:\n",
    "    - str1 : str\n",
    "        The first input string.\n",
    "    - str2 : str\n",
    "        The second input string.\n",
    "\n",
    "    Returns:\n",
    "    - str\n",
    "        A new string that contains all characters from str1 and str2 sorted in ascending order.\n",
    "    \"\"\"\n",
    "    \n",
    "    str1 = ''.join(sorted(str1))\n",
    "    str2 = ''.join(sorted(str2))\n",
    "    \n",
    "    i = 0\n",
    "    j = 0\n",
    "    increase = ''\n",
    "    \n",
    "    # Merge the two sorted strings\n",
    "    while i < len(str1) and j < len(str2):\n",
    "        if str1[i] < str2[j]:\n",
    "            increase += str1[i]\n",
    "            i += 1\n",
    "        else:\n",
    "            increase += str2[j]\n",
    "            j += 1\n",
    "            \n",
    "    # Append any remaining characters\n",
    "    increase += str1[i:]\n",
    "    increase += str2[j:]\n",
    "            \n",
    "    return increase\n",
    "\n",
    "# Test the modified function\n",
    "result = M('bd', 'abcf')\n",
    "print(result)  # Output: 'abbcdf'\n",
    "\n"
   ]
  },
  {
   "cell_type": "markdown",
   "id": "963ced79-8e41-40a0-8bc1-b0b03f550e09",
   "metadata": {},
   "source": [
    "e) Write a function that:\n",
    "\n",
    "i. Reads a sentence and find the first vowel that appears in it by traversing each of\n",
    "its characters."
   ]
  },
  {
   "cell_type": "code",
   "execution_count": 83,
   "id": "4ad61914-4877-4235-8d68-330318bc3b9a",
   "metadata": {},
   "outputs": [
    {
     "name": "stdin",
     "output_type": "stream",
     "text": [
      "Enter a sentence:  EUK\n"
     ]
    },
    {
     "name": "stdout",
     "output_type": "stream",
     "text": [
      "The first vowel in euk is: e\n"
     ]
    }
   ],
   "source": [
    "def first_vowel(sentence):\n",
    "    \"\"\"\n",
    "    Finds and returns the first vowel in a given sentence.\n",
    "\n",
    "    Parameters:\n",
    "    - sentence : str\n",
    "        The input sentence in which to search for the first vowel.\n",
    "\n",
    "    Returns:\n",
    "    - str or None\n",
    "        The first vowel found in the sentence, or None if no vowels are present.\n",
    "\n",
    "    \"\"\"\n",
    "    vowel = ['a', 'e', 'i', 'o', 'u']\n",
    "    for char in sentence:\n",
    "        if char in vowel:\n",
    "            return char\n",
    "    return None\n",
    "\n",
    "sentence = input(\"Enter a sentence: \").lower()\n",
    "print(\"The first vowel in\", sentence, \"is:\", first_vowel(sentence))"
   ]
  },
  {
   "cell_type": "markdown",
   "id": "29cbe952-fefb-44ef-b225-db67a33b1ca1",
   "metadata": {},
   "source": [
    "ii. Reads a sentence and count the number of vowels that it contains. Write a\n",
    "function isVowel that, given a character, returns true if its a vowel and false\n",
    "otherwise."
   ]
  },
  {
   "cell_type": "code",
   "execution_count": 86,
   "id": "a3d28d2a-9413-433b-957d-a8a758abb98b",
   "metadata": {},
   "outputs": [
    {
     "data": {
      "text/plain": [
       "False"
      ]
     },
     "execution_count": 86,
     "metadata": {},
     "output_type": "execute_result"
    }
   ],
   "source": [
    "def is_vowel(char):\n",
    "\n",
    "    \"\"\"\n",
    "    Checks if a given character is a vowel.\n",
    "\n",
    "    Parameters:\n",
    "    - char : str\n",
    "        A single character to be checked.\n",
    "\n",
    "    Returns:\n",
    "    - bool\n",
    "        True if the character is a vowel, False otherwise.\n",
    "\n",
    "    \"\"\"\n",
    "\n",
    "    \n",
    "    vowel = ['a', 'e', 'i', 'o', 'u']\n",
    "    return char.lower() in vowel\n",
    "\n",
    "is_vowel('T')"
   ]
  },
  {
   "cell_type": "code",
   "execution_count": 88,
   "id": "0ca5530e-72d9-45ba-8632-6e7981d80382",
   "metadata": {},
   "outputs": [
    {
     "name": "stdin",
     "output_type": "stream",
     "text": [
      "Enter a sentence:  hklkdeff\n"
     ]
    },
    {
     "name": "stdout",
     "output_type": "stream",
     "text": [
      "The number of vowels in hklkdeff is: 1\n"
     ]
    }
   ],
   "source": [
    "def count_vowels(sentence):\n",
    "\n",
    "    \"\"\"\n",
    "    Counts the number of vowels in a given sentence.\n",
    "\n",
    "    Parameters:\n",
    "    - sentence : str\n",
    "        The input sentence in which to count the vowels.\n",
    "\n",
    "    Returns:\n",
    "    - int\n",
    "        The total number of vowels found in the sentence.\n",
    "\n",
    "    \"\"\"\n",
    "    \n",
    "    count=0\n",
    "    for char in sentence :\n",
    "        if is_vowel(char):\n",
    "            count += 1\n",
    "    return count\n",
    "            \n",
    "\n",
    "sentence = input(\"Enter a sentence: \").lower()\n",
    "print(\"The number of vowels in\", sentence, \"is:\", count_vowels(sentence))\n"
   ]
  },
  {
   "cell_type": "markdown",
   "id": "384173f4-adc1-443e-bbcc-d9ac8d90e1b8",
   "metadata": {},
   "source": [
    "iii. Reads letters and write them in upper case. The program will end when a digit\n",
    "is introduced."
   ]
  },
  {
   "cell_type": "code",
   "execution_count": 91,
   "id": "aea21e3a-8e69-45e0-b7e1-654c617e67a5",
   "metadata": {},
   "outputs": [
    {
     "name": "stdin",
     "output_type": "stream",
     "text": [
      "Enter a letter (or digit to stop):  t\n",
      "Enter a letter (or digit to stop):  w\n",
      "Enter a letter (or digit to stop):  s\n",
      "Enter a letter (or digit to stop):  h\n",
      "Enter a letter (or digit to stop):  l\n",
      "Enter a letter (or digit to stop):  4\n"
     ]
    },
    {
     "data": {
      "text/plain": [
       "'TWSHL'"
      ]
     },
     "execution_count": 91,
     "metadata": {},
     "output_type": "execute_result"
    }
   ],
   "source": [
    "def read_letters():\n",
    "\n",
    "    \"\"\"\n",
    "    The function continuously asks the user to input a letter collects them in uppercase.\n",
    "\n",
    "    Returns:\n",
    "    - str\n",
    "        A string containing all entered letters in uppercase.\n",
    "        \n",
    "    \"\"\"\n",
    "    \n",
    "    upper_case = []\n",
    "    while True:\n",
    "        char = input(\"Enter a letter (or digit to stop): \")\n",
    "        if char.isdigit():\n",
    "            break\n",
    "        upper_case.append(char.upper())\n",
    "    return ''.join(upper_case)\n",
    "\n",
    "read_letters()"
   ]
  },
  {
   "cell_type": "markdown",
   "id": "801c27c5-67ae-482d-8cf7-334861e78920",
   "metadata": {},
   "source": [
    "iv. Reads a sentence and count out all vowels that it contains, separately: Appear-\n",
    "ances of A, appearances of E, appearances of I... You must ensure the sentence\n",
    "is uppercase."
   ]
  },
  {
   "cell_type": "code",
   "execution_count": 2,
   "id": "424c038b-4d3c-4031-a591-01b64e491b36",
   "metadata": {},
   "outputs": [
    {
     "name": "stdout",
     "output_type": "stream",
     "text": [
      "{'a': 0, 'e': 3, 'i': 0, 'o': 0, 'u': 0}\n"
     ]
    }
   ],
   "source": [
    "def count_out_all_vowels(sentence):\n",
    "    \"\"\"\n",
    "    Counts the occurrences of each vowel in a given sentence.\n",
    "\n",
    "    Parameters:\n",
    "    sentence (str): The sentence in which to count the vowels.\n",
    "\n",
    "    Returns:\n",
    "    dict: A dictionary containing the vowels as keys and their \n",
    "          occurrence counts as values. \n",
    "          \n",
    "    \"\"\"\n",
    "    vowels = ['a', 'e', 'i', 'o', 'u']\n",
    "    vowel_count = {vow: 0 for vow in vowels}  \n",
    "\n",
    "    for char in sentence.lower():  \n",
    "        if char in vowel_count:  \n",
    "            vowel_count[char] += 1  \n",
    "\n",
    "    return vowel_count\n",
    "\n",
    "# Example usage\n",
    "print(count_out_all_vowels('sentence'))"
   ]
  },
  {
   "cell_type": "markdown",
   "id": "7cd910f4-9d93-4b46-9082-042670a19779",
   "metadata": {},
   "source": [
    "v. Reads a sentence and compare the number of time that b and c appear."
   ]
  },
  {
   "cell_type": "code",
   "execution_count": 5,
   "id": "10ee29d2-2ca0-4be5-b06a-f6370c55fb3a",
   "metadata": {},
   "outputs": [
    {
     "name": "stdin",
     "output_type": "stream",
     "text": [
      "Enter a string:  Good morning and welcome behind c\n"
     ]
    },
    {
     "name": "stdout",
     "output_type": "stream",
     "text": [
      " The number of times 'b' and 'c' appear in : ' Good morning and welcome behind c ' is b:  1  and c:  2\n"
     ]
    }
   ],
   "source": [
    "def compare_b_c(sentence):\n",
    "\n",
    "    \"\"\"\n",
    "    Compares the number of times 'b' and 'c' appear in the given sentence.\n",
    "\n",
    "    Parameters:\n",
    "    sentence (str): The sentence in which to count the occurrences of 'b' and 'c'.\n",
    "\n",
    "    Returns:\n",
    "    tuple: A tuple containing two integers: the count of 'b' and the count of 'c'.\n",
    "    \n",
    "    \n",
    "    \"\"\"\n",
    "    \n",
    "\n",
    "    b_count = sentence.lower().count('b')\n",
    "    c_count = sentence.lower().count('c')\n",
    "    return b_count, c_count\n",
    "\n",
    "x = input(\"Enter a string: \")\n",
    "print(\" The number of times 'b' and 'c' appear in : '\", x, \"' is b: \", compare_b_c(x)[0], \" and c: \", compare_b_c(x)[1])\n"
   ]
  },
  {
   "cell_type": "markdown",
   "id": "9f1e12d6-bfba-4960-b14c-d30f82d042ee",
   "metadata": {},
   "source": [
    "vi. Read a sentence and rewrite it with the first letter of each word in capital letter."
   ]
  },
  {
   "cell_type": "code",
   "execution_count": 99,
   "id": "beb2ebaf-ec67-4eab-8271-5b2354754ac5",
   "metadata": {},
   "outputs": [
    {
     "name": "stdin",
     "output_type": "stream",
     "text": [
      "Enter a string:  jklf,jk jdlkds dil\n"
     ]
    },
    {
     "data": {
      "text/plain": [
       "'Jklf,jk Jdlkds Dil'"
      ]
     },
     "execution_count": 99,
     "metadata": {},
     "output_type": "execute_result"
    }
   ],
   "source": [
    "def capitalize_first_letter(sentence):\n",
    "    \"\"\"\n",
    "    Capitalizes the first letter of each word in the sentence.\n",
    "\n",
    "    Parameters:\n",
    "    - sentence : str\n",
    "        The input sentence in which to capitalize the first letter of each word.\n",
    "\n",
    "    Returns:\n",
    "    - str\n",
    "        A new string with the first letter of each word capitalized.\n",
    "    \"\"\"\n",
    "    return ' '.join(word.capitalize() for word in sentence.split())\n",
    "\n",
    "x = input(\"Enter a string: \")\n",
    "capitalize_first_letter(x)"
   ]
  },
  {
   "cell_type": "markdown",
   "id": "48610ca2-0870-4a83-85e3-59545c417f90",
   "metadata": {},
   "source": [
    "vii. Indicates if a sentence entered by the user is a palindrome."
   ]
  },
  {
   "cell_type": "code",
   "execution_count": 94,
   "id": "ddfa1ca4-4bcf-49c7-97ee-bfd476bce1b9",
   "metadata": {},
   "outputs": [
    {
     "name": "stdin",
     "output_type": "stream",
     "text": [
      "Enter a string:  uimm\n"
     ]
    },
    {
     "data": {
      "text/plain": [
       "False"
      ]
     },
     "execution_count": 94,
     "metadata": {},
     "output_type": "execute_result"
    }
   ],
   "source": [
    "def check_palindrome(string):\n",
    "\n",
    "    \"\"\"\n",
    "    Checks if a given string is a palindrome.\n",
    "\n",
    "    A palindrome is a string that reads the same forward and backward, \n",
    "    ignoring spaces, punctuation, and case. This function compares the \n",
    "    original string with its reversed version.\n",
    "\n",
    "    Parameters:\n",
    "    - string : str\n",
    "        The input string to be checked.\n",
    "\n",
    "    Returns:\n",
    "    - bool\n",
    "        True if the string is a palindrome, False otherwise.\n",
    "    \"\"\"\n",
    "    def reverse_string(string):\n",
    "        reverse = ''\n",
    "        i = len(string)\n",
    "        while i > 0 :\n",
    "            reverse += string[i-1]\n",
    "            i -= 1\n",
    "        return reverse\n",
    "    \n",
    "    if string == reverse_string(string):\n",
    "        return True\n",
    "    else :\n",
    "        return False\n",
    "    \n",
    "x = input(\"Enter a string: \")\n",
    "check_palindrome(x)"
   ]
  },
  {
   "cell_type": "markdown",
   "id": "910b828a-e77d-4e60-b24d-b838f1067639",
   "metadata": {},
   "source": [
    "viii. Reads a text, and a single word, and count out the number of times that it\n",
    "appears in the text."
   ]
  },
  {
   "cell_type": "code",
   "execution_count": 113,
   "id": "0073579c-3cf9-4771-b8e3-e59439d97a20",
   "metadata": {},
   "outputs": [
    {
     "name": "stdin",
     "output_type": "stream",
     "text": [
      "Enter a text:  you and YOu and me thank you\n",
      "Enter a word:  you\n"
     ]
    },
    {
     "data": {
      "text/plain": [
       "3"
      ]
     },
     "execution_count": 113,
     "metadata": {},
     "output_type": "execute_result"
    }
   ],
   "source": [
    "def count_word(word, text):\n",
    "\n",
    "    \"\"\"\n",
    "    Counts the occurrences of a specific word in a given text.\n",
    "\n",
    "    Parameters:\n",
    "    - word : str\n",
    "        The word to count in the text.\n",
    "    - text : str\n",
    "        The input text in which to count occurrences of the word.\n",
    "\n",
    "    Returns:\n",
    "    - int\n",
    "        The number of times the specified word appears in the text.\n",
    "    \"\"\"\n",
    "    \n",
    "    count = 0\n",
    "    words = text.lower().split()\n",
    "    for wor in words :\n",
    "        if wor == word:\n",
    "            count +=1\n",
    "    \n",
    "    return count\n",
    "\n",
    "text = input(\"Enter a text: \")\n",
    "word = input(\"Enter a word: \")\n",
    "count_word(word, text)"
   ]
  },
  {
   "cell_type": "markdown",
   "id": "665c9d4c-9fde-4159-88a5-85fafc0c264a",
   "metadata": {},
   "source": [
    " f) Gymnast Scores\n",
    "\n",
    "A gymnast can earn a score between 1 and 10 from each judge; nothing lower, nothing\n",
    "higher. All scores are integer values; there are no decimal scores from a single judge.\n",
    "Store the possible scores a gymnast can earn from one judge in a tuple. Write python\n",
    "code that prints out the sentence,\n",
    "\"The lowest possible score is ___, and the highest possible score is ___.\"\n",
    "\n",
    "Use the values from your tuple. Write python code that prints out a the series of\n",
    "sentences,\n"
   ]
  },
  {
   "cell_type": "code",
   "execution_count": 78,
   "id": "98384dfe",
   "metadata": {},
   "outputs": [
    {
     "name": "stdout",
     "output_type": "stream",
     "text": [
      "The lowest possible score is 1, and the highest possible score is 10.\n",
      "A judge can give a gymnast 1 point.\n",
      "A judge can give a gymnast 2 points.\n",
      "A judge can give a gymnast 3 points.\n",
      "A judge can give a gymnast 4 points.\n",
      "A judge can give a gymnast 5 points.\n",
      "A judge can give a gymnast 6 points.\n",
      "A judge can give a gymnast 7 points.\n",
      "A judge can give a gymnast 8 points.\n",
      "A judge can give a gymnast 9 points.\n",
      "A judge can give a gymnast 10 points.\n"
     ]
    }
   ],
   "source": [
    "# Define the possible scores\n",
    "scores = tuple(range(1, 11)) \n",
    "\n",
    "# Print the lowest and highest possible scores\n",
    "lowest_score = scores[0]\n",
    "highest_score = scores[-1]\n",
    "\n",
    "print(f\"The lowest possible score is {lowest_score}, and the highest possible score is {highest_score}.\")\n",
    "\n",
    "# Print sentences for each possible score\n",
    "for score in scores:\n",
    "    if score > 1 :\n",
    "        h_score = 's'\n",
    "    else:\n",
    "        h_score = ''\n",
    "    print(f\"A judge can give a gymnast {score} point{h_score}.\")"
   ]
  }
 ],
 "metadata": {
  "kernelspec": {
   "display_name": "Python 3 (ipykernel)",
   "language": "python",
   "name": "python3"
  },
  "language_info": {
   "codemirror_mode": {
    "name": "ipython",
    "version": 3
   },
   "file_extension": ".py",
   "mimetype": "text/x-python",
   "name": "python",
   "nbconvert_exporter": "python",
   "pygments_lexer": "ipython3",
   "version": "3.8.10"
  }
 },
 "nbformat": 4,
 "nbformat_minor": 5
}
